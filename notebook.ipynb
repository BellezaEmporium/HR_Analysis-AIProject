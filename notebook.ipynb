{
 "cells": [
  {
   "cell_type": "markdown",
   "metadata": {
    "cell_id": "bf514ac6-e344-4e7e-9583-a685fcb537ef",
    "deepnote_cell_height": 172.39999389648438,
    "deepnote_cell_type": "markdown",
    "tags": []
   },
   "source": [
    "# Projet Intelligence Artificielle - Proposition de solution pour le client HumanForYou"
   ]
  },
  {
   "cell_type": "markdown",
   "metadata": {
    "cell_id": "db88113f-579f-43ef-bed2-2f84d07d8cf8",
    "deepnote_cell_height": 70,
    "deepnote_cell_type": "text-cell-h2",
    "is_collapsed": true,
    "tags": []
   },
   "source": [
    "## 1. Introduction"
   ]
  },
  {
   "cell_type": "markdown",
   "metadata": {
    "cell_id": "d1bbe2ba-b76e-444f-b377-0c10ea48ad8e",
    "deepnote_cell_type": "text-cell-h3",
    "is_collapsed": false,
    "tags": []
   },
   "source": [
    "### 1.1 Contexte"
   ]
  },
  {
   "cell_type": "markdown",
   "metadata": {
    "cell_id": "59155bbe-7a94-48d6-a200-4a799b864f6e",
    "deepnote_cell_type": "markdown",
    "tags": []
   },
   "source": [
    "L'entreprise de produits pharmaceutiques HumanForYou basée en Inde emploie environ 4000 personnes. Cependant, chaque année elle subit un turn-over d'environ 15% de ses employés nécessitant de retrouver des profils similaires sur le marché de l'emploi.\n",
    "\n",
    "La direction trouve que ce niveau de turn-over n'est pas bon pour l'entreprise car :\n",
    "\n",
    "    - Les projets sur lesquels étaient les employés quittant la société prennent du retard ce qui nuit à la réputation de l'entreprise auprès de ses clients et partenaires.\n",
    "\n",
    "    - Un service de ressources humaines de taille conséquente doit être conservé car il faut avoir les moyens de trouver les nouvelles recrues.\n",
    "\n",
    "    - Du temps est perdu à l'arrivée des nouveaux employés car ils doivent très souvent être formés et ont besoin de temps pour devenir pleinement opérationnels dans leur nouvel environnement.\n",
    "\n",
    "La direction fait donc appel à vous, spécialistes de l'analyse de données, pour déterminer les facteurs ayant le plus d'influence sur ce taux de turn-over et lui proposer des modèles afin d'avoir des pistes d'amélioration pour donner à leurs employés l'envie de rester."
   ]
  },
  {
   "cell_type": "markdown",
   "metadata": {
    "cell_id": "99d2e2a0-6c82-43c6-9b35-0d9290a8308f",
    "deepnote_cell_type": "text-cell-h3",
    "is_collapsed": false,
    "tags": []
   },
   "source": [
    "### 1.2 Importation des bibliothèques utilisées dans le projet"
   ]
  },
  {
   "cell_type": "code",
   "execution_count": null,
   "metadata": {
    "allow_embed": true,
    "cell_id": "a56ad285-3bc8-4361-83b9-3d3d38454c06",
    "deepnote_cell_type": "code",
    "deepnote_to_be_reexecuted": false,
    "execution_millis": 812,
    "execution_start": 1647509359841,
    "source_hash": "99e04dba",
    "tags": []
   },
   "outputs": [],
   "source": [
    "# Import des différentes librairies\n",
    "import pandas as pd #lecture CSV\n",
    "import numpy as np #mathématiques\n",
    "import sklearn as skl #modèle et autres\n",
    "%matplotlib inline\n",
    "import matplotlib  #plotting\n",
    "import matplotlib.pyplot as plt\n",
    "\n",
    "# pour que tout soit lisible\n",
    "plt.rcParams['axes.labelsize'] = 14\n",
    "plt.rcParams['xtick.labelsize'] = 12\n",
    "plt.rcParams['ytick.labelsize'] = 12\n",
    "\n",
    "# Pour splitting des données\n",
    "from sklearn.model_selection import train_test_split\n",
    "\n",
    "# Pour préparation de la pipeline\n",
    "from sklearn.pipeline import Pipeline\n",
    "from sklearn.preprocessing import StandardScaler\n",
    "from sklearn.compose import ColumnTransformer\n",
    "from sklearn.preprocessing import OneHotEncoder\n",
    "\n",
    "# Pour vérification modèle et évaluation\n",
    "from sklearn.model_selection import cross_val_score, cross_val_predict # cross-validation scores\n",
    "from sklearn.metrics import mean_squared_error, mean_absolute_error, precision_score, recall_score, roc_auc_score # RMSE, MAE, precision, recall, courbe en dessous du ROC\n",
    "import math # square root\n",
    "from sklearn.metrics import precision_recall_curve, roc_curve # courbe precision / recall\n",
    "from sklearn.metrics import confusion_matrix # matrice de confusion\n",
    "\n",
    "# Helper pour retirer les warnings liés aux convergences\n",
    "from warnings import simplefilter\n",
    "from sklearn.exceptions import ConvergenceWarning\n",
    "simplefilter(\"ignore\", category=ConvergenceWarning)\n",
    "from sklearn.metrics import f1_score\n",
    "\n",
    "# Régression linéaire\n",
    "from sklearn.linear_model import LinearRegression\n",
    "# Forêt aléatoire\n",
    "from sklearn.ensemble import RandomForestClassifier\n",
    "# Arbre de décision\n",
    "from sklearn.tree import DecisionTreeRegressor\n",
    "# Support Vector Classification\n",
    "from sklearn.svm import SVC\n",
    "# Classifieur binaire\n",
    "from sklearn.linear_model import SGDClassifier\n",
    "# Un bonus, XGBoost\n",
    "import xgboost as xgb"
   ]
  },
  {
   "cell_type": "markdown",
   "metadata": {
    "cell_id": "b385948a-5ce4-4f3a-97f9-cc3848700d7c",
    "deepnote_cell_type": "text-cell-h3",
    "is_collapsed": false,
    "tags": []
   },
   "source": [
    "### 1.3 Helpers"
   ]
  },
  {
   "cell_type": "code",
   "execution_count": null,
   "metadata": {
    "cell_id": "f17f7a32-5c29-414b-a124-a498e5ddcc48",
    "deepnote_cell_type": "code",
    "deepnote_to_be_reexecuted": false,
    "execution_millis": 3,
    "execution_start": 1647509363189,
    "source_hash": "96431dc7",
    "tags": []
   },
   "outputs": [],
   "source": [
    "# Helpers pour MatPlot\n",
    "\n",
    "# Permet de générer la courbe ROC\n",
    "def plot_roc_curve(fpr, tpr, label=None):\n",
    "    plt.plot(fpr, tpr, linewidth=2, label=label)\n",
    "    plt.plot([0, 1], [0, 1], 'k--')\n",
    "    plt.axis([0, 1, 0, 1])\n",
    "    plt.xlabel('Taux de Faux Positifs', fontsize=16)\n",
    "    plt.ylabel('Taux de Vrai Positifs', fontsize=16)\n",
    "\n",
    "# Permet de générer la courbe precision vs. recall\n",
    "def plot_precision_vs_recall(precisions, recalls):\n",
    "    plt.plot(recalls, precisions, \"k-\", linewidth=2)\n",
    "    plt.xlabel(\"Recall\", fontsize=16)\n",
    "    plt.ylabel(\"Precision\", fontsize=16)\n",
    "    plt.axis([0, 1, 0, 1])\n",
    "\n",
    "# Permet de générer la courbe precision, recall et threshold\n",
    "def plot_precision_recall_vs_threshold(precisions, recalls, thresholds):\n",
    "    plt.plot(thresholds, precisions[:-1], \"b-\", label=\"Precision\", linewidth=2)\n",
    "    plt.plot(thresholds, recalls[:-1], \"g-\", label=\"Recall\", linewidth=2)\n",
    "    plt.xlabel(\"Seuil\", fontsize=16)\n",
    "    plt.legend(loc=\"upper left\", fontsize=16)\n",
    "    plt.ylim([0, 1])\n",
    "\n",
    "# Helpers pour affichage résultats\n",
    "\n",
    "def display_scores(scores):\n",
    "    print(\"Scores: \\n\", scores)\n",
    "    print(\"Moyenne:\", scores.mean())\n",
    "    print(\"Ecart-type:\", scores.std())"
   ]
  },
  {
   "cell_type": "markdown",
   "metadata": {
    "cell_id": "2ba0af3a-ebcb-4b21-9a77-46698287742b",
    "deepnote_cell_height": 70,
    "deepnote_cell_type": "text-cell-h2",
    "is_collapsed": true,
    "tags": []
   },
   "source": [
    "## 2. Data Wrangling"
   ]
  },
  {
   "cell_type": "markdown",
   "metadata": {
    "cell_id": "7b45880f-607b-4055-804d-0ec11e4e54cf",
    "deepnote_cell_type": "markdown",
    "tags": []
   },
   "source": [
    "Sur cette partie, nous nettoierons les données et examinerons les différents usages que nous jugeons à la fois non éthiques, et à la fois inutile autant côté données manquantes que dans les données non éthiques."
   ]
  },
  {
   "cell_type": "markdown",
   "metadata": {
    "cell_id": "89599a80-70ae-446c-9951-a67671cce046",
    "deepnote_cell_type": "text-cell-h3",
    "is_collapsed": false,
    "tags": []
   },
   "source": [
    "### 2.1 Ouverture des CSV"
   ]
  },
  {
   "cell_type": "code",
   "execution_count": null,
   "metadata": {
    "cell_id": "ad55a265-a0f7-48f0-88b9-3342db802ccc",
    "deepnote_cell_type": "code",
    "deepnote_to_be_reexecuted": false,
    "execution_millis": 101,
    "execution_start": 1647509366752,
    "source_hash": "93d112ce",
    "tags": []
   },
   "outputs": [
    {
     "data": {
      "application/vnd.deepnote.dataframe.v3+json": {
       "column_count": 24,
       "columns": [
        {
         "dtype": "int64",
         "name": "Age",
         "stats": {
          "histogram": [
           {
            "bin_end": 33,
            "bin_start": 31,
            "count": 3
           },
           {
            "bin_end": 35,
            "bin_start": 33,
            "count": 0
           },
           {
            "bin_end": 37,
            "bin_start": 35,
            "count": 0
           },
           {
            "bin_end": 39,
            "bin_start": 37,
            "count": 1
           },
           {
            "bin_end": 41,
            "bin_start": 39,
            "count": 0
           },
           {
            "bin_end": 43,
            "bin_start": 41,
            "count": 0
           },
           {
            "bin_end": 45,
            "bin_start": 43,
            "count": 0
           },
           {
            "bin_end": 47,
            "bin_start": 45,
            "count": 0
           },
           {
            "bin_end": 49,
            "bin_start": 47,
            "count": 0
           },
           {
            "bin_end": 51,
            "bin_start": 49,
            "count": 1
           }
          ],
          "max": "51",
          "min": "31",
          "nan_count": 0,
          "unique_count": 4
         }
        },
        {
         "dtype": "object",
         "name": "Attrition",
         "stats": {
          "categories": [
           {
            "count": 4,
            "name": "No"
           },
           {
            "count": 1,
            "name": "Yes"
           }
          ],
          "nan_count": 0,
          "unique_count": 2
         }
        },
        {
         "dtype": "object",
         "name": "BusinessTravel",
         "stats": {
          "categories": [
           {
            "count": 2,
            "name": "Travel_Rarely"
           },
           {
            "count": 2,
            "name": "Travel_Frequently"
           },
           {
            "count": 1,
            "name": "Non-Travel"
           }
          ],
          "nan_count": 0,
          "unique_count": 3
         }
        },
        {
         "dtype": "object",
         "name": "Department",
         "stats": {
          "categories": [
           {
            "count": 4,
            "name": "Research & Development"
           },
           {
            "count": 1,
            "name": "Sales"
           }
          ],
          "nan_count": 0,
          "unique_count": 2
         }
        },
        {
         "dtype": "int64",
         "name": "DistanceFromHome",
         "stats": {
          "histogram": [
           {
            "bin_end": 3.5,
            "bin_start": 2,
            "count": 1
           },
           {
            "bin_end": 5,
            "bin_start": 3.5,
            "count": 0
           },
           {
            "bin_end": 6.5,
            "bin_start": 5,
            "count": 1
           },
           {
            "bin_end": 8,
            "bin_start": 6.5,
            "count": 0
           },
           {
            "bin_end": 9.5,
            "bin_start": 8,
            "count": 0
           },
           {
            "bin_end": 11,
            "bin_start": 9.5,
            "count": 2
           },
           {
            "bin_end": 12.5,
            "bin_start": 11,
            "count": 0
           },
           {
            "bin_end": 14,
            "bin_start": 12.5,
            "count": 0
           },
           {
            "bin_end": 15.5,
            "bin_start": 14,
            "count": 0
           },
           {
            "bin_end": 17,
            "bin_start": 15.5,
            "count": 1
           }
          ],
          "max": "17",
          "min": "2",
          "nan_count": 0,
          "unique_count": 4
         }
        },
        {
         "dtype": "int64",
         "name": "Education",
         "stats": {
          "histogram": [
           {
            "bin_end": 1.4,
            "bin_start": 1,
            "count": 2
           },
           {
            "bin_end": 1.8,
            "bin_start": 1.4,
            "count": 0
           },
           {
            "bin_end": 2.2,
            "bin_start": 1.8,
            "count": 1
           },
           {
            "bin_end": 2.6,
            "bin_start": 2.2,
            "count": 0
           },
           {
            "bin_end": 3,
            "bin_start": 2.6,
            "count": 0
           },
           {
            "bin_end": 3.4000000000000004,
            "bin_start": 3,
            "count": 0
           },
           {
            "bin_end": 3.8000000000000003,
            "bin_start": 3.4000000000000004,
            "count": 0
           },
           {
            "bin_end": 4.2,
            "bin_start": 3.8000000000000003,
            "count": 1
           },
           {
            "bin_end": 4.6,
            "bin_start": 4.2,
            "count": 0
           },
           {
            "bin_end": 5,
            "bin_start": 4.6,
            "count": 1
           }
          ],
          "max": "5",
          "min": "1",
          "nan_count": 0,
          "unique_count": 4
         }
        },
        {
         "dtype": "object",
         "name": "EducationField",
         "stats": {
          "categories": [
           {
            "count": 3,
            "name": "Life Sciences"
           },
           {
            "count": 1,
            "name": "Other"
           },
           {
            "count": 1,
            "name": "Medical"
           }
          ],
          "nan_count": 0,
          "unique_count": 3
         }
        },
        {
         "dtype": "int64",
         "name": "EmployeeCount",
         "stats": {
          "histogram": [
           {
            "bin_end": 0.6,
            "bin_start": 0.5,
            "count": 0
           },
           {
            "bin_end": 0.7,
            "bin_start": 0.6,
            "count": 0
           },
           {
            "bin_end": 0.8,
            "bin_start": 0.7,
            "count": 0
           },
           {
            "bin_end": 0.9,
            "bin_start": 0.8,
            "count": 0
           },
           {
            "bin_end": 1,
            "bin_start": 0.9,
            "count": 0
           },
           {
            "bin_end": 1.1,
            "bin_start": 1,
            "count": 5
           },
           {
            "bin_end": 1.2000000000000002,
            "bin_start": 1.1,
            "count": 0
           },
           {
            "bin_end": 1.3,
            "bin_start": 1.2000000000000002,
            "count": 0
           },
           {
            "bin_end": 1.4,
            "bin_start": 1.3,
            "count": 0
           },
           {
            "bin_end": 1.5,
            "bin_start": 1.4,
            "count": 0
           }
          ],
          "max": "1",
          "min": "1",
          "nan_count": 0,
          "unique_count": 1
         }
        },
        {
         "dtype": "int64",
         "name": "EmployeeID",
         "stats": {
          "histogram": [
           {
            "bin_end": 1.4,
            "bin_start": 1,
            "count": 1
           },
           {
            "bin_end": 1.8,
            "bin_start": 1.4,
            "count": 0
           },
           {
            "bin_end": 2.2,
            "bin_start": 1.8,
            "count": 1
           },
           {
            "bin_end": 2.6,
            "bin_start": 2.2,
            "count": 0
           },
           {
            "bin_end": 3,
            "bin_start": 2.6,
            "count": 0
           },
           {
            "bin_end": 3.4000000000000004,
            "bin_start": 3,
            "count": 1
           },
           {
            "bin_end": 3.8000000000000003,
            "bin_start": 3.4000000000000004,
            "count": 0
           },
           {
            "bin_end": 4.2,
            "bin_start": 3.8000000000000003,
            "count": 1
           },
           {
            "bin_end": 4.6,
            "bin_start": 4.2,
            "count": 0
           },
           {
            "bin_end": 5,
            "bin_start": 4.6,
            "count": 1
           }
          ],
          "max": "5",
          "min": "1",
          "nan_count": 0,
          "unique_count": 5
         }
        },
        {
         "dtype": "object",
         "name": "Gender",
         "stats": {
          "categories": [
           {
            "count": 3,
            "name": "Male"
           },
           {
            "count": 2,
            "name": "Female"
           }
          ],
          "nan_count": 0,
          "unique_count": 2
         }
        },
        {
         "dtype": "int64",
         "name": "JobLevel",
         "stats": {
          "histogram": [
           {
            "bin_end": 1.3,
            "bin_start": 1,
            "count": 3
           },
           {
            "bin_end": 1.6,
            "bin_start": 1.3,
            "count": 0
           },
           {
            "bin_end": 1.9,
            "bin_start": 1.6,
            "count": 0
           },
           {
            "bin_end": 2.2,
            "bin_start": 1.9,
            "count": 0
           },
           {
            "bin_end": 2.5,
            "bin_start": 2.2,
            "count": 0
           },
           {
            "bin_end": 2.8,
            "bin_start": 2.5,
            "count": 0
           },
           {
            "bin_end": 3.1,
            "bin_start": 2.8,
            "count": 1
           },
           {
            "bin_end": 3.4,
            "bin_start": 3.1,
            "count": 0
           },
           {
            "bin_end": 3.6999999999999997,
            "bin_start": 3.4,
            "count": 0
           },
           {
            "bin_end": 4,
            "bin_start": 3.6999999999999997,
            "count": 1
           }
          ],
          "max": "4",
          "min": "1",
          "nan_count": 0,
          "unique_count": 3
         }
        },
        {
         "dtype": "object",
         "name": "JobRole",
         "stats": {
          "categories": [
           {
            "count": 2,
            "name": "Sales Executive"
           },
           {
            "count": 1,
            "name": "Healthcare Representative"
           },
           {
            "count": 2,
            "name": "2 others"
           }
          ],
          "nan_count": 0,
          "unique_count": 4
         }
        },
        {
         "dtype": "object",
         "name": "MaritalStatus",
         "stats": {
          "categories": [
           {
            "count": 3,
            "name": "Married"
           },
           {
            "count": 2,
            "name": "Single"
           }
          ],
          "nan_count": 0,
          "unique_count": 2
         }
        },
        {
         "dtype": "int64",
         "name": "MonthlyIncome",
         "stats": {
          "histogram": [
           {
            "bin_end": 40406,
            "bin_start": 23420,
            "count": 1
           },
           {
            "bin_end": 57392,
            "bin_start": 40406,
            "count": 1
           },
           {
            "bin_end": 74378,
            "bin_start": 57392,
            "count": 0
           },
           {
            "bin_end": 91364,
            "bin_start": 74378,
            "count": 1
           },
           {
            "bin_end": 108350,
            "bin_start": 91364,
            "count": 0
           },
           {
            "bin_end": 125336,
            "bin_start": 108350,
            "count": 0
           },
           {
            "bin_end": 142322,
            "bin_start": 125336,
            "count": 1
           },
           {
            "bin_end": 159308,
            "bin_start": 142322,
            "count": 0
           },
           {
            "bin_end": 176294,
            "bin_start": 159308,
            "count": 0
           },
           {
            "bin_end": 193280,
            "bin_start": 176294,
            "count": 1
           }
          ],
          "max": "193280",
          "min": "23420",
          "nan_count": 0,
          "unique_count": 5
         }
        },
        {
         "dtype": "float64",
         "name": "NumCompaniesWorked",
         "stats": {
          "histogram": [
           {
            "bin_end": 0.4,
            "bin_start": 0,
            "count": 1
           },
           {
            "bin_end": 0.8,
            "bin_start": 0.4,
            "count": 0
           },
           {
            "bin_end": 1.2000000000000002,
            "bin_start": 0.8,
            "count": 2
           },
           {
            "bin_end": 1.6,
            "bin_start": 1.2000000000000002,
            "count": 0
           },
           {
            "bin_end": 2,
            "bin_start": 1.6,
            "count": 0
           },
           {
            "bin_end": 2.4000000000000004,
            "bin_start": 2,
            "count": 0
           },
           {
            "bin_end": 2.8000000000000003,
            "bin_start": 2.4000000000000004,
            "count": 0
           },
           {
            "bin_end": 3.2,
            "bin_start": 2.8000000000000003,
            "count": 1
           },
           {
            "bin_end": 3.6,
            "bin_start": 3.2,
            "count": 0
           },
           {
            "bin_end": 4,
            "bin_start": 3.6,
            "count": 1
           }
          ],
          "max": "4.0",
          "min": "0.0",
          "nan_count": 0,
          "unique_count": 4
         }
        },
        {
         "dtype": "object",
         "name": "Over18",
         "stats": {
          "categories": [
           {
            "count": 5,
            "name": "Y"
           }
          ],
          "nan_count": 0,
          "unique_count": 1
         }
        },
        {
         "dtype": "int64",
         "name": "PercentSalaryHike",
         "stats": {
          "histogram": [
           {
            "bin_end": 12.2,
            "bin_start": 11,
            "count": 3
           },
           {
            "bin_end": 13.4,
            "bin_start": 12.2,
            "count": 0
           },
           {
            "bin_end": 14.6,
            "bin_start": 13.4,
            "count": 0
           },
           {
            "bin_end": 15.8,
            "bin_start": 14.6,
            "count": 1
           },
           {
            "bin_end": 17,
            "bin_start": 15.8,
            "count": 0
           },
           {
            "bin_end": 18.2,
            "bin_start": 17,
            "count": 0
           },
           {
            "bin_end": 19.4,
            "bin_start": 18.2,
            "count": 0
           },
           {
            "bin_end": 20.6,
            "bin_start": 19.4,
            "count": 0
           },
           {
            "bin_end": 21.799999999999997,
            "bin_start": 20.6,
            "count": 0
           },
           {
            "bin_end": 23,
            "bin_start": 21.799999999999997,
            "count": 1
           }
          ],
          "max": "23",
          "min": "11",
          "nan_count": 0,
          "unique_count": 4
         }
        },
        {
         "dtype": "int64",
         "name": "StandardHours",
         "stats": {
          "histogram": [
           {
            "bin_end": 7.6,
            "bin_start": 7.5,
            "count": 0
           },
           {
            "bin_end": 7.7,
            "bin_start": 7.6,
            "count": 0
           },
           {
            "bin_end": 7.8,
            "bin_start": 7.7,
            "count": 0
           },
           {
            "bin_end": 7.9,
            "bin_start": 7.8,
            "count": 0
           },
           {
            "bin_end": 8,
            "bin_start": 7.9,
            "count": 0
           },
           {
            "bin_end": 8.1,
            "bin_start": 8,
            "count": 5
           },
           {
            "bin_end": 8.2,
            "bin_start": 8.1,
            "count": 0
           },
           {
            "bin_end": 8.3,
            "bin_start": 8.2,
            "count": 0
           },
           {
            "bin_end": 8.4,
            "bin_start": 8.3,
            "count": 0
           },
           {
            "bin_end": 8.5,
            "bin_start": 8.4,
            "count": 0
           }
          ],
          "max": "8",
          "min": "8",
          "nan_count": 0,
          "unique_count": 1
         }
        },
        {
         "dtype": "int64",
         "name": "StockOptionLevel",
         "stats": {
          "histogram": [
           {
            "bin_end": 0.3,
            "bin_start": 0,
            "count": 1
           },
           {
            "bin_end": 0.6,
            "bin_start": 0.3,
            "count": 0
           },
           {
            "bin_end": 0.8999999999999999,
            "bin_start": 0.6,
            "count": 0
           },
           {
            "bin_end": 1.2,
            "bin_start": 0.8999999999999999,
            "count": 1
           },
           {
            "bin_end": 1.5,
            "bin_start": 1.2,
            "count": 0
           },
           {
            "bin_end": 1.7999999999999998,
            "bin_start": 1.5,
            "count": 0
           },
           {
            "bin_end": 2.1,
            "bin_start": 1.7999999999999998,
            "count": 1
           },
           {
            "bin_end": 2.4,
            "bin_start": 2.1,
            "count": 0
           },
           {
            "bin_end": 2.6999999999999997,
            "bin_start": 2.4,
            "count": 0
           },
           {
            "bin_end": 3,
            "bin_start": 2.6999999999999997,
            "count": 2
           }
          ],
          "max": "3",
          "min": "0",
          "nan_count": 0,
          "unique_count": 4
         }
        },
        {
         "dtype": "float64",
         "name": "TotalWorkingYears",
         "stats": {
          "histogram": [
           {
            "bin_end": 2.2,
            "bin_start": 1,
            "count": 1
           },
           {
            "bin_end": 3.4,
            "bin_start": 2.2,
            "count": 0
           },
           {
            "bin_end": 4.6,
            "bin_start": 3.4,
            "count": 0
           },
           {
            "bin_end": 5.8,
            "bin_start": 4.6,
            "count": 1
           },
           {
            "bin_end": 7,
            "bin_start": 5.8,
            "count": 1
           },
           {
            "bin_end": 8.2,
            "bin_start": 7,
            "count": 0
           },
           {
            "bin_end": 9.4,
            "bin_start": 8.2,
            "count": 1
           },
           {
            "bin_end": 10.6,
            "bin_start": 9.4,
            "count": 0
           },
           {
            "bin_end": 11.799999999999999,
            "bin_start": 10.6,
            "count": 0
           },
           {
            "bin_end": 13,
            "bin_start": 11.799999999999999,
            "count": 1
           }
          ],
          "max": "13.0",
          "min": "1.0",
          "nan_count": 0,
          "unique_count": 5
         }
        },
        {
         "dtype": "int64",
         "name": "TrainingTimesLastYear",
         "stats": {
          "histogram": [
           {
            "bin_end": 2.4,
            "bin_start": 2,
            "count": 2
           },
           {
            "bin_end": 2.8,
            "bin_start": 2.4,
            "count": 0
           },
           {
            "bin_end": 3.2,
            "bin_start": 2.8,
            "count": 1
           },
           {
            "bin_end": 3.6,
            "bin_start": 3.2,
            "count": 0
           },
           {
            "bin_end": 4,
            "bin_start": 3.6,
            "count": 0
           },
           {
            "bin_end": 4.4,
            "bin_start": 4,
            "count": 0
           },
           {
            "bin_end": 4.800000000000001,
            "bin_start": 4.4,
            "count": 0
           },
           {
            "bin_end": 5.2,
            "bin_start": 4.800000000000001,
            "count": 1
           },
           {
            "bin_end": 5.6,
            "bin_start": 5.2,
            "count": 0
           },
           {
            "bin_end": 6,
            "bin_start": 5.6,
            "count": 1
           }
          ],
          "max": "6",
          "min": "2",
          "nan_count": 0,
          "unique_count": 4
         }
        },
        {
         "dtype": "int64",
         "name": "YearsAtCompany",
         "stats": {
          "histogram": [
           {
            "bin_end": 1.7,
            "bin_start": 1,
            "count": 1
           },
           {
            "bin_end": 2.4,
            "bin_start": 1.7,
            "count": 0
           },
           {
            "bin_end": 3.0999999999999996,
            "bin_start": 2.4,
            "count": 0
           },
           {
            "bin_end": 3.8,
            "bin_start": 3.0999999999999996,
            "count": 0
           },
           {
            "bin_end": 4.5,
            "bin_start": 3.8,
            "count": 0
           },
           {
            "bin_end": 5.199999999999999,
            "bin_start": 4.5,
            "count": 2
           },
           {
            "bin_end": 5.8999999999999995,
            "bin_start": 5.199999999999999,
            "count": 0
           },
           {
            "bin_end": 6.6,
            "bin_start": 5.8999999999999995,
            "count": 1
           },
           {
            "bin_end": 7.3,
            "bin_start": 6.6,
            "count": 0
           },
           {
            "bin_end": 8,
            "bin_start": 7.3,
            "count": 1
           }
          ],
          "max": "8",
          "min": "1",
          "nan_count": 0,
          "unique_count": 4
         }
        },
        {
         "dtype": "int64",
         "name": "YearsSinceLastPromotion",
         "stats": {
          "histogram": [
           {
            "bin_end": 0.7,
            "bin_start": 0,
            "count": 3
           },
           {
            "bin_end": 1.4,
            "bin_start": 0.7,
            "count": 1
           },
           {
            "bin_end": 2.0999999999999996,
            "bin_start": 1.4,
            "count": 0
           },
           {
            "bin_end": 2.8,
            "bin_start": 2.0999999999999996,
            "count": 0
           },
           {
            "bin_end": 3.5,
            "bin_start": 2.8,
            "count": 0
           },
           {
            "bin_end": 4.199999999999999,
            "bin_start": 3.5,
            "count": 0
           },
           {
            "bin_end": 4.8999999999999995,
            "bin_start": 4.199999999999999,
            "count": 0
           },
           {
            "bin_end": 5.6,
            "bin_start": 4.8999999999999995,
            "count": 0
           },
           {
            "bin_end": 6.3,
            "bin_start": 5.6,
            "count": 0
           },
           {
            "bin_end": 7,
            "bin_start": 6.3,
            "count": 1
           }
          ],
          "max": "7",
          "min": "0",
          "nan_count": 0,
          "unique_count": 3
         }
        },
        {
         "dtype": "int64",
         "name": "YearsWithCurrManager",
         "stats": {
          "histogram": [
           {
            "bin_end": 0.5,
            "bin_start": 0,
            "count": 1
           },
           {
            "bin_end": 1,
            "bin_start": 0.5,
            "count": 0
           },
           {
            "bin_end": 1.5,
            "bin_start": 1,
            "count": 0
           },
           {
            "bin_end": 2,
            "bin_start": 1.5,
            "count": 0
           },
           {
            "bin_end": 2.5,
            "bin_start": 2,
            "count": 0
           },
           {
            "bin_end": 3,
            "bin_start": 2.5,
            "count": 0
           },
           {
            "bin_end": 3.5,
            "bin_start": 3,
            "count": 1
           },
           {
            "bin_end": 4,
            "bin_start": 3.5,
            "count": 0
           },
           {
            "bin_end": 4.5,
            "bin_start": 4,
            "count": 2
           },
           {
            "bin_end": 5,
            "bin_start": 4.5,
            "count": 1
           }
          ],
          "max": "5",
          "min": "0",
          "nan_count": 0,
          "unique_count": 4
         }
        },
        {
         "dtype": "int64",
         "name": "_deepnote_index_column"
        }
       ],
       "row_count": 5,
       "rows": [
        {
         "Age": 51,
         "Attrition": "No",
         "BusinessTravel": "Travel_Rarely",
         "Department": "Sales",
         "DistanceFromHome": 6,
         "Education": 2,
         "EducationField": "Life Sciences",
         "EmployeeCount": 1,
         "EmployeeID": 1,
         "Gender": "Female",
         "JobLevel": 1,
         "JobRole": "Healthcare Representative",
         "MaritalStatus": "Married",
         "MonthlyIncome": 131160,
         "NumCompaniesWorked": 1,
         "Over18": "Y",
         "PercentSalaryHike": 11,
         "StandardHours": 8,
         "StockOptionLevel": 0,
         "TotalWorkingYears": 1,
         "TrainingTimesLastYear": 6,
         "YearsAtCompany": 1,
         "YearsSinceLastPromotion": 0,
         "YearsWithCurrManager": 0,
         "_deepnote_index_column": 0
        },
        {
         "Age": 31,
         "Attrition": "Yes",
         "BusinessTravel": "Travel_Frequently",
         "Department": "Research & Development",
         "DistanceFromHome": 10,
         "Education": 1,
         "EducationField": "Life Sciences",
         "EmployeeCount": 1,
         "EmployeeID": 2,
         "Gender": "Female",
         "JobLevel": 1,
         "JobRole": "Research Scientist",
         "MaritalStatus": "Single",
         "MonthlyIncome": 41890,
         "NumCompaniesWorked": 0,
         "Over18": "Y",
         "PercentSalaryHike": 23,
         "StandardHours": 8,
         "StockOptionLevel": 1,
         "TotalWorkingYears": 6,
         "TrainingTimesLastYear": 3,
         "YearsAtCompany": 5,
         "YearsSinceLastPromotion": 1,
         "YearsWithCurrManager": 4,
         "_deepnote_index_column": 1
        },
        {
         "Age": 32,
         "Attrition": "No",
         "BusinessTravel": "Travel_Frequently",
         "Department": "Research & Development",
         "DistanceFromHome": 17,
         "Education": 4,
         "EducationField": "Other",
         "EmployeeCount": 1,
         "EmployeeID": 3,
         "Gender": "Male",
         "JobLevel": 4,
         "JobRole": "Sales Executive",
         "MaritalStatus": "Married",
         "MonthlyIncome": 193280,
         "NumCompaniesWorked": 1,
         "Over18": "Y",
         "PercentSalaryHike": 15,
         "StandardHours": 8,
         "StockOptionLevel": 3,
         "TotalWorkingYears": 5,
         "TrainingTimesLastYear": 2,
         "YearsAtCompany": 5,
         "YearsSinceLastPromotion": 0,
         "YearsWithCurrManager": 3,
         "_deepnote_index_column": 2
        },
        {
         "Age": 38,
         "Attrition": "No",
         "BusinessTravel": "Non-Travel",
         "Department": "Research & Development",
         "DistanceFromHome": 2,
         "Education": 5,
         "EducationField": "Life Sciences",
         "EmployeeCount": 1,
         "EmployeeID": 4,
         "Gender": "Male",
         "JobLevel": 3,
         "JobRole": "Human Resources",
         "MaritalStatus": "Married",
         "MonthlyIncome": 83210,
         "NumCompaniesWorked": 3,
         "Over18": "Y",
         "PercentSalaryHike": 11,
         "StandardHours": 8,
         "StockOptionLevel": 3,
         "TotalWorkingYears": 13,
         "TrainingTimesLastYear": 5,
         "YearsAtCompany": 8,
         "YearsSinceLastPromotion": 7,
         "YearsWithCurrManager": 5,
         "_deepnote_index_column": 3
        },
        {
         "Age": 32,
         "Attrition": "No",
         "BusinessTravel": "Travel_Rarely",
         "Department": "Research & Development",
         "DistanceFromHome": 10,
         "Education": 1,
         "EducationField": "Medical",
         "EmployeeCount": 1,
         "EmployeeID": 5,
         "Gender": "Male",
         "JobLevel": 1,
         "JobRole": "Sales Executive",
         "MaritalStatus": "Single",
         "MonthlyIncome": 23420,
         "NumCompaniesWorked": 4,
         "Over18": "Y",
         "PercentSalaryHike": 12,
         "StandardHours": 8,
         "StockOptionLevel": 2,
         "TotalWorkingYears": 9,
         "TrainingTimesLastYear": 2,
         "YearsAtCompany": 6,
         "YearsSinceLastPromotion": 0,
         "YearsWithCurrManager": 4,
         "_deepnote_index_column": 4
        }
       ]
      },
      "text/html": [
       "<div>\n",
       "<style scoped>\n",
       "    .dataframe tbody tr th:only-of-type {\n",
       "        vertical-align: middle;\n",
       "    }\n",
       "\n",
       "    .dataframe tbody tr th {\n",
       "        vertical-align: top;\n",
       "    }\n",
       "\n",
       "    .dataframe thead th {\n",
       "        text-align: right;\n",
       "    }\n",
       "</style>\n",
       "<table border=\"1\" class=\"dataframe\">\n",
       "  <thead>\n",
       "    <tr style=\"text-align: right;\">\n",
       "      <th></th>\n",
       "      <th>Age</th>\n",
       "      <th>Attrition</th>\n",
       "      <th>BusinessTravel</th>\n",
       "      <th>Department</th>\n",
       "      <th>DistanceFromHome</th>\n",
       "      <th>Education</th>\n",
       "      <th>EducationField</th>\n",
       "      <th>EmployeeCount</th>\n",
       "      <th>EmployeeID</th>\n",
       "      <th>Gender</th>\n",
       "      <th>...</th>\n",
       "      <th>NumCompaniesWorked</th>\n",
       "      <th>Over18</th>\n",
       "      <th>PercentSalaryHike</th>\n",
       "      <th>StandardHours</th>\n",
       "      <th>StockOptionLevel</th>\n",
       "      <th>TotalWorkingYears</th>\n",
       "      <th>TrainingTimesLastYear</th>\n",
       "      <th>YearsAtCompany</th>\n",
       "      <th>YearsSinceLastPromotion</th>\n",
       "      <th>YearsWithCurrManager</th>\n",
       "    </tr>\n",
       "  </thead>\n",
       "  <tbody>\n",
       "    <tr>\n",
       "      <th>0</th>\n",
       "      <td>51</td>\n",
       "      <td>No</td>\n",
       "      <td>Travel_Rarely</td>\n",
       "      <td>Sales</td>\n",
       "      <td>6</td>\n",
       "      <td>2</td>\n",
       "      <td>Life Sciences</td>\n",
       "      <td>1</td>\n",
       "      <td>1</td>\n",
       "      <td>Female</td>\n",
       "      <td>...</td>\n",
       "      <td>1.0</td>\n",
       "      <td>Y</td>\n",
       "      <td>11</td>\n",
       "      <td>8</td>\n",
       "      <td>0</td>\n",
       "      <td>1.0</td>\n",
       "      <td>6</td>\n",
       "      <td>1</td>\n",
       "      <td>0</td>\n",
       "      <td>0</td>\n",
       "    </tr>\n",
       "    <tr>\n",
       "      <th>1</th>\n",
       "      <td>31</td>\n",
       "      <td>Yes</td>\n",
       "      <td>Travel_Frequently</td>\n",
       "      <td>Research &amp; Development</td>\n",
       "      <td>10</td>\n",
       "      <td>1</td>\n",
       "      <td>Life Sciences</td>\n",
       "      <td>1</td>\n",
       "      <td>2</td>\n",
       "      <td>Female</td>\n",
       "      <td>...</td>\n",
       "      <td>0.0</td>\n",
       "      <td>Y</td>\n",
       "      <td>23</td>\n",
       "      <td>8</td>\n",
       "      <td>1</td>\n",
       "      <td>6.0</td>\n",
       "      <td>3</td>\n",
       "      <td>5</td>\n",
       "      <td>1</td>\n",
       "      <td>4</td>\n",
       "    </tr>\n",
       "    <tr>\n",
       "      <th>2</th>\n",
       "      <td>32</td>\n",
       "      <td>No</td>\n",
       "      <td>Travel_Frequently</td>\n",
       "      <td>Research &amp; Development</td>\n",
       "      <td>17</td>\n",
       "      <td>4</td>\n",
       "      <td>Other</td>\n",
       "      <td>1</td>\n",
       "      <td>3</td>\n",
       "      <td>Male</td>\n",
       "      <td>...</td>\n",
       "      <td>1.0</td>\n",
       "      <td>Y</td>\n",
       "      <td>15</td>\n",
       "      <td>8</td>\n",
       "      <td>3</td>\n",
       "      <td>5.0</td>\n",
       "      <td>2</td>\n",
       "      <td>5</td>\n",
       "      <td>0</td>\n",
       "      <td>3</td>\n",
       "    </tr>\n",
       "    <tr>\n",
       "      <th>3</th>\n",
       "      <td>38</td>\n",
       "      <td>No</td>\n",
       "      <td>Non-Travel</td>\n",
       "      <td>Research &amp; Development</td>\n",
       "      <td>2</td>\n",
       "      <td>5</td>\n",
       "      <td>Life Sciences</td>\n",
       "      <td>1</td>\n",
       "      <td>4</td>\n",
       "      <td>Male</td>\n",
       "      <td>...</td>\n",
       "      <td>3.0</td>\n",
       "      <td>Y</td>\n",
       "      <td>11</td>\n",
       "      <td>8</td>\n",
       "      <td>3</td>\n",
       "      <td>13.0</td>\n",
       "      <td>5</td>\n",
       "      <td>8</td>\n",
       "      <td>7</td>\n",
       "      <td>5</td>\n",
       "    </tr>\n",
       "    <tr>\n",
       "      <th>4</th>\n",
       "      <td>32</td>\n",
       "      <td>No</td>\n",
       "      <td>Travel_Rarely</td>\n",
       "      <td>Research &amp; Development</td>\n",
       "      <td>10</td>\n",
       "      <td>1</td>\n",
       "      <td>Medical</td>\n",
       "      <td>1</td>\n",
       "      <td>5</td>\n",
       "      <td>Male</td>\n",
       "      <td>...</td>\n",
       "      <td>4.0</td>\n",
       "      <td>Y</td>\n",
       "      <td>12</td>\n",
       "      <td>8</td>\n",
       "      <td>2</td>\n",
       "      <td>9.0</td>\n",
       "      <td>2</td>\n",
       "      <td>6</td>\n",
       "      <td>0</td>\n",
       "      <td>4</td>\n",
       "    </tr>\n",
       "  </tbody>\n",
       "</table>\n",
       "<p>5 rows × 24 columns</p>\n",
       "</div>"
      ],
      "text/plain": [
       "   Age Attrition     BusinessTravel              Department  DistanceFromHome  \\\n",
       "0   51        No      Travel_Rarely                   Sales                 6   \n",
       "1   31       Yes  Travel_Frequently  Research & Development                10   \n",
       "2   32        No  Travel_Frequently  Research & Development                17   \n",
       "3   38        No         Non-Travel  Research & Development                 2   \n",
       "4   32        No      Travel_Rarely  Research & Development                10   \n",
       "\n",
       "   Education EducationField  EmployeeCount  EmployeeID  Gender  ...  \\\n",
       "0          2  Life Sciences              1           1  Female  ...   \n",
       "1          1  Life Sciences              1           2  Female  ...   \n",
       "2          4          Other              1           3    Male  ...   \n",
       "3          5  Life Sciences              1           4    Male  ...   \n",
       "4          1        Medical              1           5    Male  ...   \n",
       "\n",
       "   NumCompaniesWorked Over18 PercentSalaryHike  StandardHours  \\\n",
       "0                 1.0      Y                11              8   \n",
       "1                 0.0      Y                23              8   \n",
       "2                 1.0      Y                15              8   \n",
       "3                 3.0      Y                11              8   \n",
       "4                 4.0      Y                12              8   \n",
       "\n",
       "   StockOptionLevel TotalWorkingYears  TrainingTimesLastYear  YearsAtCompany  \\\n",
       "0                 0               1.0                      6               1   \n",
       "1                 1               6.0                      3               5   \n",
       "2                 3               5.0                      2               5   \n",
       "3                 3              13.0                      5               8   \n",
       "4                 2               9.0                      2               6   \n",
       "\n",
       "   YearsSinceLastPromotion  YearsWithCurrManager  \n",
       "0                        0                     0  \n",
       "1                        1                     4  \n",
       "2                        0                     3  \n",
       "3                        7                     5  \n",
       "4                        0                     4  \n",
       "\n",
       "[5 rows x 24 columns]"
      ]
     },
     "execution_count": 4,
     "metadata": {},
     "output_type": "execute_result"
    }
   ],
   "source": [
    "# Ouverture des CSV\n",
    "dataframe_general = pd.read_csv('./general_data.csv')\n",
    "dataframe_employee_srv = pd.read_csv('./employee_survey_data.csv')\n",
    "dataframe_manager_srv = pd.read_csv('./manager_survey_data.csv')\n",
    "\n",
    "#Vérification\n",
    "dataframe_general.head()"
   ]
  },
  {
   "cell_type": "markdown",
   "metadata": {
    "cell_id": "2c342e18-0a20-4d0f-a4c6-12f068b19053",
    "deepnote_cell_type": "text-cell-h3",
    "is_collapsed": false,
    "tags": []
   },
   "source": [
    "### 2.2 Enrichissement"
   ]
  },
  {
   "cell_type": "markdown",
   "metadata": {
    "cell_id": "338b5f44-2beb-4a57-9068-18db4fcd60da",
    "deepnote_cell_type": "markdown",
    "tags": []
   },
   "source": [
    "Les données ont un indicateur commun : l'identifiant employé, autrement appelé employeeID.\n",
    "\n",
    "Ceci nous permet donc de fusionner nos dataframes en une seule : fusioned_dataframe.\n",
    "\n",
    "Faisons ainsi :"
   ]
  },
  {
   "cell_type": "code",
   "execution_count": null,
   "metadata": {
    "cell_id": "90c8df0d-efdb-4276-ba1a-82bfcc9fef45",
    "deepnote_cell_type": "code",
    "deepnote_to_be_reexecuted": false,
    "execution_millis": 17,
    "execution_start": 1647509368867,
    "source_hash": "5677a552",
    "tags": []
   },
   "outputs": [],
   "source": [
    "# Jointure des fichiers\n",
    "fusioned_dataframe = dataframe_general.merge(dataframe_employee_srv).merge(dataframe_manager_srv)"
   ]
  },
  {
   "cell_type": "markdown",
   "metadata": {
    "cell_id": "9a2fc582-f586-49c4-9d1e-c3b89cb8b73b",
    "deepnote_cell_type": "text-cell-h3",
    "is_collapsed": false,
    "tags": []
   },
   "source": [
    "### 2.3 Nettoyage"
   ]
  },
  {
   "cell_type": "markdown",
   "metadata": {
    "cell_id": "58007ab5-8b45-4135-9dc3-3ad4b08db016",
    "deepnote_cell_type": "markdown",
    "tags": []
   },
   "source": [
    "#### Drop de données inutiles ou non étiques"
   ]
  },
  {
   "cell_type": "code",
   "execution_count": null,
   "metadata": {
    "cell_id": "bb6b3d85-134a-4554-b20e-d0764943e692",
    "deepnote_cell_type": "code",
    "deepnote_to_be_reexecuted": false,
    "execution_millis": 7,
    "execution_start": 1647509370750,
    "source_hash": "d6c36cdb",
    "tags": []
   },
   "outputs": [],
   "source": [
    "filtered_dataframe = fusioned_dataframe.drop(['EmployeeCount', 'Over18', 'MaritalStatus', 'StandardHours', 'EmployeeID'], axis= 1)"
   ]
  },
  {
   "cell_type": "markdown",
   "metadata": {
    "cell_id": "5c721388-6ae4-4bc0-9793-9a66a214ea79",
    "deepnote_cell_type": "markdown",
    "tags": []
   },
   "source": [
    "#### Analyse des données manquantes"
   ]
  },
  {
   "cell_type": "code",
   "execution_count": null,
   "metadata": {
    "cell_id": "7b2b4823-f235-4a64-a6d5-6c9cc2082f17",
    "deepnote_cell_type": "code",
    "deepnote_table_loading": false,
    "deepnote_table_state": {
     "filters": [],
     "pageIndex": 0,
     "pageSize": 10,
     "sortBy": []
    },
    "deepnote_to_be_reexecuted": false,
    "execution_millis": 68,
    "execution_start": 1647509372600,
    "source_hash": "340a9a96",
    "tags": []
   },
   "outputs": [
    {
     "data": {
      "application/vnd.deepnote.dataframe.v3+json": {
       "column_count": 24,
       "columns": [
        {
         "dtype": "int64",
         "name": "Age",
         "stats": {
          "histogram": [
           {
            "bin_end": 21.8,
            "bin_start": 18,
            "count": 3
           },
           {
            "bin_end": 25.6,
            "bin_start": 21.8,
            "count": 3
           },
           {
            "bin_end": 29.4,
            "bin_start": 25.6,
            "count": 18
           },
           {
            "bin_end": 33.2,
            "bin_start": 29.4,
            "count": 17
           },
           {
            "bin_end": 37,
            "bin_start": 33.2,
            "count": 17
           },
           {
            "bin_end": 40.8,
            "bin_start": 37,
            "count": 17
           },
           {
            "bin_end": 44.599999999999994,
            "bin_start": 40.8,
            "count": 14
           },
           {
            "bin_end": 48.4,
            "bin_start": 44.599999999999994,
            "count": 8
           },
           {
            "bin_end": 52.199999999999996,
            "bin_start": 48.4,
            "count": 7
           },
           {
            "bin_end": 56,
            "bin_start": 52.199999999999996,
            "count": 6
           }
          ],
          "max": "56",
          "min": "18",
          "nan_count": 0,
          "unique_count": 34
         }
        },
        {
         "dtype": "object",
         "name": "Attrition",
         "stats": {
          "categories": [
           {
            "count": 94,
            "name": "No"
           },
           {
            "count": 16,
            "name": "Yes"
           }
          ],
          "nan_count": 0,
          "unique_count": 2
         }
        },
        {
         "dtype": "object",
         "name": "BusinessTravel",
         "stats": {
          "categories": [
           {
            "count": 78,
            "name": "Travel_Rarely"
           },
           {
            "count": 22,
            "name": "Travel_Frequently"
           },
           {
            "count": 10,
            "name": "Non-Travel"
           }
          ],
          "nan_count": 0,
          "unique_count": 3
         }
        },
        {
         "dtype": "object",
         "name": "Department",
         "stats": {
          "categories": [
           {
            "count": 76,
            "name": "Research & Development"
           },
           {
            "count": 31,
            "name": "Sales"
           },
           {
            "count": 3,
            "name": "Human Resources"
           }
          ],
          "nan_count": 0,
          "unique_count": 3
         }
        },
        {
         "dtype": "int64",
         "name": "DistanceFromHome",
         "stats": {
          "histogram": [
           {
            "bin_end": 3.8,
            "bin_start": 1,
            "count": 40
           },
           {
            "bin_end": 6.6,
            "bin_start": 3.8,
            "count": 21
           },
           {
            "bin_end": 9.399999999999999,
            "bin_start": 6.6,
            "count": 15
           },
           {
            "bin_end": 12.2,
            "bin_start": 9.399999999999999,
            "count": 4
           },
           {
            "bin_end": 15,
            "bin_start": 12.2,
            "count": 4
           },
           {
            "bin_end": 17.799999999999997,
            "bin_start": 15,
            "count": 2
           },
           {
            "bin_end": 20.599999999999998,
            "bin_start": 17.799999999999997,
            "count": 5
           },
           {
            "bin_end": 23.4,
            "bin_start": 20.599999999999998,
            "count": 8
           },
           {
            "bin_end": 26.2,
            "bin_start": 23.4,
            "count": 7
           },
           {
            "bin_end": 29,
            "bin_start": 26.2,
            "count": 4
           }
          ],
          "max": "29",
          "min": "1",
          "nan_count": 0,
          "unique_count": 27
         }
        },
        {
         "dtype": "int64",
         "name": "Education",
         "stats": {
          "histogram": [
           {
            "bin_end": 1.4,
            "bin_start": 1,
            "count": 11
           },
           {
            "bin_end": 1.8,
            "bin_start": 1.4,
            "count": 0
           },
           {
            "bin_end": 2.2,
            "bin_start": 1.8,
            "count": 23
           },
           {
            "bin_end": 2.6,
            "bin_start": 2.2,
            "count": 0
           },
           {
            "bin_end": 3,
            "bin_start": 2.6,
            "count": 0
           },
           {
            "bin_end": 3.4000000000000004,
            "bin_start": 3,
            "count": 46
           },
           {
            "bin_end": 3.8000000000000003,
            "bin_start": 3.4000000000000004,
            "count": 0
           },
           {
            "bin_end": 4.2,
            "bin_start": 3.8000000000000003,
            "count": 26
           },
           {
            "bin_end": 4.6,
            "bin_start": 4.2,
            "count": 0
           },
           {
            "bin_end": 5,
            "bin_start": 4.6,
            "count": 4
           }
          ],
          "max": "5",
          "min": "1",
          "nan_count": 0,
          "unique_count": 5
         }
        },
        {
         "dtype": "object",
         "name": "EducationField",
         "stats": {
          "categories": [
           {
            "count": 52,
            "name": "Life Sciences"
           },
           {
            "count": 28,
            "name": "Medical"
           },
           {
            "count": 30,
            "name": "4 others"
           }
          ],
          "nan_count": 0,
          "unique_count": 6
         }
        },
        {
         "dtype": "object",
         "name": "Gender",
         "stats": {
          "categories": [
           {
            "count": 75,
            "name": "Male"
           },
           {
            "count": 35,
            "name": "Female"
           }
          ],
          "nan_count": 0,
          "unique_count": 2
         }
        },
        {
         "dtype": "int64",
         "name": "JobLevel",
         "stats": {
          "histogram": [
           {
            "bin_end": 1.4,
            "bin_start": 1,
            "count": 47
           },
           {
            "bin_end": 1.8,
            "bin_start": 1.4,
            "count": 0
           },
           {
            "bin_end": 2.2,
            "bin_start": 1.8,
            "count": 39
           },
           {
            "bin_end": 2.6,
            "bin_start": 2.2,
            "count": 0
           },
           {
            "bin_end": 3,
            "bin_start": 2.6,
            "count": 0
           },
           {
            "bin_end": 3.4000000000000004,
            "bin_start": 3,
            "count": 13
           },
           {
            "bin_end": 3.8000000000000003,
            "bin_start": 3.4000000000000004,
            "count": 0
           },
           {
            "bin_end": 4.2,
            "bin_start": 3.8000000000000003,
            "count": 5
           },
           {
            "bin_end": 4.6,
            "bin_start": 4.2,
            "count": 0
           },
           {
            "bin_end": 5,
            "bin_start": 4.6,
            "count": 6
           }
          ],
          "max": "5",
          "min": "1",
          "nan_count": 0,
          "unique_count": 5
         }
        },
        {
         "dtype": "object",
         "name": "JobRole",
         "stats": {
          "categories": [
           {
            "count": 22,
            "name": "Sales Executive"
           },
           {
            "count": 20,
            "name": "Laboratory Technician"
           },
           {
            "count": 68,
            "name": "7 others"
           }
          ],
          "nan_count": 0,
          "unique_count": 9
         }
        },
        {
         "dtype": "int64",
         "name": "MonthlyIncome",
         "stats": {
          "histogram": [
           {
            "bin_end": 29576,
            "bin_start": 10810,
            "count": 35
           },
           {
            "bin_end": 48342,
            "bin_start": 29576,
            "count": 24
           },
           {
            "bin_end": 67108,
            "bin_start": 48342,
            "count": 16
           },
           {
            "bin_end": 85874,
            "bin_start": 67108,
            "count": 10
           },
           {
            "bin_end": 104640,
            "bin_start": 85874,
            "count": 9
           },
           {
            "bin_end": 123406,
            "bin_start": 104640,
            "count": 2
           },
           {
            "bin_end": 142172,
            "bin_start": 123406,
            "count": 3
           },
           {
            "bin_end": 160938,
            "bin_start": 142172,
            "count": 0
           },
           {
            "bin_end": 179704,
            "bin_start": 160938,
            "count": 6
           },
           {
            "bin_end": 198470,
            "bin_start": 179704,
            "count": 5
           }
          ],
          "max": "198470",
          "min": "10810",
          "nan_count": 0,
          "unique_count": 102
         }
        },
        {
         "dtype": "float64",
         "name": "NumCompaniesWorked",
         "stats": {
          "histogram": [
           {
            "bin_end": 0.9,
            "bin_start": 0,
            "count": 16
           },
           {
            "bin_end": 1.8,
            "bin_start": 0.9,
            "count": 23
           },
           {
            "bin_end": 2.7,
            "bin_start": 1.8,
            "count": 11
           },
           {
            "bin_end": 3.6,
            "bin_start": 2.7,
            "count": 8
           },
           {
            "bin_end": 4.5,
            "bin_start": 3.6,
            "count": 11
           },
           {
            "bin_end": 5.4,
            "bin_start": 4.5,
            "count": 2
           },
           {
            "bin_end": 6.3,
            "bin_start": 5.4,
            "count": 7
           },
           {
            "bin_end": 7.2,
            "bin_start": 6.3,
            "count": 5
           },
           {
            "bin_end": 8.1,
            "bin_start": 7.2,
            "count": 6
           },
           {
            "bin_end": 9,
            "bin_start": 8.1,
            "count": 2
           }
          ],
          "max": "9.0",
          "min": "0.0",
          "nan_count": 19,
          "unique_count": 10
         }
        },
        {
         "dtype": "int64",
         "name": "PercentSalaryHike",
         "stats": {
          "histogram": [
           {
            "bin_end": 12.3,
            "bin_start": 11,
            "count": 31
           },
           {
            "bin_end": 13.6,
            "bin_start": 12.3,
            "count": 11
           },
           {
            "bin_end": 14.9,
            "bin_start": 13.6,
            "count": 20
           },
           {
            "bin_end": 16.2,
            "bin_start": 14.9,
            "count": 11
           },
           {
            "bin_end": 17.5,
            "bin_start": 16.2,
            "count": 10
           },
           {
            "bin_end": 18.8,
            "bin_start": 17.5,
            "count": 7
           },
           {
            "bin_end": 20.1,
            "bin_start": 18.8,
            "count": 11
           },
           {
            "bin_end": 21.4,
            "bin_start": 20.1,
            "count": 2
           },
           {
            "bin_end": 22.700000000000003,
            "bin_start": 21.4,
            "count": 1
           },
           {
            "bin_end": 24,
            "bin_start": 22.700000000000003,
            "count": 6
           }
          ],
          "max": "24",
          "min": "11",
          "nan_count": 0,
          "unique_count": 14
         }
        },
        {
         "dtype": "int64",
         "name": "StockOptionLevel",
         "stats": {
          "histogram": [
           {
            "bin_end": 0.3,
            "bin_start": 0,
            "count": 47
           },
           {
            "bin_end": 0.6,
            "bin_start": 0.3,
            "count": 0
           },
           {
            "bin_end": 0.8999999999999999,
            "bin_start": 0.6,
            "count": 0
           },
           {
            "bin_end": 1.2,
            "bin_start": 0.8999999999999999,
            "count": 50
           },
           {
            "bin_end": 1.5,
            "bin_start": 1.2,
            "count": 0
           },
           {
            "bin_end": 1.7999999999999998,
            "bin_start": 1.5,
            "count": 0
           },
           {
            "bin_end": 2.1,
            "bin_start": 1.7999999999999998,
            "count": 8
           },
           {
            "bin_end": 2.4,
            "bin_start": 2.1,
            "count": 0
           },
           {
            "bin_end": 2.6999999999999997,
            "bin_start": 2.4,
            "count": 0
           },
           {
            "bin_end": 3,
            "bin_start": 2.6999999999999997,
            "count": 5
           }
          ],
          "max": "3",
          "min": "0",
          "nan_count": 0,
          "unique_count": 4
         }
        },
        {
         "dtype": "float64",
         "name": "TotalWorkingYears",
         "stats": {
          "histogram": [
           {
            "bin_end": 3.4,
            "bin_start": 0,
            "count": 8
           },
           {
            "bin_end": 6.8,
            "bin_start": 3.4,
            "count": 20
           },
           {
            "bin_end": 10.2,
            "bin_start": 6.8,
            "count": 41
           },
           {
            "bin_end": 13.6,
            "bin_start": 10.2,
            "count": 4
           },
           {
            "bin_end": 17,
            "bin_start": 13.6,
            "count": 8
           },
           {
            "bin_end": 20.4,
            "bin_start": 17,
            "count": 4
           },
           {
            "bin_end": 23.8,
            "bin_start": 20.4,
            "count": 8
           },
           {
            "bin_end": 27.2,
            "bin_start": 23.8,
            "count": 4
           },
           {
            "bin_end": 30.599999999999998,
            "bin_start": 27.2,
            "count": 1
           },
           {
            "bin_end": 34,
            "bin_start": 30.599999999999998,
            "count": 3
           }
          ],
          "max": "34.0",
          "min": "0.0",
          "nan_count": 9,
          "unique_count": 26
         }
        },
        {
         "dtype": "int64",
         "name": "TrainingTimesLastYear",
         "stats": {
          "histogram": [
           {
            "bin_end": 0.6,
            "bin_start": 0,
            "count": 1
           },
           {
            "bin_end": 1.2,
            "bin_start": 0.6,
            "count": 4
           },
           {
            "bin_end": 1.7999999999999998,
            "bin_start": 1.2,
            "count": 0
           },
           {
            "bin_end": 2.4,
            "bin_start": 1.7999999999999998,
            "count": 45
           },
           {
            "bin_end": 3,
            "bin_start": 2.4,
            "count": 0
           },
           {
            "bin_end": 3.5999999999999996,
            "bin_start": 3,
            "count": 34
           },
           {
            "bin_end": 4.2,
            "bin_start": 3.5999999999999996,
            "count": 10
           },
           {
            "bin_end": 4.8,
            "bin_start": 4.2,
            "count": 0
           },
           {
            "bin_end": 5.3999999999999995,
            "bin_start": 4.8,
            "count": 11
           },
           {
            "bin_end": 6,
            "bin_start": 5.3999999999999995,
            "count": 5
           }
          ],
          "max": "6",
          "min": "0",
          "nan_count": 0,
          "unique_count": 7
         }
        },
        {
         "dtype": "int64",
         "name": "YearsAtCompany",
         "stats": {
          "histogram": [
           {
            "bin_end": 2.1,
            "bin_start": 0,
            "count": 32
           },
           {
            "bin_end": 4.2,
            "bin_start": 2.1,
            "count": 14
           },
           {
            "bin_end": 6.300000000000001,
            "bin_start": 4.2,
            "count": 17
           },
           {
            "bin_end": 8.4,
            "bin_start": 6.300000000000001,
            "count": 12
           },
           {
            "bin_end": 10.5,
            "bin_start": 8.4,
            "count": 21
           },
           {
            "bin_end": 12.600000000000001,
            "bin_start": 10.5,
            "count": 3
           },
           {
            "bin_end": 14.700000000000001,
            "bin_start": 12.600000000000001,
            "count": 2
           },
           {
            "bin_end": 16.8,
            "bin_start": 14.700000000000001,
            "count": 1
           },
           {
            "bin_end": 18.900000000000002,
            "bin_start": 16.8,
            "count": 2
           },
           {
            "bin_end": 21,
            "bin_start": 18.900000000000002,
            "count": 6
           }
          ],
          "max": "21",
          "min": "0",
          "nan_count": 0,
          "unique_count": 19
         }
        },
        {
         "dtype": "int64",
         "name": "YearsSinceLastPromotion",
         "stats": {
          "histogram": [
           {
            "bin_end": 1.1,
            "bin_start": 0,
            "count": 67
           },
           {
            "bin_end": 2.2,
            "bin_start": 1.1,
            "count": 14
           },
           {
            "bin_end": 3.3000000000000003,
            "bin_start": 2.2,
            "count": 1
           },
           {
            "bin_end": 4.4,
            "bin_start": 3.3000000000000003,
            "count": 9
           },
           {
            "bin_end": 5.5,
            "bin_start": 4.4,
            "count": 2
           },
           {
            "bin_end": 6.6000000000000005,
            "bin_start": 5.5,
            "count": 3
           },
           {
            "bin_end": 7.700000000000001,
            "bin_start": 6.6000000000000005,
            "count": 9
           },
           {
            "bin_end": 8.8,
            "bin_start": 7.700000000000001,
            "count": 0
           },
           {
            "bin_end": 9.9,
            "bin_start": 8.8,
            "count": 1
           },
           {
            "bin_end": 11,
            "bin_start": 9.9,
            "count": 4
           }
          ],
          "max": "11",
          "min": "0",
          "nan_count": 0,
          "unique_count": 11
         }
        },
        {
         "dtype": "int64",
         "name": "YearsWithCurrManager",
         "stats": {
          "histogram": [
           {
            "bin_end": 1.6,
            "bin_start": 0,
            "count": 35
           },
           {
            "bin_end": 3.2,
            "bin_start": 1.6,
            "count": 30
           },
           {
            "bin_end": 4.800000000000001,
            "bin_start": 3.2,
            "count": 6
           },
           {
            "bin_end": 6.4,
            "bin_start": 4.800000000000001,
            "count": 3
           },
           {
            "bin_end": 8,
            "bin_start": 6.4,
            "count": 17
           },
           {
            "bin_end": 9.600000000000001,
            "bin_start": 8,
            "count": 14
           },
           {
            "bin_end": 11.200000000000001,
            "bin_start": 9.600000000000001,
            "count": 3
           },
           {
            "bin_end": 12.8,
            "bin_start": 11.200000000000001,
            "count": 0
           },
           {
            "bin_end": 14.4,
            "bin_start": 12.8,
            "count": 0
           },
           {
            "bin_end": 16,
            "bin_start": 14.4,
            "count": 2
           }
          ],
          "max": "16",
          "min": "0",
          "nan_count": 0,
          "unique_count": 13
         }
        },
        {
         "dtype": "float64",
         "name": "EnvironmentSatisfaction",
         "stats": {
          "histogram": [
           {
            "bin_end": 1.3,
            "bin_start": 1,
            "count": 15
           },
           {
            "bin_end": 1.6,
            "bin_start": 1.3,
            "count": 0
           },
           {
            "bin_end": 1.9,
            "bin_start": 1.6,
            "count": 0
           },
           {
            "bin_end": 2.2,
            "bin_start": 1.9,
            "count": 17
           },
           {
            "bin_end": 2.5,
            "bin_start": 2.2,
            "count": 0
           },
           {
            "bin_end": 2.8,
            "bin_start": 2.5,
            "count": 0
           },
           {
            "bin_end": 3.1,
            "bin_start": 2.8,
            "count": 31
           },
           {
            "bin_end": 3.4,
            "bin_start": 3.1,
            "count": 0
           },
           {
            "bin_end": 3.6999999999999997,
            "bin_start": 3.4,
            "count": 0
           },
           {
            "bin_end": 4,
            "bin_start": 3.6999999999999997,
            "count": 22
           }
          ],
          "max": "4.0",
          "min": "1.0",
          "nan_count": 25,
          "unique_count": 4
         }
        },
        {
         "dtype": "float64",
         "name": "JobSatisfaction",
         "stats": {
          "histogram": [
           {
            "bin_end": 1.3,
            "bin_start": 1,
            "count": 13
           },
           {
            "bin_end": 1.6,
            "bin_start": 1.3,
            "count": 0
           },
           {
            "bin_end": 1.9,
            "bin_start": 1.6,
            "count": 0
           },
           {
            "bin_end": 2.2,
            "bin_start": 1.9,
            "count": 17
           },
           {
            "bin_end": 2.5,
            "bin_start": 2.2,
            "count": 0
           },
           {
            "bin_end": 2.8,
            "bin_start": 2.5,
            "count": 0
           },
           {
            "bin_end": 3.1,
            "bin_start": 2.8,
            "count": 27
           },
           {
            "bin_end": 3.4,
            "bin_start": 3.1,
            "count": 0
           },
           {
            "bin_end": 3.6999999999999997,
            "bin_start": 3.4,
            "count": 0
           },
           {
            "bin_end": 4,
            "bin_start": 3.6999999999999997,
            "count": 33
           }
          ],
          "max": "4.0",
          "min": "1.0",
          "nan_count": 20,
          "unique_count": 4
         }
        },
        {
         "dtype": "float64",
         "name": "WorkLifeBalance",
         "stats": {
          "histogram": [
           {
            "bin_end": 1.3,
            "bin_start": 1,
            "count": 3
           },
           {
            "bin_end": 1.6,
            "bin_start": 1.3,
            "count": 0
           },
           {
            "bin_end": 1.9,
            "bin_start": 1.6,
            "count": 0
           },
           {
            "bin_end": 2.2,
            "bin_start": 1.9,
            "count": 14
           },
           {
            "bin_end": 2.5,
            "bin_start": 2.2,
            "count": 0
           },
           {
            "bin_end": 2.8,
            "bin_start": 2.5,
            "count": 0
           },
           {
            "bin_end": 3.1,
            "bin_start": 2.8,
            "count": 51
           },
           {
            "bin_end": 3.4,
            "bin_start": 3.1,
            "count": 0
           },
           {
            "bin_end": 3.6999999999999997,
            "bin_start": 3.4,
            "count": 0
           },
           {
            "bin_end": 4,
            "bin_start": 3.6999999999999997,
            "count": 4
           }
          ],
          "max": "4.0",
          "min": "1.0",
          "nan_count": 38,
          "unique_count": 4
         }
        },
        {
         "dtype": "int64",
         "name": "JobInvolvement",
         "stats": {
          "histogram": [
           {
            "bin_end": 1.3,
            "bin_start": 1,
            "count": 8
           },
           {
            "bin_end": 1.6,
            "bin_start": 1.3,
            "count": 0
           },
           {
            "bin_end": 1.9,
            "bin_start": 1.6,
            "count": 0
           },
           {
            "bin_end": 2.2,
            "bin_start": 1.9,
            "count": 21
           },
           {
            "bin_end": 2.5,
            "bin_start": 2.2,
            "count": 0
           },
           {
            "bin_end": 2.8,
            "bin_start": 2.5,
            "count": 0
           },
           {
            "bin_end": 3.1,
            "bin_start": 2.8,
            "count": 69
           },
           {
            "bin_end": 3.4,
            "bin_start": 3.1,
            "count": 0
           },
           {
            "bin_end": 3.6999999999999997,
            "bin_start": 3.4,
            "count": 0
           },
           {
            "bin_end": 4,
            "bin_start": 3.6999999999999997,
            "count": 12
           }
          ],
          "max": "4",
          "min": "1",
          "nan_count": 0,
          "unique_count": 4
         }
        },
        {
         "dtype": "int64",
         "name": "PerformanceRating",
         "stats": {
          "histogram": [
           {
            "bin_end": 3.1,
            "bin_start": 3,
            "count": 94
           },
           {
            "bin_end": 3.2,
            "bin_start": 3.1,
            "count": 0
           },
           {
            "bin_end": 3.3,
            "bin_start": 3.2,
            "count": 0
           },
           {
            "bin_end": 3.4,
            "bin_start": 3.3,
            "count": 0
           },
           {
            "bin_end": 3.5,
            "bin_start": 3.4,
            "count": 0
           },
           {
            "bin_end": 3.6,
            "bin_start": 3.5,
            "count": 0
           },
           {
            "bin_end": 3.7,
            "bin_start": 3.6,
            "count": 0
           },
           {
            "bin_end": 3.8,
            "bin_start": 3.7,
            "count": 0
           },
           {
            "bin_end": 3.9,
            "bin_start": 3.8,
            "count": 0
           },
           {
            "bin_end": 4,
            "bin_start": 3.9,
            "count": 16
           }
          ],
          "max": "4",
          "min": "3",
          "nan_count": 0,
          "unique_count": 2
         }
        },
        {
         "dtype": "int64",
         "name": "_deepnote_index_column"
        }
       ],
       "row_count": 110,
       "rows": [
        {
         "Age": 36,
         "Attrition": "No",
         "BusinessTravel": "Travel_Rarely",
         "Department": "Research & Development",
         "DistanceFromHome": 28,
         "Education": 1,
         "EducationField": "Life Sciences",
         "EnvironmentSatisfaction": "nan",
         "Gender": "Male",
         "JobInvolvement": 3,
         "JobLevel": 1,
         "JobRole": "Laboratory Technician",
         "JobSatisfaction": 4,
         "MonthlyIncome": 33770,
         "NumCompaniesWorked": 0,
         "PercentSalaryHike": 12,
         "PerformanceRating": 3,
         "StockOptionLevel": 2,
         "TotalWorkingYears": 16,
         "TrainingTimesLastYear": 2,
         "WorkLifeBalance": 3,
         "YearsAtCompany": 15,
         "YearsSinceLastPromotion": 10,
         "YearsWithCurrManager": 11,
         "_deepnote_index_column": 11
        },
        {
         "Age": 42,
         "Attrition": "No",
         "BusinessTravel": "Travel_Rarely",
         "Department": "Research & Development",
         "DistanceFromHome": 4,
         "Education": 4,
         "EducationField": "Life Sciences",
         "EnvironmentSatisfaction": 2,
         "Gender": "Male",
         "JobInvolvement": 1,
         "JobLevel": 1,
         "JobRole": "Manufacturing Director",
         "JobSatisfaction": 3,
         "MonthlyIncome": 89260,
         "NumCompaniesWorked": 1,
         "PercentSalaryHike": 14,
         "PerformanceRating": 3,
         "StockOptionLevel": 0,
         "TotalWorkingYears": "nan",
         "TrainingTimesLastYear": 4,
         "WorkLifeBalance": 3,
         "YearsAtCompany": 20,
         "YearsSinceLastPromotion": 11,
         "YearsWithCurrManager": 6,
         "_deepnote_index_column": 23
        },
        {
         "Age": 36,
         "Attrition": "No",
         "BusinessTravel": "Travel_Frequently",
         "Department": "Research & Development",
         "DistanceFromHome": 8,
         "Education": 3,
         "EducationField": "Other",
         "EnvironmentSatisfaction": 3,
         "Gender": "Female",
         "JobInvolvement": 2,
         "JobLevel": 3,
         "JobRole": "Sales Executive",
         "JobSatisfaction": "nan",
         "MonthlyIncome": 69620,
         "NumCompaniesWorked": 4,
         "PercentSalaryHike": 12,
         "PerformanceRating": 3,
         "StockOptionLevel": 2,
         "TotalWorkingYears": 4,
         "TrainingTimesLastYear": 2,
         "WorkLifeBalance": 3,
         "YearsAtCompany": 1,
         "YearsSinceLastPromotion": 0,
         "YearsWithCurrManager": 0,
         "_deepnote_index_column": 40
        },
        {
         "Age": 31,
         "Attrition": "No",
         "BusinessTravel": "Travel_Rarely",
         "Department": "Research & Development",
         "DistanceFromHome": 6,
         "Education": 3,
         "EducationField": "Medical",
         "EnvironmentSatisfaction": 3,
         "Gender": "Female",
         "JobInvolvement": 3,
         "JobLevel": 3,
         "JobRole": "Manager",
         "JobSatisfaction": 4,
         "MonthlyIncome": 81030,
         "NumCompaniesWorked": 1,
         "PercentSalaryHike": 15,
         "PerformanceRating": 3,
         "StockOptionLevel": 1,
         "TotalWorkingYears": 11,
         "TrainingTimesLastYear": 5,
         "WorkLifeBalance": "nan",
         "YearsAtCompany": 11,
         "YearsSinceLastPromotion": 4,
         "YearsWithCurrManager": 10,
         "_deepnote_index_column": 84
        },
        {
         "Age": 31,
         "Attrition": "No",
         "BusinessTravel": "Travel_Rarely",
         "Department": "Research & Development",
         "DistanceFromHome": 1,
         "Education": 3,
         "EducationField": "Life Sciences",
         "EnvironmentSatisfaction": "nan",
         "Gender": "Male",
         "JobInvolvement": 3,
         "JobLevel": 4,
         "JobRole": "Human Resources",
         "JobSatisfaction": 2,
         "MonthlyIncome": 28670,
         "NumCompaniesWorked": 0,
         "PercentSalaryHike": 24,
         "PerformanceRating": 4,
         "StockOptionLevel": 0,
         "TotalWorkingYears": 3,
         "TrainingTimesLastYear": 5,
         "WorkLifeBalance": 3,
         "YearsAtCompany": 2,
         "YearsSinceLastPromotion": 2,
         "YearsWithCurrManager": 2,
         "_deepnote_index_column": 111
        },
        {
         "Age": 27,
         "Attrition": "No",
         "BusinessTravel": "Travel_Rarely",
         "Department": "Sales",
         "DistanceFromHome": 2,
         "Education": 3,
         "EducationField": "Life Sciences",
         "EnvironmentSatisfaction": 4,
         "Gender": "Male",
         "JobInvolvement": 3,
         "JobLevel": 1,
         "JobRole": "Sales Executive",
         "JobSatisfaction": 2,
         "MonthlyIncome": 23670,
         "NumCompaniesWorked": "nan",
         "PercentSalaryHike": 12,
         "PerformanceRating": 3,
         "StockOptionLevel": 1,
         "TotalWorkingYears": 5,
         "TrainingTimesLastYear": 2,
         "WorkLifeBalance": 3,
         "YearsAtCompany": 5,
         "YearsSinceLastPromotion": 0,
         "YearsWithCurrManager": 4,
         "_deepnote_index_column": 115
        },
        {
         "Age": 26,
         "Attrition": "Yes",
         "BusinessTravel": "Travel_Frequently",
         "Department": "Sales",
         "DistanceFromHome": 14,
         "Education": 3,
         "EducationField": "Life Sciences",
         "EnvironmentSatisfaction": 3,
         "Gender": "Male",
         "JobInvolvement": 3,
         "JobLevel": 2,
         "JobRole": "Manager",
         "JobSatisfaction": "nan",
         "MonthlyIncome": 75100,
         "NumCompaniesWorked": 0,
         "PercentSalaryHike": 18,
         "PerformanceRating": 3,
         "StockOptionLevel": 3,
         "TotalWorkingYears": 7,
         "TrainingTimesLastYear": 3,
         "WorkLifeBalance": 3,
         "YearsAtCompany": 6,
         "YearsSinceLastPromotion": 0,
         "YearsWithCurrManager": 4,
         "_deepnote_index_column": 124
        },
        {
         "Age": 43,
         "Attrition": "No",
         "BusinessTravel": "Travel_Frequently",
         "Department": "Sales",
         "DistanceFromHome": 14,
         "Education": 3,
         "EducationField": "Life Sciences",
         "EnvironmentSatisfaction": 4,
         "Gender": "Female",
         "JobInvolvement": 2,
         "JobLevel": 1,
         "JobRole": "Manufacturing Director",
         "JobSatisfaction": 4,
         "MonthlyIncome": 37480,
         "NumCompaniesWorked": 7,
         "PercentSalaryHike": 14,
         "PerformanceRating": 3,
         "StockOptionLevel": 2,
         "TotalWorkingYears": "nan",
         "TrainingTimesLastYear": 3,
         "WorkLifeBalance": 3,
         "YearsAtCompany": 3,
         "YearsSinceLastPromotion": 1,
         "YearsWithCurrManager": 2,
         "_deepnote_index_column": 137
        },
        {
         "Age": 26,
         "Attrition": "Yes",
         "BusinessTravel": "Travel_Frequently",
         "Department": "Research & Development",
         "DistanceFromHome": 2,
         "Education": 1,
         "EducationField": "Life Sciences",
         "EnvironmentSatisfaction": "nan",
         "Gender": "Female",
         "JobInvolvement": 3,
         "JobLevel": 2,
         "JobRole": "Laboratory Technician",
         "JobSatisfaction": 3,
         "MonthlyIncome": 59930,
         "NumCompaniesWorked": 0,
         "PercentSalaryHike": 12,
         "PerformanceRating": 3,
         "StockOptionLevel": 0,
         "TotalWorkingYears": 8,
         "TrainingTimesLastYear": 3,
         "WorkLifeBalance": 2,
         "YearsAtCompany": 7,
         "YearsSinceLastPromotion": 1,
         "YearsWithCurrManager": 0,
         "_deepnote_index_column": 195
        },
        {
         "Age": 52,
         "Attrition": "No",
         "BusinessTravel": "Travel_Rarely",
         "Department": "Sales",
         "DistanceFromHome": 2,
         "Education": 1,
         "EducationField": "Medical",
         "EnvironmentSatisfaction": 4,
         "Gender": "Male",
         "JobInvolvement": 3,
         "JobLevel": 1,
         "JobRole": "Laboratory Technician",
         "JobSatisfaction": 1,
         "MonthlyIncome": 99800,
         "NumCompaniesWorked": "nan",
         "PercentSalaryHike": 11,
         "PerformanceRating": 3,
         "StockOptionLevel": 1,
         "TotalWorkingYears": 18,
         "TrainingTimesLastYear": 2,
         "WorkLifeBalance": 3,
         "YearsAtCompany": 10,
         "YearsSinceLastPromotion": 6,
         "YearsWithCurrManager": 9,
         "_deepnote_index_column": 210
        }
       ]
      },
      "text/html": [
       "<div>\n",
       "<style scoped>\n",
       "    .dataframe tbody tr th:only-of-type {\n",
       "        vertical-align: middle;\n",
       "    }\n",
       "\n",
       "    .dataframe tbody tr th {\n",
       "        vertical-align: top;\n",
       "    }\n",
       "\n",
       "    .dataframe thead th {\n",
       "        text-align: right;\n",
       "    }\n",
       "</style>\n",
       "<table border=\"1\" class=\"dataframe\">\n",
       "  <thead>\n",
       "    <tr style=\"text-align: right;\">\n",
       "      <th></th>\n",
       "      <th>Age</th>\n",
       "      <th>Attrition</th>\n",
       "      <th>BusinessTravel</th>\n",
       "      <th>Department</th>\n",
       "      <th>DistanceFromHome</th>\n",
       "      <th>Education</th>\n",
       "      <th>EducationField</th>\n",
       "      <th>Gender</th>\n",
       "      <th>JobLevel</th>\n",
       "      <th>JobRole</th>\n",
       "      <th>...</th>\n",
       "      <th>TotalWorkingYears</th>\n",
       "      <th>TrainingTimesLastYear</th>\n",
       "      <th>YearsAtCompany</th>\n",
       "      <th>YearsSinceLastPromotion</th>\n",
       "      <th>YearsWithCurrManager</th>\n",
       "      <th>EnvironmentSatisfaction</th>\n",
       "      <th>JobSatisfaction</th>\n",
       "      <th>WorkLifeBalance</th>\n",
       "      <th>JobInvolvement</th>\n",
       "      <th>PerformanceRating</th>\n",
       "    </tr>\n",
       "  </thead>\n",
       "  <tbody>\n",
       "    <tr>\n",
       "      <th>11</th>\n",
       "      <td>36</td>\n",
       "      <td>No</td>\n",
       "      <td>Travel_Rarely</td>\n",
       "      <td>Research &amp; Development</td>\n",
       "      <td>28</td>\n",
       "      <td>1</td>\n",
       "      <td>Life Sciences</td>\n",
       "      <td>Male</td>\n",
       "      <td>1</td>\n",
       "      <td>Laboratory Technician</td>\n",
       "      <td>...</td>\n",
       "      <td>16.0</td>\n",
       "      <td>2</td>\n",
       "      <td>15</td>\n",
       "      <td>10</td>\n",
       "      <td>11</td>\n",
       "      <td>NaN</td>\n",
       "      <td>4.0</td>\n",
       "      <td>3.0</td>\n",
       "      <td>3</td>\n",
       "      <td>3</td>\n",
       "    </tr>\n",
       "    <tr>\n",
       "      <th>23</th>\n",
       "      <td>42</td>\n",
       "      <td>No</td>\n",
       "      <td>Travel_Rarely</td>\n",
       "      <td>Research &amp; Development</td>\n",
       "      <td>4</td>\n",
       "      <td>4</td>\n",
       "      <td>Life Sciences</td>\n",
       "      <td>Male</td>\n",
       "      <td>1</td>\n",
       "      <td>Manufacturing Director</td>\n",
       "      <td>...</td>\n",
       "      <td>NaN</td>\n",
       "      <td>4</td>\n",
       "      <td>20</td>\n",
       "      <td>11</td>\n",
       "      <td>6</td>\n",
       "      <td>2.0</td>\n",
       "      <td>3.0</td>\n",
       "      <td>3.0</td>\n",
       "      <td>1</td>\n",
       "      <td>3</td>\n",
       "    </tr>\n",
       "    <tr>\n",
       "      <th>40</th>\n",
       "      <td>36</td>\n",
       "      <td>No</td>\n",
       "      <td>Travel_Frequently</td>\n",
       "      <td>Research &amp; Development</td>\n",
       "      <td>8</td>\n",
       "      <td>3</td>\n",
       "      <td>Other</td>\n",
       "      <td>Female</td>\n",
       "      <td>3</td>\n",
       "      <td>Sales Executive</td>\n",
       "      <td>...</td>\n",
       "      <td>4.0</td>\n",
       "      <td>2</td>\n",
       "      <td>1</td>\n",
       "      <td>0</td>\n",
       "      <td>0</td>\n",
       "      <td>3.0</td>\n",
       "      <td>NaN</td>\n",
       "      <td>3.0</td>\n",
       "      <td>2</td>\n",
       "      <td>3</td>\n",
       "    </tr>\n",
       "    <tr>\n",
       "      <th>84</th>\n",
       "      <td>31</td>\n",
       "      <td>No</td>\n",
       "      <td>Travel_Rarely</td>\n",
       "      <td>Research &amp; Development</td>\n",
       "      <td>6</td>\n",
       "      <td>3</td>\n",
       "      <td>Medical</td>\n",
       "      <td>Female</td>\n",
       "      <td>3</td>\n",
       "      <td>Manager</td>\n",
       "      <td>...</td>\n",
       "      <td>11.0</td>\n",
       "      <td>5</td>\n",
       "      <td>11</td>\n",
       "      <td>4</td>\n",
       "      <td>10</td>\n",
       "      <td>3.0</td>\n",
       "      <td>4.0</td>\n",
       "      <td>NaN</td>\n",
       "      <td>3</td>\n",
       "      <td>3</td>\n",
       "    </tr>\n",
       "    <tr>\n",
       "      <th>111</th>\n",
       "      <td>31</td>\n",
       "      <td>No</td>\n",
       "      <td>Travel_Rarely</td>\n",
       "      <td>Research &amp; Development</td>\n",
       "      <td>1</td>\n",
       "      <td>3</td>\n",
       "      <td>Life Sciences</td>\n",
       "      <td>Male</td>\n",
       "      <td>4</td>\n",
       "      <td>Human Resources</td>\n",
       "      <td>...</td>\n",
       "      <td>3.0</td>\n",
       "      <td>5</td>\n",
       "      <td>2</td>\n",
       "      <td>2</td>\n",
       "      <td>2</td>\n",
       "      <td>NaN</td>\n",
       "      <td>2.0</td>\n",
       "      <td>3.0</td>\n",
       "      <td>3</td>\n",
       "      <td>4</td>\n",
       "    </tr>\n",
       "    <tr>\n",
       "      <th>...</th>\n",
       "      <td>...</td>\n",
       "      <td>...</td>\n",
       "      <td>...</td>\n",
       "      <td>...</td>\n",
       "      <td>...</td>\n",
       "      <td>...</td>\n",
       "      <td>...</td>\n",
       "      <td>...</td>\n",
       "      <td>...</td>\n",
       "      <td>...</td>\n",
       "      <td>...</td>\n",
       "      <td>...</td>\n",
       "      <td>...</td>\n",
       "      <td>...</td>\n",
       "      <td>...</td>\n",
       "      <td>...</td>\n",
       "      <td>...</td>\n",
       "      <td>...</td>\n",
       "      <td>...</td>\n",
       "      <td>...</td>\n",
       "      <td>...</td>\n",
       "    </tr>\n",
       "    <tr>\n",
       "      <th>4305</th>\n",
       "      <td>45</td>\n",
       "      <td>No</td>\n",
       "      <td>Travel_Rarely</td>\n",
       "      <td>Sales</td>\n",
       "      <td>1</td>\n",
       "      <td>4</td>\n",
       "      <td>Technical Degree</td>\n",
       "      <td>Male</td>\n",
       "      <td>1</td>\n",
       "      <td>Research Scientist</td>\n",
       "      <td>...</td>\n",
       "      <td>20.0</td>\n",
       "      <td>3</td>\n",
       "      <td>17</td>\n",
       "      <td>0</td>\n",
       "      <td>15</td>\n",
       "      <td>2.0</td>\n",
       "      <td>2.0</td>\n",
       "      <td>NaN</td>\n",
       "      <td>3</td>\n",
       "      <td>3</td>\n",
       "    </tr>\n",
       "    <tr>\n",
       "      <th>4332</th>\n",
       "      <td>31</td>\n",
       "      <td>No</td>\n",
       "      <td>Travel_Rarely</td>\n",
       "      <td>Sales</td>\n",
       "      <td>2</td>\n",
       "      <td>5</td>\n",
       "      <td>Life Sciences</td>\n",
       "      <td>Male</td>\n",
       "      <td>2</td>\n",
       "      <td>Sales Representative</td>\n",
       "      <td>...</td>\n",
       "      <td>7.0</td>\n",
       "      <td>3</td>\n",
       "      <td>4</td>\n",
       "      <td>0</td>\n",
       "      <td>2</td>\n",
       "      <td>NaN</td>\n",
       "      <td>4.0</td>\n",
       "      <td>3.0</td>\n",
       "      <td>4</td>\n",
       "      <td>3</td>\n",
       "    </tr>\n",
       "    <tr>\n",
       "      <th>4345</th>\n",
       "      <td>43</td>\n",
       "      <td>No</td>\n",
       "      <td>Non-Travel</td>\n",
       "      <td>Research &amp; Development</td>\n",
       "      <td>6</td>\n",
       "      <td>2</td>\n",
       "      <td>Medical</td>\n",
       "      <td>Male</td>\n",
       "      <td>1</td>\n",
       "      <td>Healthcare Representative</td>\n",
       "      <td>...</td>\n",
       "      <td>7.0</td>\n",
       "      <td>2</td>\n",
       "      <td>5</td>\n",
       "      <td>2</td>\n",
       "      <td>2</td>\n",
       "      <td>4.0</td>\n",
       "      <td>NaN</td>\n",
       "      <td>4.0</td>\n",
       "      <td>2</td>\n",
       "      <td>4</td>\n",
       "    </tr>\n",
       "    <tr>\n",
       "      <th>4395</th>\n",
       "      <td>40</td>\n",
       "      <td>No</td>\n",
       "      <td>Travel_Rarely</td>\n",
       "      <td>Research &amp; Development</td>\n",
       "      <td>2</td>\n",
       "      <td>3</td>\n",
       "      <td>Life Sciences</td>\n",
       "      <td>Male</td>\n",
       "      <td>1</td>\n",
       "      <td>Manufacturing Director</td>\n",
       "      <td>...</td>\n",
       "      <td>9.0</td>\n",
       "      <td>4</td>\n",
       "      <td>9</td>\n",
       "      <td>4</td>\n",
       "      <td>7</td>\n",
       "      <td>1.0</td>\n",
       "      <td>4.0</td>\n",
       "      <td>3.0</td>\n",
       "      <td>2</td>\n",
       "      <td>3</td>\n",
       "    </tr>\n",
       "    <tr>\n",
       "      <th>4409</th>\n",
       "      <td>40</td>\n",
       "      <td>No</td>\n",
       "      <td>Travel_Rarely</td>\n",
       "      <td>Research &amp; Development</td>\n",
       "      <td>28</td>\n",
       "      <td>3</td>\n",
       "      <td>Medical</td>\n",
       "      <td>Male</td>\n",
       "      <td>2</td>\n",
       "      <td>Laboratory Technician</td>\n",
       "      <td>...</td>\n",
       "      <td>NaN</td>\n",
       "      <td>6</td>\n",
       "      <td>21</td>\n",
       "      <td>3</td>\n",
       "      <td>9</td>\n",
       "      <td>1.0</td>\n",
       "      <td>3.0</td>\n",
       "      <td>NaN</td>\n",
       "      <td>4</td>\n",
       "      <td>3</td>\n",
       "    </tr>\n",
       "  </tbody>\n",
       "</table>\n",
       "<p>110 rows × 24 columns</p>\n",
       "</div>"
      ],
      "text/plain": [
       "      Age Attrition     BusinessTravel              Department  \\\n",
       "11     36        No      Travel_Rarely  Research & Development   \n",
       "23     42        No      Travel_Rarely  Research & Development   \n",
       "40     36        No  Travel_Frequently  Research & Development   \n",
       "84     31        No      Travel_Rarely  Research & Development   \n",
       "111    31        No      Travel_Rarely  Research & Development   \n",
       "...   ...       ...                ...                     ...   \n",
       "4305   45        No      Travel_Rarely                   Sales   \n",
       "4332   31        No      Travel_Rarely                   Sales   \n",
       "4345   43        No         Non-Travel  Research & Development   \n",
       "4395   40        No      Travel_Rarely  Research & Development   \n",
       "4409   40        No      Travel_Rarely  Research & Development   \n",
       "\n",
       "      DistanceFromHome  Education    EducationField  Gender  JobLevel  \\\n",
       "11                  28          1     Life Sciences    Male         1   \n",
       "23                   4          4     Life Sciences    Male         1   \n",
       "40                   8          3             Other  Female         3   \n",
       "84                   6          3           Medical  Female         3   \n",
       "111                  1          3     Life Sciences    Male         4   \n",
       "...                ...        ...               ...     ...       ...   \n",
       "4305                 1          4  Technical Degree    Male         1   \n",
       "4332                 2          5     Life Sciences    Male         2   \n",
       "4345                 6          2           Medical    Male         1   \n",
       "4395                 2          3     Life Sciences    Male         1   \n",
       "4409                28          3           Medical    Male         2   \n",
       "\n",
       "                        JobRole  ...  TotalWorkingYears  \\\n",
       "11        Laboratory Technician  ...               16.0   \n",
       "23       Manufacturing Director  ...                NaN   \n",
       "40              Sales Executive  ...                4.0   \n",
       "84                      Manager  ...               11.0   \n",
       "111             Human Resources  ...                3.0   \n",
       "...                         ...  ...                ...   \n",
       "4305         Research Scientist  ...               20.0   \n",
       "4332       Sales Representative  ...                7.0   \n",
       "4345  Healthcare Representative  ...                7.0   \n",
       "4395     Manufacturing Director  ...                9.0   \n",
       "4409      Laboratory Technician  ...                NaN   \n",
       "\n",
       "      TrainingTimesLastYear  YearsAtCompany  YearsSinceLastPromotion  \\\n",
       "11                        2              15                       10   \n",
       "23                        4              20                       11   \n",
       "40                        2               1                        0   \n",
       "84                        5              11                        4   \n",
       "111                       5               2                        2   \n",
       "...                     ...             ...                      ...   \n",
       "4305                      3              17                        0   \n",
       "4332                      3               4                        0   \n",
       "4345                      2               5                        2   \n",
       "4395                      4               9                        4   \n",
       "4409                      6              21                        3   \n",
       "\n",
       "      YearsWithCurrManager  EnvironmentSatisfaction  JobSatisfaction  \\\n",
       "11                      11                      NaN              4.0   \n",
       "23                       6                      2.0              3.0   \n",
       "40                       0                      3.0              NaN   \n",
       "84                      10                      3.0              4.0   \n",
       "111                      2                      NaN              2.0   \n",
       "...                    ...                      ...              ...   \n",
       "4305                    15                      2.0              2.0   \n",
       "4332                     2                      NaN              4.0   \n",
       "4345                     2                      4.0              NaN   \n",
       "4395                     7                      1.0              4.0   \n",
       "4409                     9                      1.0              3.0   \n",
       "\n",
       "      WorkLifeBalance  JobInvolvement  PerformanceRating  \n",
       "11                3.0               3                  3  \n",
       "23                3.0               1                  3  \n",
       "40                3.0               2                  3  \n",
       "84                NaN               3                  3  \n",
       "111               3.0               3                  4  \n",
       "...               ...             ...                ...  \n",
       "4305              NaN               3                  3  \n",
       "4332              3.0               4                  3  \n",
       "4345              4.0               2                  4  \n",
       "4395              3.0               2                  3  \n",
       "4409              NaN               4                  3  \n",
       "\n",
       "[110 rows x 24 columns]"
      ]
     },
     "execution_count": 7,
     "metadata": {},
     "output_type": "execute_result"
    }
   ],
   "source": [
    "# Montrer tous les endroits qui contiennent une valeur NA\n",
    "filtered_dataframe[filtered_dataframe.isna().any(axis=1)]"
   ]
  },
  {
   "cell_type": "markdown",
   "metadata": {
    "cell_id": "631bd9d5-62d7-4f3d-aa8b-4907ae5cae39",
    "deepnote_cell_type": "markdown",
    "tags": []
   },
   "source": [
    "#### Colonnes repérées avec un NA\n",
    "\n",
    "- NumCompaniesWorked\n",
    "- TotalWorkingYears\n",
    "- EnvironmentSatisfaction\n",
    "- JobSatisfaction\n",
    "- WorkLifeBalance"
   ]
  },
  {
   "cell_type": "code",
   "execution_count": null,
   "metadata": {
    "cell_id": "73458e85-bb89-4552-a5df-7319a6c4b798",
    "deepnote_cell_type": "code",
    "deepnote_to_be_reexecuted": false,
    "execution_millis": 9,
    "execution_start": 1647509374782,
    "source_hash": "aa080d8",
    "tags": []
   },
   "outputs": [
    {
     "name": "stdout",
     "output_type": "stream",
     "text": [
      "Pourcentage de NA sur NumCompaniesWorked:  0.43\n",
      "Pourcentage de NA sur TotalWorkingYears:  0.2\n",
      "Pourcentage de NA sur EnvironmentSatisfaction:  0.57\n",
      "Pourcentage de NA sur JobSatisfaction:  0.45\n",
      "Pourcentage de NA sur WorkLifeBalance:  0.86\n"
     ]
    }
   ],
   "source": [
    "print(\"Pourcentage de NA sur NumCompaniesWorked: \",round(100*(filtered_dataframe['NumCompaniesWorked'].isnull().sum()/len(filtered_dataframe.index)), 2))\n",
    "print(\"Pourcentage de NA sur TotalWorkingYears: \", round(100*(filtered_dataframe['TotalWorkingYears'].isnull().sum()/len(filtered_dataframe.index)), 2))\n",
    "print(\"Pourcentage de NA sur EnvironmentSatisfaction: \", round(100*(filtered_dataframe['EnvironmentSatisfaction'].isnull().sum()/len(filtered_dataframe.index)), 2))\n",
    "print(\"Pourcentage de NA sur JobSatisfaction: \", round(100*(filtered_dataframe['JobSatisfaction'].isnull().sum()/len(filtered_dataframe.index)), 2))\n",
    "print(\"Pourcentage de NA sur WorkLifeBalance: \", round(100*(filtered_dataframe['WorkLifeBalance'].isnull().sum()/len(filtered_dataframe.index)), 2))\n"
   ]
  },
  {
   "cell_type": "markdown",
   "metadata": {
    "cell_id": "6ce31cf2-762e-4afd-93dc-321c3d61d916",
    "deepnote_cell_type": "markdown",
    "tags": []
   },
   "source": [
    "Nous allons donc remplir les valeurs manquantes par la médiane des données correspondantes. La librairie Pandas possède déjà de quoi faire pour s'en occuper, nous allons donc l'utiliser."
   ]
  },
  {
   "cell_type": "markdown",
   "metadata": {
    "cell_id": "7ffe8caa-11ac-4e36-b77c-8cc6d7a6175d",
    "deepnote_cell_type": "markdown",
    "tags": []
   },
   "source": [
    " #### Remplacement des valeurs vides par la médiane des données."
   ]
  },
  {
   "cell_type": "code",
   "execution_count": null,
   "metadata": {
    "cell_id": "6a58621a-821e-40a6-acfa-ee54730a4f24",
    "deepnote_cell_type": "code",
    "deepnote_to_be_reexecuted": false,
    "execution_millis": 6,
    "execution_start": 1647509376841,
    "source_hash": "b3a37d8b",
    "tags": []
   },
   "outputs": [],
   "source": [
    "# Renseigner les colonnes sur lesquelles il faut opérer\n",
    "na_values_columns = [\"NumCompaniesWorked\", \"TotalWorkingYears\", \"EnvironmentSatisfaction\", \"JobSatisfaction\", \"WorkLifeBalance\"]\n",
    "\n",
    "# Pour chaque colonne à traiter...\n",
    "for column in na_values_columns:\n",
    "    # ...on remplit les valeurs vides avec la médiane !\n",
    "    filtered_dataframe[column].fillna(filtered_dataframe[column].mean(), inplace = True)"
   ]
  },
  {
   "cell_type": "markdown",
   "metadata": {
    "cell_id": "c0479053-91e7-4a83-9830-9ca02a1ac0c1",
    "deepnote_cell_type": "markdown",
    "tags": []
   },
   "source": [
    "#### Analyse de typage"
   ]
  },
  {
   "cell_type": "code",
   "execution_count": null,
   "metadata": {
    "cell_id": "d935c70d-0ecd-4438-a9ef-fc0cfdeaf99a",
    "deepnote_cell_type": "code",
    "deepnote_to_be_reexecuted": false,
    "execution_millis": 18,
    "execution_start": 1647509378948,
    "source_hash": "1b1a48da",
    "tags": []
   },
   "outputs": [
    {
     "name": "stdout",
     "output_type": "stream",
     "text": [
      "<class 'pandas.core.frame.DataFrame'>\n",
      "Int64Index: 4410 entries, 0 to 4409\n",
      "Data columns (total 24 columns):\n",
      " #   Column                   Non-Null Count  Dtype  \n",
      "---  ------                   --------------  -----  \n",
      " 0   Age                      4410 non-null   int64  \n",
      " 1   Attrition                4410 non-null   object \n",
      " 2   BusinessTravel           4410 non-null   object \n",
      " 3   Department               4410 non-null   object \n",
      " 4   DistanceFromHome         4410 non-null   int64  \n",
      " 5   Education                4410 non-null   int64  \n",
      " 6   EducationField           4410 non-null   object \n",
      " 7   Gender                   4410 non-null   object \n",
      " 8   JobLevel                 4410 non-null   int64  \n",
      " 9   JobRole                  4410 non-null   object \n",
      " 10  MonthlyIncome            4410 non-null   int64  \n",
      " 11  NumCompaniesWorked       4410 non-null   float64\n",
      " 12  PercentSalaryHike        4410 non-null   int64  \n",
      " 13  StockOptionLevel         4410 non-null   int64  \n",
      " 14  TotalWorkingYears        4410 non-null   float64\n",
      " 15  TrainingTimesLastYear    4410 non-null   int64  \n",
      " 16  YearsAtCompany           4410 non-null   int64  \n",
      " 17  YearsSinceLastPromotion  4410 non-null   int64  \n",
      " 18  YearsWithCurrManager     4410 non-null   int64  \n",
      " 19  EnvironmentSatisfaction  4410 non-null   float64\n",
      " 20  JobSatisfaction          4410 non-null   float64\n",
      " 21  WorkLifeBalance          4410 non-null   float64\n",
      " 22  JobInvolvement           4410 non-null   int64  \n",
      " 23  PerformanceRating        4410 non-null   int64  \n",
      "dtypes: float64(5), int64(13), object(6)\n",
      "memory usage: 861.3+ KB\n"
     ]
    }
   ],
   "source": [
    "filtered_dataframe.info()"
   ]
  },
  {
   "cell_type": "markdown",
   "metadata": {
    "cell_id": "04b8628d-53d5-4a3d-8d91-b61d51a6a014",
    "deepnote_cell_type": "markdown",
    "tags": []
   },
   "source": [
    "Nous avons désormais un jeu de données viable. Nous allons nous occuper des catégories autres que les nombres. Les données telles que l'attrition et le genre n'ont que deux choix possible: soit l'un, soit l'autre (oui, non / homme, femme).\n",
    "\n",
    "Nous allons premièrement remplacer ces valeurs là, puis pour le reste, nous allons les encoder avec un outil spécifique."
   ]
  },
  {
   "cell_type": "code",
   "execution_count": null,
   "metadata": {
    "cell_id": "e1f95dc8-201a-4455-b15a-7f1371037914",
    "deepnote_cell_type": "code",
    "deepnote_to_be_reexecuted": false,
    "execution_millis": 76,
    "execution_start": 1647509887924,
    "source_hash": "d0684bcf",
    "tags": []
   },
   "outputs": [
    {
     "data": {
      "application/vnd.deepnote.dataframe.v3+json": {
       "column_count": 24,
       "columns": [
        {
         "dtype": "int64",
         "name": "Age",
         "stats": {
          "histogram": [
           {
            "bin_end": 33,
            "bin_start": 31,
            "count": 3
           },
           {
            "bin_end": 35,
            "bin_start": 33,
            "count": 0
           },
           {
            "bin_end": 37,
            "bin_start": 35,
            "count": 0
           },
           {
            "bin_end": 39,
            "bin_start": 37,
            "count": 1
           },
           {
            "bin_end": 41,
            "bin_start": 39,
            "count": 0
           },
           {
            "bin_end": 43,
            "bin_start": 41,
            "count": 0
           },
           {
            "bin_end": 45,
            "bin_start": 43,
            "count": 0
           },
           {
            "bin_end": 47,
            "bin_start": 45,
            "count": 0
           },
           {
            "bin_end": 49,
            "bin_start": 47,
            "count": 0
           },
           {
            "bin_end": 51,
            "bin_start": 49,
            "count": 1
           }
          ],
          "max": "51",
          "min": "31",
          "nan_count": 0,
          "unique_count": 4
         }
        },
        {
         "dtype": "int64",
         "name": "Attrition",
         "stats": {
          "histogram": [
           {
            "bin_end": 0.1,
            "bin_start": 0,
            "count": 4
           },
           {
            "bin_end": 0.2,
            "bin_start": 0.1,
            "count": 0
           },
           {
            "bin_end": 0.30000000000000004,
            "bin_start": 0.2,
            "count": 0
           },
           {
            "bin_end": 0.4,
            "bin_start": 0.30000000000000004,
            "count": 0
           },
           {
            "bin_end": 0.5,
            "bin_start": 0.4,
            "count": 0
           },
           {
            "bin_end": 0.6000000000000001,
            "bin_start": 0.5,
            "count": 0
           },
           {
            "bin_end": 0.7000000000000001,
            "bin_start": 0.6000000000000001,
            "count": 0
           },
           {
            "bin_end": 0.8,
            "bin_start": 0.7000000000000001,
            "count": 0
           },
           {
            "bin_end": 0.9,
            "bin_start": 0.8,
            "count": 0
           },
           {
            "bin_end": 1,
            "bin_start": 0.9,
            "count": 1
           }
          ],
          "max": "1",
          "min": "0",
          "nan_count": 0,
          "unique_count": 2
         }
        },
        {
         "dtype": "object",
         "name": "BusinessTravel",
         "stats": {
          "categories": [
           {
            "count": 2,
            "name": "Travel_Rarely"
           },
           {
            "count": 2,
            "name": "Travel_Frequently"
           },
           {
            "count": 1,
            "name": "Non-Travel"
           }
          ],
          "nan_count": 0,
          "unique_count": 3
         }
        },
        {
         "dtype": "object",
         "name": "Department",
         "stats": {
          "categories": [
           {
            "count": 4,
            "name": "Research & Development"
           },
           {
            "count": 1,
            "name": "Sales"
           }
          ],
          "nan_count": 0,
          "unique_count": 2
         }
        },
        {
         "dtype": "int64",
         "name": "DistanceFromHome",
         "stats": {
          "histogram": [
           {
            "bin_end": 3.5,
            "bin_start": 2,
            "count": 1
           },
           {
            "bin_end": 5,
            "bin_start": 3.5,
            "count": 0
           },
           {
            "bin_end": 6.5,
            "bin_start": 5,
            "count": 1
           },
           {
            "bin_end": 8,
            "bin_start": 6.5,
            "count": 0
           },
           {
            "bin_end": 9.5,
            "bin_start": 8,
            "count": 0
           },
           {
            "bin_end": 11,
            "bin_start": 9.5,
            "count": 2
           },
           {
            "bin_end": 12.5,
            "bin_start": 11,
            "count": 0
           },
           {
            "bin_end": 14,
            "bin_start": 12.5,
            "count": 0
           },
           {
            "bin_end": 15.5,
            "bin_start": 14,
            "count": 0
           },
           {
            "bin_end": 17,
            "bin_start": 15.5,
            "count": 1
           }
          ],
          "max": "17",
          "min": "2",
          "nan_count": 0,
          "unique_count": 4
         }
        },
        {
         "dtype": "int64",
         "name": "Education",
         "stats": {
          "histogram": [
           {
            "bin_end": 1.4,
            "bin_start": 1,
            "count": 2
           },
           {
            "bin_end": 1.8,
            "bin_start": 1.4,
            "count": 0
           },
           {
            "bin_end": 2.2,
            "bin_start": 1.8,
            "count": 1
           },
           {
            "bin_end": 2.6,
            "bin_start": 2.2,
            "count": 0
           },
           {
            "bin_end": 3,
            "bin_start": 2.6,
            "count": 0
           },
           {
            "bin_end": 3.4000000000000004,
            "bin_start": 3,
            "count": 0
           },
           {
            "bin_end": 3.8000000000000003,
            "bin_start": 3.4000000000000004,
            "count": 0
           },
           {
            "bin_end": 4.2,
            "bin_start": 3.8000000000000003,
            "count": 1
           },
           {
            "bin_end": 4.6,
            "bin_start": 4.2,
            "count": 0
           },
           {
            "bin_end": 5,
            "bin_start": 4.6,
            "count": 1
           }
          ],
          "max": "5",
          "min": "1",
          "nan_count": 0,
          "unique_count": 4
         }
        },
        {
         "dtype": "object",
         "name": "EducationField",
         "stats": {
          "categories": [
           {
            "count": 3,
            "name": "Life Sciences"
           },
           {
            "count": 1,
            "name": "Other"
           },
           {
            "count": 1,
            "name": "Medical"
           }
          ],
          "nan_count": 0,
          "unique_count": 3
         }
        },
        {
         "dtype": "int64",
         "name": "Gender",
         "stats": {
          "histogram": [
           {
            "bin_end": 0.1,
            "bin_start": 0,
            "count": 3
           },
           {
            "bin_end": 0.2,
            "bin_start": 0.1,
            "count": 0
           },
           {
            "bin_end": 0.30000000000000004,
            "bin_start": 0.2,
            "count": 0
           },
           {
            "bin_end": 0.4,
            "bin_start": 0.30000000000000004,
            "count": 0
           },
           {
            "bin_end": 0.5,
            "bin_start": 0.4,
            "count": 0
           },
           {
            "bin_end": 0.6000000000000001,
            "bin_start": 0.5,
            "count": 0
           },
           {
            "bin_end": 0.7000000000000001,
            "bin_start": 0.6000000000000001,
            "count": 0
           },
           {
            "bin_end": 0.8,
            "bin_start": 0.7000000000000001,
            "count": 0
           },
           {
            "bin_end": 0.9,
            "bin_start": 0.8,
            "count": 0
           },
           {
            "bin_end": 1,
            "bin_start": 0.9,
            "count": 2
           }
          ],
          "max": "1",
          "min": "0",
          "nan_count": 0,
          "unique_count": 2
         }
        },
        {
         "dtype": "int64",
         "name": "JobLevel",
         "stats": {
          "histogram": [
           {
            "bin_end": 1.3,
            "bin_start": 1,
            "count": 3
           },
           {
            "bin_end": 1.6,
            "bin_start": 1.3,
            "count": 0
           },
           {
            "bin_end": 1.9,
            "bin_start": 1.6,
            "count": 0
           },
           {
            "bin_end": 2.2,
            "bin_start": 1.9,
            "count": 0
           },
           {
            "bin_end": 2.5,
            "bin_start": 2.2,
            "count": 0
           },
           {
            "bin_end": 2.8,
            "bin_start": 2.5,
            "count": 0
           },
           {
            "bin_end": 3.1,
            "bin_start": 2.8,
            "count": 1
           },
           {
            "bin_end": 3.4,
            "bin_start": 3.1,
            "count": 0
           },
           {
            "bin_end": 3.6999999999999997,
            "bin_start": 3.4,
            "count": 0
           },
           {
            "bin_end": 4,
            "bin_start": 3.6999999999999997,
            "count": 1
           }
          ],
          "max": "4",
          "min": "1",
          "nan_count": 0,
          "unique_count": 3
         }
        },
        {
         "dtype": "object",
         "name": "JobRole",
         "stats": {
          "categories": [
           {
            "count": 2,
            "name": "Sales Executive"
           },
           {
            "count": 1,
            "name": "Healthcare Representative"
           },
           {
            "count": 2,
            "name": "2 others"
           }
          ],
          "nan_count": 0,
          "unique_count": 4
         }
        },
        {
         "dtype": "int64",
         "name": "MonthlyIncome",
         "stats": {
          "histogram": [
           {
            "bin_end": 40406,
            "bin_start": 23420,
            "count": 1
           },
           {
            "bin_end": 57392,
            "bin_start": 40406,
            "count": 1
           },
           {
            "bin_end": 74378,
            "bin_start": 57392,
            "count": 0
           },
           {
            "bin_end": 91364,
            "bin_start": 74378,
            "count": 1
           },
           {
            "bin_end": 108350,
            "bin_start": 91364,
            "count": 0
           },
           {
            "bin_end": 125336,
            "bin_start": 108350,
            "count": 0
           },
           {
            "bin_end": 142322,
            "bin_start": 125336,
            "count": 1
           },
           {
            "bin_end": 159308,
            "bin_start": 142322,
            "count": 0
           },
           {
            "bin_end": 176294,
            "bin_start": 159308,
            "count": 0
           },
           {
            "bin_end": 193280,
            "bin_start": 176294,
            "count": 1
           }
          ],
          "max": "193280",
          "min": "23420",
          "nan_count": 0,
          "unique_count": 5
         }
        },
        {
         "dtype": "float64",
         "name": "NumCompaniesWorked",
         "stats": {
          "histogram": [
           {
            "bin_end": 0.4,
            "bin_start": 0,
            "count": 1
           },
           {
            "bin_end": 0.8,
            "bin_start": 0.4,
            "count": 0
           },
           {
            "bin_end": 1.2000000000000002,
            "bin_start": 0.8,
            "count": 2
           },
           {
            "bin_end": 1.6,
            "bin_start": 1.2000000000000002,
            "count": 0
           },
           {
            "bin_end": 2,
            "bin_start": 1.6,
            "count": 0
           },
           {
            "bin_end": 2.4000000000000004,
            "bin_start": 2,
            "count": 0
           },
           {
            "bin_end": 2.8000000000000003,
            "bin_start": 2.4000000000000004,
            "count": 0
           },
           {
            "bin_end": 3.2,
            "bin_start": 2.8000000000000003,
            "count": 1
           },
           {
            "bin_end": 3.6,
            "bin_start": 3.2,
            "count": 0
           },
           {
            "bin_end": 4,
            "bin_start": 3.6,
            "count": 1
           }
          ],
          "max": "4.0",
          "min": "0.0",
          "nan_count": 0,
          "unique_count": 4
         }
        },
        {
         "dtype": "int64",
         "name": "PercentSalaryHike",
         "stats": {
          "histogram": [
           {
            "bin_end": 12.2,
            "bin_start": 11,
            "count": 3
           },
           {
            "bin_end": 13.4,
            "bin_start": 12.2,
            "count": 0
           },
           {
            "bin_end": 14.6,
            "bin_start": 13.4,
            "count": 0
           },
           {
            "bin_end": 15.8,
            "bin_start": 14.6,
            "count": 1
           },
           {
            "bin_end": 17,
            "bin_start": 15.8,
            "count": 0
           },
           {
            "bin_end": 18.2,
            "bin_start": 17,
            "count": 0
           },
           {
            "bin_end": 19.4,
            "bin_start": 18.2,
            "count": 0
           },
           {
            "bin_end": 20.6,
            "bin_start": 19.4,
            "count": 0
           },
           {
            "bin_end": 21.799999999999997,
            "bin_start": 20.6,
            "count": 0
           },
           {
            "bin_end": 23,
            "bin_start": 21.799999999999997,
            "count": 1
           }
          ],
          "max": "23",
          "min": "11",
          "nan_count": 0,
          "unique_count": 4
         }
        },
        {
         "dtype": "int64",
         "name": "StockOptionLevel",
         "stats": {
          "histogram": [
           {
            "bin_end": 0.3,
            "bin_start": 0,
            "count": 1
           },
           {
            "bin_end": 0.6,
            "bin_start": 0.3,
            "count": 0
           },
           {
            "bin_end": 0.8999999999999999,
            "bin_start": 0.6,
            "count": 0
           },
           {
            "bin_end": 1.2,
            "bin_start": 0.8999999999999999,
            "count": 1
           },
           {
            "bin_end": 1.5,
            "bin_start": 1.2,
            "count": 0
           },
           {
            "bin_end": 1.7999999999999998,
            "bin_start": 1.5,
            "count": 0
           },
           {
            "bin_end": 2.1,
            "bin_start": 1.7999999999999998,
            "count": 1
           },
           {
            "bin_end": 2.4,
            "bin_start": 2.1,
            "count": 0
           },
           {
            "bin_end": 2.6999999999999997,
            "bin_start": 2.4,
            "count": 0
           },
           {
            "bin_end": 3,
            "bin_start": 2.6999999999999997,
            "count": 2
           }
          ],
          "max": "3",
          "min": "0",
          "nan_count": 0,
          "unique_count": 4
         }
        },
        {
         "dtype": "float64",
         "name": "TotalWorkingYears",
         "stats": {
          "histogram": [
           {
            "bin_end": 2.2,
            "bin_start": 1,
            "count": 1
           },
           {
            "bin_end": 3.4,
            "bin_start": 2.2,
            "count": 0
           },
           {
            "bin_end": 4.6,
            "bin_start": 3.4,
            "count": 0
           },
           {
            "bin_end": 5.8,
            "bin_start": 4.6,
            "count": 1
           },
           {
            "bin_end": 7,
            "bin_start": 5.8,
            "count": 1
           },
           {
            "bin_end": 8.2,
            "bin_start": 7,
            "count": 0
           },
           {
            "bin_end": 9.4,
            "bin_start": 8.2,
            "count": 1
           },
           {
            "bin_end": 10.6,
            "bin_start": 9.4,
            "count": 0
           },
           {
            "bin_end": 11.799999999999999,
            "bin_start": 10.6,
            "count": 0
           },
           {
            "bin_end": 13,
            "bin_start": 11.799999999999999,
            "count": 1
           }
          ],
          "max": "13.0",
          "min": "1.0",
          "nan_count": 0,
          "unique_count": 5
         }
        },
        {
         "dtype": "int64",
         "name": "TrainingTimesLastYear",
         "stats": {
          "histogram": [
           {
            "bin_end": 2.4,
            "bin_start": 2,
            "count": 2
           },
           {
            "bin_end": 2.8,
            "bin_start": 2.4,
            "count": 0
           },
           {
            "bin_end": 3.2,
            "bin_start": 2.8,
            "count": 1
           },
           {
            "bin_end": 3.6,
            "bin_start": 3.2,
            "count": 0
           },
           {
            "bin_end": 4,
            "bin_start": 3.6,
            "count": 0
           },
           {
            "bin_end": 4.4,
            "bin_start": 4,
            "count": 0
           },
           {
            "bin_end": 4.800000000000001,
            "bin_start": 4.4,
            "count": 0
           },
           {
            "bin_end": 5.2,
            "bin_start": 4.800000000000001,
            "count": 1
           },
           {
            "bin_end": 5.6,
            "bin_start": 5.2,
            "count": 0
           },
           {
            "bin_end": 6,
            "bin_start": 5.6,
            "count": 1
           }
          ],
          "max": "6",
          "min": "2",
          "nan_count": 0,
          "unique_count": 4
         }
        },
        {
         "dtype": "int64",
         "name": "YearsAtCompany",
         "stats": {
          "histogram": [
           {
            "bin_end": 1.7,
            "bin_start": 1,
            "count": 1
           },
           {
            "bin_end": 2.4,
            "bin_start": 1.7,
            "count": 0
           },
           {
            "bin_end": 3.0999999999999996,
            "bin_start": 2.4,
            "count": 0
           },
           {
            "bin_end": 3.8,
            "bin_start": 3.0999999999999996,
            "count": 0
           },
           {
            "bin_end": 4.5,
            "bin_start": 3.8,
            "count": 0
           },
           {
            "bin_end": 5.199999999999999,
            "bin_start": 4.5,
            "count": 2
           },
           {
            "bin_end": 5.8999999999999995,
            "bin_start": 5.199999999999999,
            "count": 0
           },
           {
            "bin_end": 6.6,
            "bin_start": 5.8999999999999995,
            "count": 1
           },
           {
            "bin_end": 7.3,
            "bin_start": 6.6,
            "count": 0
           },
           {
            "bin_end": 8,
            "bin_start": 7.3,
            "count": 1
           }
          ],
          "max": "8",
          "min": "1",
          "nan_count": 0,
          "unique_count": 4
         }
        },
        {
         "dtype": "int64",
         "name": "YearsSinceLastPromotion",
         "stats": {
          "histogram": [
           {
            "bin_end": 0.7,
            "bin_start": 0,
            "count": 3
           },
           {
            "bin_end": 1.4,
            "bin_start": 0.7,
            "count": 1
           },
           {
            "bin_end": 2.0999999999999996,
            "bin_start": 1.4,
            "count": 0
           },
           {
            "bin_end": 2.8,
            "bin_start": 2.0999999999999996,
            "count": 0
           },
           {
            "bin_end": 3.5,
            "bin_start": 2.8,
            "count": 0
           },
           {
            "bin_end": 4.199999999999999,
            "bin_start": 3.5,
            "count": 0
           },
           {
            "bin_end": 4.8999999999999995,
            "bin_start": 4.199999999999999,
            "count": 0
           },
           {
            "bin_end": 5.6,
            "bin_start": 4.8999999999999995,
            "count": 0
           },
           {
            "bin_end": 6.3,
            "bin_start": 5.6,
            "count": 0
           },
           {
            "bin_end": 7,
            "bin_start": 6.3,
            "count": 1
           }
          ],
          "max": "7",
          "min": "0",
          "nan_count": 0,
          "unique_count": 3
         }
        },
        {
         "dtype": "int64",
         "name": "YearsWithCurrManager",
         "stats": {
          "histogram": [
           {
            "bin_end": 0.5,
            "bin_start": 0,
            "count": 1
           },
           {
            "bin_end": 1,
            "bin_start": 0.5,
            "count": 0
           },
           {
            "bin_end": 1.5,
            "bin_start": 1,
            "count": 0
           },
           {
            "bin_end": 2,
            "bin_start": 1.5,
            "count": 0
           },
           {
            "bin_end": 2.5,
            "bin_start": 2,
            "count": 0
           },
           {
            "bin_end": 3,
            "bin_start": 2.5,
            "count": 0
           },
           {
            "bin_end": 3.5,
            "bin_start": 3,
            "count": 1
           },
           {
            "bin_end": 4,
            "bin_start": 3.5,
            "count": 0
           },
           {
            "bin_end": 4.5,
            "bin_start": 4,
            "count": 2
           },
           {
            "bin_end": 5,
            "bin_start": 4.5,
            "count": 1
           }
          ],
          "max": "5",
          "min": "0",
          "nan_count": 0,
          "unique_count": 4
         }
        },
        {
         "dtype": "float64",
         "name": "EnvironmentSatisfaction",
         "stats": {
          "histogram": [
           {
            "bin_end": 2.2,
            "bin_start": 2,
            "count": 1
           },
           {
            "bin_end": 2.4,
            "bin_start": 2.2,
            "count": 0
           },
           {
            "bin_end": 2.6,
            "bin_start": 2.4,
            "count": 0
           },
           {
            "bin_end": 2.8,
            "bin_start": 2.6,
            "count": 0
           },
           {
            "bin_end": 3,
            "bin_start": 2.8,
            "count": 0
           },
           {
            "bin_end": 3.2,
            "bin_start": 3,
            "count": 2
           },
           {
            "bin_end": 3.4000000000000004,
            "bin_start": 3.2,
            "count": 0
           },
           {
            "bin_end": 3.6,
            "bin_start": 3.4000000000000004,
            "count": 0
           },
           {
            "bin_end": 3.8,
            "bin_start": 3.6,
            "count": 0
           },
           {
            "bin_end": 4,
            "bin_start": 3.8,
            "count": 2
           }
          ],
          "max": "4.0",
          "min": "2.0",
          "nan_count": 0,
          "unique_count": 3
         }
        },
        {
         "dtype": "float64",
         "name": "JobSatisfaction",
         "stats": {
          "histogram": [
           {
            "bin_end": 1.3,
            "bin_start": 1,
            "count": 1
           },
           {
            "bin_end": 1.6,
            "bin_start": 1.3,
            "count": 0
           },
           {
            "bin_end": 1.9,
            "bin_start": 1.6,
            "count": 0
           },
           {
            "bin_end": 2.2,
            "bin_start": 1.9,
            "count": 2
           },
           {
            "bin_end": 2.5,
            "bin_start": 2.2,
            "count": 0
           },
           {
            "bin_end": 2.8,
            "bin_start": 2.5,
            "count": 0
           },
           {
            "bin_end": 3.1,
            "bin_start": 2.8,
            "count": 0
           },
           {
            "bin_end": 3.4,
            "bin_start": 3.1,
            "count": 0
           },
           {
            "bin_end": 3.6999999999999997,
            "bin_start": 3.4,
            "count": 0
           },
           {
            "bin_end": 4,
            "bin_start": 3.6999999999999997,
            "count": 2
           }
          ],
          "max": "4.0",
          "min": "1.0",
          "nan_count": 0,
          "unique_count": 3
         }
        },
        {
         "dtype": "float64",
         "name": "WorkLifeBalance",
         "stats": {
          "histogram": [
           {
            "bin_end": 1.3,
            "bin_start": 1,
            "count": 1
           },
           {
            "bin_end": 1.6,
            "bin_start": 1.3,
            "count": 0
           },
           {
            "bin_end": 1.9,
            "bin_start": 1.6,
            "count": 0
           },
           {
            "bin_end": 2.2,
            "bin_start": 1.9,
            "count": 1
           },
           {
            "bin_end": 2.5,
            "bin_start": 2.2,
            "count": 0
           },
           {
            "bin_end": 2.8,
            "bin_start": 2.5,
            "count": 0
           },
           {
            "bin_end": 3.1,
            "bin_start": 2.8,
            "count": 2
           },
           {
            "bin_end": 3.4,
            "bin_start": 3.1,
            "count": 0
           },
           {
            "bin_end": 3.6999999999999997,
            "bin_start": 3.4,
            "count": 0
           },
           {
            "bin_end": 4,
            "bin_start": 3.6999999999999997,
            "count": 1
           }
          ],
          "max": "4.0",
          "min": "1.0",
          "nan_count": 0,
          "unique_count": 4
         }
        },
        {
         "dtype": "int64",
         "name": "JobInvolvement",
         "stats": {
          "histogram": [
           {
            "bin_end": 2.1,
            "bin_start": 2,
            "count": 2
           },
           {
            "bin_end": 2.2,
            "bin_start": 2.1,
            "count": 0
           },
           {
            "bin_end": 2.3,
            "bin_start": 2.2,
            "count": 0
           },
           {
            "bin_end": 2.4,
            "bin_start": 2.3,
            "count": 0
           },
           {
            "bin_end": 2.5,
            "bin_start": 2.4,
            "count": 0
           },
           {
            "bin_end": 2.6,
            "bin_start": 2.5,
            "count": 0
           },
           {
            "bin_end": 2.7,
            "bin_start": 2.6,
            "count": 0
           },
           {
            "bin_end": 2.8,
            "bin_start": 2.7,
            "count": 0
           },
           {
            "bin_end": 2.9,
            "bin_start": 2.8,
            "count": 0
           },
           {
            "bin_end": 3,
            "bin_start": 2.9,
            "count": 3
           }
          ],
          "max": "3",
          "min": "2",
          "nan_count": 0,
          "unique_count": 2
         }
        },
        {
         "dtype": "int64",
         "name": "PerformanceRating",
         "stats": {
          "histogram": [
           {
            "bin_end": 3.1,
            "bin_start": 3,
            "count": 4
           },
           {
            "bin_end": 3.2,
            "bin_start": 3.1,
            "count": 0
           },
           {
            "bin_end": 3.3,
            "bin_start": 3.2,
            "count": 0
           },
           {
            "bin_end": 3.4,
            "bin_start": 3.3,
            "count": 0
           },
           {
            "bin_end": 3.5,
            "bin_start": 3.4,
            "count": 0
           },
           {
            "bin_end": 3.6,
            "bin_start": 3.5,
            "count": 0
           },
           {
            "bin_end": 3.7,
            "bin_start": 3.6,
            "count": 0
           },
           {
            "bin_end": 3.8,
            "bin_start": 3.7,
            "count": 0
           },
           {
            "bin_end": 3.9,
            "bin_start": 3.8,
            "count": 0
           },
           {
            "bin_end": 4,
            "bin_start": 3.9,
            "count": 1
           }
          ],
          "max": "4",
          "min": "3",
          "nan_count": 0,
          "unique_count": 2
         }
        },
        {
         "dtype": "int64",
         "name": "_deepnote_index_column"
        }
       ],
       "row_count": 5,
       "rows": [
        {
         "Age": 51,
         "Attrition": 0,
         "BusinessTravel": "Travel_Rarely",
         "Department": "Sales",
         "DistanceFromHome": 6,
         "Education": 2,
         "EducationField": "Life Sciences",
         "EnvironmentSatisfaction": 3,
         "Gender": 1,
         "JobInvolvement": 3,
         "JobLevel": 1,
         "JobRole": "Healthcare Representative",
         "JobSatisfaction": 4,
         "MonthlyIncome": 131160,
         "NumCompaniesWorked": 1,
         "PercentSalaryHike": 11,
         "PerformanceRating": 3,
         "StockOptionLevel": 0,
         "TotalWorkingYears": 1,
         "TrainingTimesLastYear": 6,
         "WorkLifeBalance": 2,
         "YearsAtCompany": 1,
         "YearsSinceLastPromotion": 0,
         "YearsWithCurrManager": 0,
         "_deepnote_index_column": 0
        },
        {
         "Age": 31,
         "Attrition": 1,
         "BusinessTravel": "Travel_Frequently",
         "Department": "Research & Development",
         "DistanceFromHome": 10,
         "Education": 1,
         "EducationField": "Life Sciences",
         "EnvironmentSatisfaction": 3,
         "Gender": 1,
         "JobInvolvement": 2,
         "JobLevel": 1,
         "JobRole": "Research Scientist",
         "JobSatisfaction": 2,
         "MonthlyIncome": 41890,
         "NumCompaniesWorked": 0,
         "PercentSalaryHike": 23,
         "PerformanceRating": 4,
         "StockOptionLevel": 1,
         "TotalWorkingYears": 6,
         "TrainingTimesLastYear": 3,
         "WorkLifeBalance": 4,
         "YearsAtCompany": 5,
         "YearsSinceLastPromotion": 1,
         "YearsWithCurrManager": 4,
         "_deepnote_index_column": 1
        },
        {
         "Age": 32,
         "Attrition": 0,
         "BusinessTravel": "Travel_Frequently",
         "Department": "Research & Development",
         "DistanceFromHome": 17,
         "Education": 4,
         "EducationField": "Other",
         "EnvironmentSatisfaction": 2,
         "Gender": 0,
         "JobInvolvement": 3,
         "JobLevel": 4,
         "JobRole": "Sales Executive",
         "JobSatisfaction": 2,
         "MonthlyIncome": 193280,
         "NumCompaniesWorked": 1,
         "PercentSalaryHike": 15,
         "PerformanceRating": 3,
         "StockOptionLevel": 3,
         "TotalWorkingYears": 5,
         "TrainingTimesLastYear": 2,
         "WorkLifeBalance": 1,
         "YearsAtCompany": 5,
         "YearsSinceLastPromotion": 0,
         "YearsWithCurrManager": 3,
         "_deepnote_index_column": 2
        },
        {
         "Age": 38,
         "Attrition": 0,
         "BusinessTravel": "Non-Travel",
         "Department": "Research & Development",
         "DistanceFromHome": 2,
         "Education": 5,
         "EducationField": "Life Sciences",
         "EnvironmentSatisfaction": 4,
         "Gender": 0,
         "JobInvolvement": 2,
         "JobLevel": 3,
         "JobRole": "Human Resources",
         "JobSatisfaction": 4,
         "MonthlyIncome": 83210,
         "NumCompaniesWorked": 3,
         "PercentSalaryHike": 11,
         "PerformanceRating": 3,
         "StockOptionLevel": 3,
         "TotalWorkingYears": 13,
         "TrainingTimesLastYear": 5,
         "WorkLifeBalance": 3,
         "YearsAtCompany": 8,
         "YearsSinceLastPromotion": 7,
         "YearsWithCurrManager": 5,
         "_deepnote_index_column": 3
        },
        {
         "Age": 32,
         "Attrition": 0,
         "BusinessTravel": "Travel_Rarely",
         "Department": "Research & Development",
         "DistanceFromHome": 10,
         "Education": 1,
         "EducationField": "Medical",
         "EnvironmentSatisfaction": 4,
         "Gender": 0,
         "JobInvolvement": 3,
         "JobLevel": 1,
         "JobRole": "Sales Executive",
         "JobSatisfaction": 1,
         "MonthlyIncome": 23420,
         "NumCompaniesWorked": 4,
         "PercentSalaryHike": 12,
         "PerformanceRating": 3,
         "StockOptionLevel": 2,
         "TotalWorkingYears": 9,
         "TrainingTimesLastYear": 2,
         "WorkLifeBalance": 3,
         "YearsAtCompany": 6,
         "YearsSinceLastPromotion": 0,
         "YearsWithCurrManager": 4,
         "_deepnote_index_column": 4
        }
       ]
      },
      "text/html": [
       "<div>\n",
       "<style scoped>\n",
       "    .dataframe tbody tr th:only-of-type {\n",
       "        vertical-align: middle;\n",
       "    }\n",
       "\n",
       "    .dataframe tbody tr th {\n",
       "        vertical-align: top;\n",
       "    }\n",
       "\n",
       "    .dataframe thead th {\n",
       "        text-align: right;\n",
       "    }\n",
       "</style>\n",
       "<table border=\"1\" class=\"dataframe\">\n",
       "  <thead>\n",
       "    <tr style=\"text-align: right;\">\n",
       "      <th></th>\n",
       "      <th>Age</th>\n",
       "      <th>Attrition</th>\n",
       "      <th>BusinessTravel</th>\n",
       "      <th>Department</th>\n",
       "      <th>DistanceFromHome</th>\n",
       "      <th>Education</th>\n",
       "      <th>EducationField</th>\n",
       "      <th>Gender</th>\n",
       "      <th>JobLevel</th>\n",
       "      <th>JobRole</th>\n",
       "      <th>...</th>\n",
       "      <th>TotalWorkingYears</th>\n",
       "      <th>TrainingTimesLastYear</th>\n",
       "      <th>YearsAtCompany</th>\n",
       "      <th>YearsSinceLastPromotion</th>\n",
       "      <th>YearsWithCurrManager</th>\n",
       "      <th>EnvironmentSatisfaction</th>\n",
       "      <th>JobSatisfaction</th>\n",
       "      <th>WorkLifeBalance</th>\n",
       "      <th>JobInvolvement</th>\n",
       "      <th>PerformanceRating</th>\n",
       "    </tr>\n",
       "  </thead>\n",
       "  <tbody>\n",
       "    <tr>\n",
       "      <th>0</th>\n",
       "      <td>51</td>\n",
       "      <td>0</td>\n",
       "      <td>Travel_Rarely</td>\n",
       "      <td>Sales</td>\n",
       "      <td>6</td>\n",
       "      <td>2</td>\n",
       "      <td>Life Sciences</td>\n",
       "      <td>1</td>\n",
       "      <td>1</td>\n",
       "      <td>Healthcare Representative</td>\n",
       "      <td>...</td>\n",
       "      <td>1.0</td>\n",
       "      <td>6</td>\n",
       "      <td>1</td>\n",
       "      <td>0</td>\n",
       "      <td>0</td>\n",
       "      <td>3.0</td>\n",
       "      <td>4.0</td>\n",
       "      <td>2.0</td>\n",
       "      <td>3</td>\n",
       "      <td>3</td>\n",
       "    </tr>\n",
       "    <tr>\n",
       "      <th>1</th>\n",
       "      <td>31</td>\n",
       "      <td>1</td>\n",
       "      <td>Travel_Frequently</td>\n",
       "      <td>Research &amp; Development</td>\n",
       "      <td>10</td>\n",
       "      <td>1</td>\n",
       "      <td>Life Sciences</td>\n",
       "      <td>1</td>\n",
       "      <td>1</td>\n",
       "      <td>Research Scientist</td>\n",
       "      <td>...</td>\n",
       "      <td>6.0</td>\n",
       "      <td>3</td>\n",
       "      <td>5</td>\n",
       "      <td>1</td>\n",
       "      <td>4</td>\n",
       "      <td>3.0</td>\n",
       "      <td>2.0</td>\n",
       "      <td>4.0</td>\n",
       "      <td>2</td>\n",
       "      <td>4</td>\n",
       "    </tr>\n",
       "    <tr>\n",
       "      <th>2</th>\n",
       "      <td>32</td>\n",
       "      <td>0</td>\n",
       "      <td>Travel_Frequently</td>\n",
       "      <td>Research &amp; Development</td>\n",
       "      <td>17</td>\n",
       "      <td>4</td>\n",
       "      <td>Other</td>\n",
       "      <td>0</td>\n",
       "      <td>4</td>\n",
       "      <td>Sales Executive</td>\n",
       "      <td>...</td>\n",
       "      <td>5.0</td>\n",
       "      <td>2</td>\n",
       "      <td>5</td>\n",
       "      <td>0</td>\n",
       "      <td>3</td>\n",
       "      <td>2.0</td>\n",
       "      <td>2.0</td>\n",
       "      <td>1.0</td>\n",
       "      <td>3</td>\n",
       "      <td>3</td>\n",
       "    </tr>\n",
       "    <tr>\n",
       "      <th>3</th>\n",
       "      <td>38</td>\n",
       "      <td>0</td>\n",
       "      <td>Non-Travel</td>\n",
       "      <td>Research &amp; Development</td>\n",
       "      <td>2</td>\n",
       "      <td>5</td>\n",
       "      <td>Life Sciences</td>\n",
       "      <td>0</td>\n",
       "      <td>3</td>\n",
       "      <td>Human Resources</td>\n",
       "      <td>...</td>\n",
       "      <td>13.0</td>\n",
       "      <td>5</td>\n",
       "      <td>8</td>\n",
       "      <td>7</td>\n",
       "      <td>5</td>\n",
       "      <td>4.0</td>\n",
       "      <td>4.0</td>\n",
       "      <td>3.0</td>\n",
       "      <td>2</td>\n",
       "      <td>3</td>\n",
       "    </tr>\n",
       "    <tr>\n",
       "      <th>4</th>\n",
       "      <td>32</td>\n",
       "      <td>0</td>\n",
       "      <td>Travel_Rarely</td>\n",
       "      <td>Research &amp; Development</td>\n",
       "      <td>10</td>\n",
       "      <td>1</td>\n",
       "      <td>Medical</td>\n",
       "      <td>0</td>\n",
       "      <td>1</td>\n",
       "      <td>Sales Executive</td>\n",
       "      <td>...</td>\n",
       "      <td>9.0</td>\n",
       "      <td>2</td>\n",
       "      <td>6</td>\n",
       "      <td>0</td>\n",
       "      <td>4</td>\n",
       "      <td>4.0</td>\n",
       "      <td>1.0</td>\n",
       "      <td>3.0</td>\n",
       "      <td>3</td>\n",
       "      <td>3</td>\n",
       "    </tr>\n",
       "  </tbody>\n",
       "</table>\n",
       "<p>5 rows × 24 columns</p>\n",
       "</div>"
      ],
      "text/plain": [
       "   Age  Attrition     BusinessTravel              Department  \\\n",
       "0   51          0      Travel_Rarely                   Sales   \n",
       "1   31          1  Travel_Frequently  Research & Development   \n",
       "2   32          0  Travel_Frequently  Research & Development   \n",
       "3   38          0         Non-Travel  Research & Development   \n",
       "4   32          0      Travel_Rarely  Research & Development   \n",
       "\n",
       "   DistanceFromHome  Education EducationField  Gender  JobLevel  \\\n",
       "0                 6          2  Life Sciences       1         1   \n",
       "1                10          1  Life Sciences       1         1   \n",
       "2                17          4          Other       0         4   \n",
       "3                 2          5  Life Sciences       0         3   \n",
       "4                10          1        Medical       0         1   \n",
       "\n",
       "                     JobRole  ...  TotalWorkingYears  TrainingTimesLastYear  \\\n",
       "0  Healthcare Representative  ...                1.0                      6   \n",
       "1         Research Scientist  ...                6.0                      3   \n",
       "2            Sales Executive  ...                5.0                      2   \n",
       "3            Human Resources  ...               13.0                      5   \n",
       "4            Sales Executive  ...                9.0                      2   \n",
       "\n",
       "   YearsAtCompany  YearsSinceLastPromotion  YearsWithCurrManager  \\\n",
       "0               1                        0                     0   \n",
       "1               5                        1                     4   \n",
       "2               5                        0                     3   \n",
       "3               8                        7                     5   \n",
       "4               6                        0                     4   \n",
       "\n",
       "   EnvironmentSatisfaction  JobSatisfaction  WorkLifeBalance  JobInvolvement  \\\n",
       "0                      3.0              4.0              2.0               3   \n",
       "1                      3.0              2.0              4.0               2   \n",
       "2                      2.0              2.0              1.0               3   \n",
       "3                      4.0              4.0              3.0               2   \n",
       "4                      4.0              1.0              3.0               3   \n",
       "\n",
       "   PerformanceRating  \n",
       "0                  3  \n",
       "1                  4  \n",
       "2                  3  \n",
       "3                  3  \n",
       "4                  3  \n",
       "\n",
       "[5 rows x 24 columns]"
      ]
     },
     "execution_count": 25,
     "metadata": {},
     "output_type": "execute_result"
    }
   ],
   "source": [
    "#Nettoyage du jeu de données: Drop les instances correspondantes aux pb de typage.\n",
    "# Attrition et Gender sont deux valeurs : Oui / Non, Homme / Femme.\n",
    "fixed_dataframe = filtered_dataframe.replace({\"Attrition\": {'Yes': 1, 'No': 0}}).replace({\"Gender\": {'Female': 1, 'Male': 0}})\n",
    "\n",
    "fixed_dataframe.head()"
   ]
  },
  {
   "cell_type": "markdown",
   "metadata": {
    "cell_id": "cdfb3a7a-cfe6-489a-96ad-e1301d01e4e1",
    "deepnote_cell_height": 70,
    "deepnote_cell_type": "text-cell-h2",
    "is_collapsed": false,
    "tags": []
   },
   "source": [
    "## 3. Analyse des données brutes"
   ]
  },
  {
   "cell_type": "markdown",
   "metadata": {
    "cell_id": "3bdae0de-438d-4b1d-a84b-e0a2d968ea2d",
    "deepnote_cell_type": "markdown",
    "tags": []
   },
   "source": [
    "Avant d'utiliser des modèles de prédiction, nous allons tenter d'analyser nos données brutes grâce à une matrice de corrélation."
   ]
  },
  {
   "cell_type": "code",
   "execution_count": null,
   "metadata": {
    "cell_id": "4e547358-2d17-48b2-a4ca-a3ff662403bf",
    "deepnote_cell_type": "code",
    "deepnote_to_be_reexecuted": false,
    "execution_millis": 235,
    "execution_start": 1647509385315,
    "source_hash": "f706bd56",
    "tags": []
   },
   "outputs": [
    {
     "data": {
      "text/html": [
       "<style type=\"text/css\">\n",
       "#T_e374d_row0_col0, #T_e374d_row1_col1, #T_e374d_row2_col2, #T_e374d_row3_col3, #T_e374d_row4_col4, #T_e374d_row5_col5, #T_e374d_row6_col6, #T_e374d_row7_col7, #T_e374d_row8_col8, #T_e374d_row9_col9, #T_e374d_row10_col10, #T_e374d_row11_col11, #T_e374d_row12_col12, #T_e374d_row13_col13, #T_e374d_row14_col14, #T_e374d_row15_col15, #T_e374d_row16_col16, #T_e374d_row17_col17, #T_e374d_row18_col18, #T_e374d_row19_col19 {\n",
       "  background-color: #b40426;\n",
       "  color: #f1f1f1;\n",
       "}\n",
       "#T_e374d_row0_col1, #T_e374d_row0_col11, #T_e374d_row0_col19, #T_e374d_row3_col19, #T_e374d_row5_col13, #T_e374d_row5_col17, #T_e374d_row9_col19, #T_e374d_row10_col6, #T_e374d_row11_col18, #T_e374d_row11_col19, #T_e374d_row12_col18, #T_e374d_row14_col7, #T_e374d_row16_col5, #T_e374d_row18_col2, #T_e374d_row18_col17 {\n",
       "  background-color: #4055c8;\n",
       "  color: #f1f1f1;\n",
       "}\n",
       "#T_e374d_row0_col2, #T_e374d_row0_col5, #T_e374d_row1_col3, #T_e374d_row3_col2, #T_e374d_row4_col6, #T_e374d_row8_col11, #T_e374d_row8_col13, #T_e374d_row9_col4, #T_e374d_row11_col17, #T_e374d_row14_col18, #T_e374d_row17_col3, #T_e374d_row18_col8 {\n",
       "  background-color: #4358cb;\n",
       "  color: #f1f1f1;\n",
       "}\n",
       "#T_e374d_row0_col3, #T_e374d_row1_col6, #T_e374d_row2_col6, #T_e374d_row3_col8, #T_e374d_row3_col18, #T_e374d_row7_col12, #T_e374d_row14_col1, #T_e374d_row16_col2, #T_e374d_row16_col17, #T_e374d_row17_col5, #T_e374d_row19_col3 {\n",
       "  background-color: #3f53c6;\n",
       "  color: #f1f1f1;\n",
       "}\n",
       "#T_e374d_row0_col4, #T_e374d_row0_col16, #T_e374d_row2_col4, #T_e374d_row2_col19, #T_e374d_row3_col5, #T_e374d_row4_col13, #T_e374d_row5_col3, #T_e374d_row5_col6, #T_e374d_row6_col5, #T_e374d_row8_col9, #T_e374d_row13_col7, #T_e374d_row15_col13, #T_e374d_row15_col16 {\n",
       "  background-color: #5572df;\n",
       "  color: #f1f1f1;\n",
       "}\n",
       "#T_e374d_row0_col6, #T_e374d_row0_col8, #T_e374d_row1_col13, #T_e374d_row1_col18, #T_e374d_row2_col5, #T_e374d_row2_col18, #T_e374d_row8_col3, #T_e374d_row9_col5, #T_e374d_row15_col5 {\n",
       "  background-color: #3e51c5;\n",
       "  color: #f1f1f1;\n",
       "}\n",
       "#T_e374d_row0_col7, #T_e374d_row7_col0 {\n",
       "  background-color: #cedaeb;\n",
       "  color: #000000;\n",
       "}\n",
       "#T_e374d_row0_col9, #T_e374d_row4_col8, #T_e374d_row7_col18, #T_e374d_row7_col19, #T_e374d_row10_col17, #T_e374d_row12_col3, #T_e374d_row12_col11, #T_e374d_row12_col19, #T_e374d_row13_col17, #T_e374d_row14_col4, #T_e374d_row14_col11, #T_e374d_row14_col17, #T_e374d_row14_col19, #T_e374d_row16_col3, #T_e374d_row19_col5, #T_e374d_row19_col13 {\n",
       "  background-color: #4961d2;\n",
       "  color: #f1f1f1;\n",
       "}\n",
       "#T_e374d_row0_col10 {\n",
       "  background-color: #f7a889;\n",
       "  color: #000000;\n",
       "}\n",
       "#T_e374d_row0_col12 {\n",
       "  background-color: #b7cff9;\n",
       "  color: #000000;\n",
       "}\n",
       "#T_e374d_row0_col13 {\n",
       "  background-color: #84a7fc;\n",
       "  color: #f1f1f1;\n",
       "}\n",
       "#T_e374d_row0_col14, #T_e374d_row14_col0 {\n",
       "  background-color: #a3c2fe;\n",
       "  color: #000000;\n",
       "}\n",
       "#T_e374d_row0_col15, #T_e374d_row3_col16, #T_e374d_row12_col15, #T_e374d_row13_col6 {\n",
       "  background-color: #5875e1;\n",
       "  color: #f1f1f1;\n",
       "}\n",
       "#T_e374d_row0_col17, #T_e374d_row2_col3, #T_e374d_row3_col6, #T_e374d_row6_col18, #T_e374d_row9_col17, #T_e374d_row11_col2, #T_e374d_row15_col8, #T_e374d_row15_col18 {\n",
       "  background-color: #465ecf;\n",
       "  color: #f1f1f1;\n",
       "}\n",
       "#T_e374d_row0_col18, #T_e374d_row3_col15, #T_e374d_row4_col9, #T_e374d_row6_col3, #T_e374d_row7_col16, #T_e374d_row13_col2, #T_e374d_row13_col18, #T_e374d_row16_col11, #T_e374d_row17_col2, #T_e374d_row17_col11 {\n",
       "  background-color: #485fd1;\n",
       "  color: #f1f1f1;\n",
       "}\n",
       "#T_e374d_row1_col0, #T_e374d_row1_col10, #T_e374d_row1_col12, #T_e374d_row1_col14, #T_e374d_row1_col15, #T_e374d_row1_col16, #T_e374d_row1_col17, #T_e374d_row4_col18, #T_e374d_row4_col19, #T_e374d_row7_col2, #T_e374d_row7_col6, #T_e374d_row7_col13, #T_e374d_row9_col11, #T_e374d_row10_col1, #T_e374d_row11_col5, #T_e374d_row11_col9, #T_e374d_row12_col5, #T_e374d_row12_col7, #T_e374d_row13_col5, #T_e374d_row14_col5, #T_e374d_row14_col8, #T_e374d_row15_col3, #T_e374d_row17_col18, #T_e374d_row19_col4 {\n",
       "  background-color: #3b4cc0;\n",
       "  color: #f1f1f1;\n",
       "}\n",
       "#T_e374d_row1_col2, #T_e374d_row1_col4, #T_e374d_row3_col17, #T_e374d_row5_col9, #T_e374d_row7_col3, #T_e374d_row7_col5, #T_e374d_row10_col2, #T_e374d_row15_col6, #T_e374d_row19_col18 {\n",
       "  background-color: #445acc;\n",
       "  color: #f1f1f1;\n",
       "}\n",
       "#T_e374d_row1_col5, #T_e374d_row6_col4, #T_e374d_row9_col2, #T_e374d_row9_col3, #T_e374d_row9_col18, #T_e374d_row10_col19, #T_e374d_row13_col19, #T_e374d_row16_col4, #T_e374d_row16_col6, #T_e374d_row16_col18, #T_e374d_row18_col3, #T_e374d_row19_col9, #T_e374d_row19_col11 {\n",
       "  background-color: #455cce;\n",
       "  color: #f1f1f1;\n",
       "}\n",
       "#T_e374d_row1_col7, #T_e374d_row4_col12, #T_e374d_row6_col14 {\n",
       "  background-color: #7093f3;\n",
       "  color: #f1f1f1;\n",
       "}\n",
       "#T_e374d_row1_col8, #T_e374d_row2_col16, #T_e374d_row3_col13, #T_e374d_row6_col11, #T_e374d_row8_col5, #T_e374d_row10_col9, #T_e374d_row10_col15, #T_e374d_row11_col3, #T_e374d_row18_col9, #T_e374d_row19_col2 {\n",
       "  background-color: #516ddb;\n",
       "  color: #f1f1f1;\n",
       "}\n",
       "#T_e374d_row1_col9, #T_e374d_row4_col3, #T_e374d_row7_col11, #T_e374d_row7_col17, #T_e374d_row8_col4, #T_e374d_row8_col6, #T_e374d_row12_col2, #T_e374d_row19_col6 {\n",
       "  background-color: #4a63d3;\n",
       "  color: #f1f1f1;\n",
       "}\n",
       "#T_e374d_row1_col11, #T_e374d_row5_col11, #T_e374d_row7_col14, #T_e374d_row10_col11, #T_e374d_row10_col18, #T_e374d_row17_col19, #T_e374d_row18_col4, #T_e374d_row18_col5, #T_e374d_row19_col17 {\n",
       "  background-color: #4257c9;\n",
       "  color: #f1f1f1;\n",
       "}\n",
       "#T_e374d_row1_col19, #T_e374d_row2_col13, #T_e374d_row4_col2, #T_e374d_row5_col4, #T_e374d_row5_col16, #T_e374d_row6_col17, #T_e374d_row8_col2, #T_e374d_row11_col16, #T_e374d_row13_col4, #T_e374d_row15_col17 {\n",
       "  background-color: #506bda;\n",
       "  color: #f1f1f1;\n",
       "}\n",
       "#T_e374d_row2_col0, #T_e374d_row16_col0, #T_e374d_row17_col0 {\n",
       "  background-color: #6788ee;\n",
       "  color: #f1f1f1;\n",
       "}\n",
       "#T_e374d_row2_col1, #T_e374d_row3_col12, #T_e374d_row5_col1, #T_e374d_row18_col0, #T_e374d_row18_col10 {\n",
       "  background-color: #6e90f2;\n",
       "  color: #f1f1f1;\n",
       "}\n",
       "#T_e374d_row2_col7, #T_e374d_row5_col14, #T_e374d_row8_col0, #T_e374d_row8_col16 {\n",
       "  background-color: #5e7de7;\n",
       "  color: #f1f1f1;\n",
       "}\n",
       "#T_e374d_row2_col8, #T_e374d_row4_col16, #T_e374d_row4_col17, #T_e374d_row5_col8, #T_e374d_row6_col15, #T_e374d_row9_col6, #T_e374d_row10_col16, #T_e374d_row14_col16, #T_e374d_row15_col11, #T_e374d_row16_col1, #T_e374d_row17_col4, #T_e374d_row18_col13 {\n",
       "  background-color: #536edd;\n",
       "  color: #f1f1f1;\n",
       "}\n",
       "#T_e374d_row2_col9, #T_e374d_row4_col5, #T_e374d_row11_col13, #T_e374d_row13_col11, #T_e374d_row14_col6, #T_e374d_row14_col9, #T_e374d_row15_col19, #T_e374d_row17_col13, #T_e374d_row17_col16 {\n",
       "  background-color: #4e68d8;\n",
       "  color: #f1f1f1;\n",
       "}\n",
       "#T_e374d_row2_col10, #T_e374d_row3_col14, #T_e374d_row15_col12, #T_e374d_row17_col10, #T_e374d_row17_col12, #T_e374d_row18_col7 {\n",
       "  background-color: #6f92f3;\n",
       "  color: #f1f1f1;\n",
       "}\n",
       "#T_e374d_row2_col11, #T_e374d_row9_col8, #T_e374d_row9_col13, #T_e374d_row12_col6, #T_e374d_row13_col9, #T_e374d_row14_col2, #T_e374d_row15_col4, #T_e374d_row16_col8, #T_e374d_row16_col13, #T_e374d_row17_col6 {\n",
       "  background-color: #4f69d9;\n",
       "  color: #f1f1f1;\n",
       "}\n",
       "#T_e374d_row2_col12, #T_e374d_row3_col10, #T_e374d_row16_col12 {\n",
       "  background-color: #7295f4;\n",
       "  color: #f1f1f1;\n",
       "}\n",
       "#T_e374d_row2_col14, #T_e374d_row9_col10 {\n",
       "  background-color: #7396f5;\n",
       "  color: #f1f1f1;\n",
       "}\n",
       "#T_e374d_row2_col15, #T_e374d_row4_col15, #T_e374d_row8_col14, #T_e374d_row11_col0 {\n",
       "  background-color: #5b7ae5;\n",
       "  color: #f1f1f1;\n",
       "}\n",
       "#T_e374d_row2_col17, #T_e374d_row3_col4, #T_e374d_row3_col9, #T_e374d_row5_col19, #T_e374d_row6_col8, #T_e374d_row10_col3, #T_e374d_row11_col6, #T_e374d_row12_col17, #T_e374d_row15_col2, #T_e374d_row17_col9, #T_e374d_row18_col6, #T_e374d_row18_col19 {\n",
       "  background-color: #4b64d5;\n",
       "  color: #f1f1f1;\n",
       "}\n",
       "#T_e374d_row3_col0, #T_e374d_row5_col12, #T_e374d_row6_col0, #T_e374d_row8_col12, #T_e374d_row17_col1 {\n",
       "  background-color: #6180e9;\n",
       "  color: #f1f1f1;\n",
       "}\n",
       "#T_e374d_row3_col1, #T_e374d_row4_col1, #T_e374d_row4_col14, #T_e374d_row6_col10, #T_e374d_row9_col14, #T_e374d_row11_col12, #T_e374d_row15_col7, #T_e374d_row17_col7, #T_e374d_row17_col14, #T_e374d_row18_col14, #T_e374d_row19_col14 {\n",
       "  background-color: #6a8bef;\n",
       "  color: #f1f1f1;\n",
       "}\n",
       "#T_e374d_row3_col7, #T_e374d_row5_col0, #T_e374d_row8_col10, #T_e374d_row9_col0, #T_e374d_row11_col7, #T_e374d_row11_col14, #T_e374d_row19_col16 {\n",
       "  background-color: #6485ec;\n",
       "  color: #f1f1f1;\n",
       "}\n",
       "#T_e374d_row3_col11, #T_e374d_row6_col16, #T_e374d_row7_col15, #T_e374d_row10_col4, #T_e374d_row16_col19 {\n",
       "  background-color: #5673e0;\n",
       "  color: #f1f1f1;\n",
       "}\n",
       "#T_e374d_row4_col0, #T_e374d_row9_col7 {\n",
       "  background-color: #7597f6;\n",
       "  color: #f1f1f1;\n",
       "}\n",
       "#T_e374d_row4_col7 {\n",
       "  background-color: #7da0f9;\n",
       "  color: #f1f1f1;\n",
       "}\n",
       "#T_e374d_row4_col10 {\n",
       "  background-color: #7b9ff9;\n",
       "  color: #f1f1f1;\n",
       "}\n",
       "#T_e374d_row4_col11, #T_e374d_row13_col16, #T_e374d_row16_col7, #T_e374d_row16_col9 {\n",
       "  background-color: #5977e3;\n",
       "  color: #f1f1f1;\n",
       "}\n",
       "#T_e374d_row5_col2, #T_e374d_row8_col17, #T_e374d_row12_col1, #T_e374d_row12_col8, #T_e374d_row17_col8 {\n",
       "  background-color: #3c4ec2;\n",
       "  color: #f1f1f1;\n",
       "}\n",
       "#T_e374d_row5_col7, #T_e374d_row5_col10, #T_e374d_row16_col14 {\n",
       "  background-color: #6687ed;\n",
       "  color: #f1f1f1;\n",
       "}\n",
       "#T_e374d_row5_col15, #T_e374d_row6_col19, #T_e374d_row7_col8, #T_e374d_row12_col4, #T_e374d_row12_col9, #T_e374d_row13_col3, #T_e374d_row14_col3, #T_e374d_row15_col9, #T_e374d_row18_col11 {\n",
       "  background-color: #4c66d6;\n",
       "  color: #f1f1f1;\n",
       "}\n",
       "#T_e374d_row5_col18, #T_e374d_row6_col2, #T_e374d_row8_col18, #T_e374d_row10_col5, #T_e374d_row10_col8, #T_e374d_row11_col8, #T_e374d_row13_col8 {\n",
       "  background-color: #3d50c3;\n",
       "  color: #f1f1f1;\n",
       "}\n",
       "#T_e374d_row6_col1, #T_e374d_row15_col14, #T_e374d_row19_col7 {\n",
       "  background-color: #688aef;\n",
       "  color: #f1f1f1;\n",
       "}\n",
       "#T_e374d_row6_col7, #T_e374d_row13_col15, #T_e374d_row17_col15 {\n",
       "  background-color: #5d7ce6;\n",
       "  color: #f1f1f1;\n",
       "}\n",
       "#T_e374d_row6_col9, #T_e374d_row7_col9, #T_e374d_row11_col15, #T_e374d_row12_col16, #T_e374d_row18_col15, #T_e374d_row18_col16, #T_e374d_row19_col15 {\n",
       "  background-color: #5a78e4;\n",
       "  color: #f1f1f1;\n",
       "}\n",
       "#T_e374d_row6_col12, #T_e374d_row19_col1 {\n",
       "  background-color: #7699f6;\n",
       "  color: #f1f1f1;\n",
       "}\n",
       "#T_e374d_row6_col13, #T_e374d_row7_col4, #T_e374d_row13_col1, #T_e374d_row19_col0 {\n",
       "  background-color: #5f7fe8;\n",
       "  color: #f1f1f1;\n",
       "}\n",
       "#T_e374d_row7_col1, #T_e374d_row8_col1 {\n",
       "  background-color: #779af7;\n",
       "  color: #f1f1f1;\n",
       "}\n",
       "#T_e374d_row7_col10 {\n",
       "  background-color: #c9d7f0;\n",
       "  color: #000000;\n",
       "}\n",
       "#T_e374d_row8_col7, #T_e374d_row9_col1, #T_e374d_row9_col12, #T_e374d_row19_col12 {\n",
       "  background-color: #6c8ff1;\n",
       "  color: #f1f1f1;\n",
       "}\n",
       "#T_e374d_row8_col15, #T_e374d_row9_col15, #T_e374d_row11_col4, #T_e374d_row14_col15, #T_e374d_row15_col1, #T_e374d_row16_col15 {\n",
       "  background-color: #5470de;\n",
       "  color: #f1f1f1;\n",
       "}\n",
       "#T_e374d_row8_col19, #T_e374d_row19_col8 {\n",
       "  background-color: #f6bea4;\n",
       "  color: #000000;\n",
       "}\n",
       "#T_e374d_row9_col16 {\n",
       "  background-color: #6282ea;\n",
       "  color: #f1f1f1;\n",
       "}\n",
       "#T_e374d_row10_col0 {\n",
       "  background-color: #f7a98b;\n",
       "  color: #000000;\n",
       "}\n",
       "#T_e374d_row10_col7 {\n",
       "  background-color: #c5d6f2;\n",
       "  color: #000000;\n",
       "}\n",
       "#T_e374d_row10_col12, #T_e374d_row12_col10 {\n",
       "  background-color: #f7ba9f;\n",
       "  color: #000000;\n",
       "}\n",
       "#T_e374d_row10_col13 {\n",
       "  background-color: #b9d0f9;\n",
       "  color: #000000;\n",
       "}\n",
       "#T_e374d_row10_col14 {\n",
       "  background-color: #edd2c3;\n",
       "  color: #000000;\n",
       "}\n",
       "#T_e374d_row11_col1, #T_e374d_row11_col10 {\n",
       "  background-color: #6384eb;\n",
       "  color: #f1f1f1;\n",
       "}\n",
       "#T_e374d_row12_col0 {\n",
       "  background-color: #b3cdfb;\n",
       "  color: #000000;\n",
       "}\n",
       "#T_e374d_row12_col13 {\n",
       "  background-color: #e9d5cb;\n",
       "  color: #000000;\n",
       "}\n",
       "#T_e374d_row12_col14 {\n",
       "  background-color: #e0654f;\n",
       "  color: #f1f1f1;\n",
       "}\n",
       "#T_e374d_row13_col0 {\n",
       "  background-color: #9dbdff;\n",
       "  color: #000000;\n",
       "}\n",
       "#T_e374d_row13_col10 {\n",
       "  background-color: #cdd9ec;\n",
       "  color: #000000;\n",
       "}\n",
       "#T_e374d_row13_col12 {\n",
       "  background-color: #f1ccb8;\n",
       "  color: #000000;\n",
       "}\n",
       "#T_e374d_row13_col14 {\n",
       "  background-color: #e8d6cc;\n",
       "  color: #000000;\n",
       "}\n",
       "#T_e374d_row14_col10 {\n",
       "  background-color: #eed0c0;\n",
       "  color: #000000;\n",
       "}\n",
       "#T_e374d_row14_col12 {\n",
       "  background-color: #df634e;\n",
       "  color: #f1f1f1;\n",
       "}\n",
       "#T_e374d_row14_col13 {\n",
       "  background-color: #dddcdc;\n",
       "  color: #000000;\n",
       "}\n",
       "#T_e374d_row15_col0, #T_e374d_row15_col10, #T_e374d_row16_col10, #T_e374d_row18_col1, #T_e374d_row18_col12, #T_e374d_row19_col10 {\n",
       "  background-color: #6b8df0;\n",
       "  color: #f1f1f1;\n",
       "}\n",
       "</style>\n",
       "<table id=\"T_e374d_\">\n",
       "  <thead>\n",
       "    <tr>\n",
       "      <th class=\"blank level0\" >&nbsp;</th>\n",
       "      <th class=\"col_heading level0 col0\" >Age</th>\n",
       "      <th class=\"col_heading level0 col1\" >Attrition</th>\n",
       "      <th class=\"col_heading level0 col2\" >DistanceFromHome</th>\n",
       "      <th class=\"col_heading level0 col3\" >Education</th>\n",
       "      <th class=\"col_heading level0 col4\" >Gender</th>\n",
       "      <th class=\"col_heading level0 col5\" >JobLevel</th>\n",
       "      <th class=\"col_heading level0 col6\" >MonthlyIncome</th>\n",
       "      <th class=\"col_heading level0 col7\" >NumCompaniesWorked</th>\n",
       "      <th class=\"col_heading level0 col8\" >PercentSalaryHike</th>\n",
       "      <th class=\"col_heading level0 col9\" >StockOptionLevel</th>\n",
       "      <th class=\"col_heading level0 col10\" >TotalWorkingYears</th>\n",
       "      <th class=\"col_heading level0 col11\" >TrainingTimesLastYear</th>\n",
       "      <th class=\"col_heading level0 col12\" >YearsAtCompany</th>\n",
       "      <th class=\"col_heading level0 col13\" >YearsSinceLastPromotion</th>\n",
       "      <th class=\"col_heading level0 col14\" >YearsWithCurrManager</th>\n",
       "      <th class=\"col_heading level0 col15\" >EnvironmentSatisfaction</th>\n",
       "      <th class=\"col_heading level0 col16\" >JobSatisfaction</th>\n",
       "      <th class=\"col_heading level0 col17\" >WorkLifeBalance</th>\n",
       "      <th class=\"col_heading level0 col18\" >JobInvolvement</th>\n",
       "      <th class=\"col_heading level0 col19\" >PerformanceRating</th>\n",
       "    </tr>\n",
       "  </thead>\n",
       "  <tbody>\n",
       "    <tr>\n",
       "      <th id=\"T_e374d_level0_row0\" class=\"row_heading level0 row0\" >Age</th>\n",
       "      <td id=\"T_e374d_row0_col0\" class=\"data row0 col0\" >1.0</td>\n",
       "      <td id=\"T_e374d_row0_col1\" class=\"data row0 col1\" >-0.17</td>\n",
       "      <td id=\"T_e374d_row0_col2\" class=\"data row0 col2\" >-0.0049</td>\n",
       "      <td id=\"T_e374d_row0_col3\" class=\"data row0 col3\" >-0.029</td>\n",
       "      <td id=\"T_e374d_row0_col4\" class=\"data row0 col4\" >0.04</td>\n",
       "      <td id=\"T_e374d_row0_col5\" class=\"data row0 col5\" >-0.013</td>\n",
       "      <td id=\"T_e374d_row0_col6\" class=\"data row0 col6\" >-0.026</td>\n",
       "      <td id=\"T_e374d_row0_col7\" class=\"data row0 col7\" >0.35</td>\n",
       "      <td id=\"T_e374d_row0_col8\" class=\"data row0 col8\" >-0.034</td>\n",
       "      <td id=\"T_e374d_row0_col9\" class=\"data row0 col9\" >-0.014</td>\n",
       "      <td id=\"T_e374d_row0_col10\" class=\"data row0 col10\" >0.66</td>\n",
       "      <td id=\"T_e374d_row0_col11\" class=\"data row0 col11\" >-0.044</td>\n",
       "      <td id=\"T_e374d_row0_col12\" class=\"data row0 col12\" >0.25</td>\n",
       "      <td id=\"T_e374d_row0_col13\" class=\"data row0 col13\" >0.17</td>\n",
       "      <td id=\"T_e374d_row0_col14\" class=\"data row0 col14\" >0.19</td>\n",
       "      <td id=\"T_e374d_row0_col15\" class=\"data row0 col15\" >0.01</td>\n",
       "      <td id=\"T_e374d_row0_col16\" class=\"data row0 col16\" >-0.0035</td>\n",
       "      <td id=\"T_e374d_row0_col17\" class=\"data row0 col17\" >-0.0055</td>\n",
       "      <td id=\"T_e374d_row0_col18\" class=\"data row0 col18\" >0.018</td>\n",
       "      <td id=\"T_e374d_row0_col19\" class=\"data row0 col19\" >-0.03</td>\n",
       "    </tr>\n",
       "    <tr>\n",
       "      <th id=\"T_e374d_level0_row1\" class=\"row_heading level0 row1\" >Attrition</th>\n",
       "      <td id=\"T_e374d_row1_col0\" class=\"data row1 col0\" >-0.17</td>\n",
       "      <td id=\"T_e374d_row1_col1\" class=\"data row1 col1\" >1.0</td>\n",
       "      <td id=\"T_e374d_row1_col2\" class=\"data row1 col2\" >-0.0014</td>\n",
       "      <td id=\"T_e374d_row1_col3\" class=\"data row1 col3\" >-0.018</td>\n",
       "      <td id=\"T_e374d_row1_col4\" class=\"data row1 col4\" >-0.018</td>\n",
       "      <td id=\"T_e374d_row1_col5\" class=\"data row1 col5\" >-0.003</td>\n",
       "      <td id=\"T_e374d_row1_col6\" class=\"data row1 col6\" >-0.024</td>\n",
       "      <td id=\"T_e374d_row1_col7\" class=\"data row1 col7\" >0.029</td>\n",
       "      <td id=\"T_e374d_row1_col8\" class=\"data row1 col8\" >0.031</td>\n",
       "      <td id=\"T_e374d_row1_col9\" class=\"data row1 col9\" >-0.0095</td>\n",
       "      <td id=\"T_e374d_row1_col10\" class=\"data row1 col10\" >-0.2</td>\n",
       "      <td id=\"T_e374d_row1_col11\" class=\"data row1 col11\" >-0.039</td>\n",
       "      <td id=\"T_e374d_row1_col12\" class=\"data row1 col12\" >-0.19</td>\n",
       "      <td id=\"T_e374d_row1_col13\" class=\"data row1 col13\" >-0.053</td>\n",
       "      <td id=\"T_e374d_row1_col14\" class=\"data row1 col14\" >-0.18</td>\n",
       "      <td id=\"T_e374d_row1_col15\" class=\"data row1 col15\" >-0.095</td>\n",
       "      <td id=\"T_e374d_row1_col16\" class=\"data row1 col16\" >-0.1</td>\n",
       "      <td id=\"T_e374d_row1_col17\" class=\"data row1 col17\" >-0.049</td>\n",
       "      <td id=\"T_e374d_row1_col18\" class=\"data row1 col18\" >-0.011</td>\n",
       "      <td id=\"T_e374d_row1_col19\" class=\"data row1 col19\" >0.023</td>\n",
       "    </tr>\n",
       "    <tr>\n",
       "      <th id=\"T_e374d_level0_row2\" class=\"row_heading level0 row2\" >DistanceFromHome</th>\n",
       "      <td id=\"T_e374d_row2_col0\" class=\"data row2 col0\" >-0.0049</td>\n",
       "      <td id=\"T_e374d_row2_col1\" class=\"data row2 col1\" >-0.0014</td>\n",
       "      <td id=\"T_e374d_row2_col2\" class=\"data row2 col2\" >1.0</td>\n",
       "      <td id=\"T_e374d_row2_col3\" class=\"data row2 col3\" >-0.0053</td>\n",
       "      <td id=\"T_e374d_row2_col4\" class=\"data row2 col4\" >0.041</td>\n",
       "      <td id=\"T_e374d_row2_col5\" class=\"data row2 col5\" >-0.028</td>\n",
       "      <td id=\"T_e374d_row2_col6\" class=\"data row2 col6\" >-0.025</td>\n",
       "      <td id=\"T_e374d_row2_col7\" class=\"data row2 col7\" >-0.036</td>\n",
       "      <td id=\"T_e374d_row2_col8\" class=\"data row2 col8\" >0.039</td>\n",
       "      <td id=\"T_e374d_row2_col9\" class=\"data row2 col9\" >0.0014</td>\n",
       "      <td id=\"T_e374d_row2_col10\" class=\"data row2 col10\" >-8.7e-06</td>\n",
       "      <td id=\"T_e374d_row2_col11\" class=\"data row2 col11\" >0.0072</td>\n",
       "      <td id=\"T_e374d_row2_col12\" class=\"data row2 col12\" >0.018</td>\n",
       "      <td id=\"T_e374d_row2_col13\" class=\"data row2 col13\" >0.0086</td>\n",
       "      <td id=\"T_e374d_row2_col14\" class=\"data row2 col14\" >0.034</td>\n",
       "      <td id=\"T_e374d_row2_col15\" class=\"data row2 col15\" >0.021</td>\n",
       "      <td id=\"T_e374d_row2_col16\" class=\"data row2 col16\" >-0.019</td>\n",
       "      <td id=\"T_e374d_row2_col17\" class=\"data row2 col17\" >0.0091</td>\n",
       "      <td id=\"T_e374d_row2_col18\" class=\"data row2 col18\" >-0.013</td>\n",
       "      <td id=\"T_e374d_row2_col19\" class=\"data row2 col19\" >0.042</td>\n",
       "    </tr>\n",
       "    <tr>\n",
       "      <th id=\"T_e374d_level0_row3\" class=\"row_heading level0 row3\" >Education</th>\n",
       "      <td id=\"T_e374d_row3_col0\" class=\"data row3 col0\" >-0.029</td>\n",
       "      <td id=\"T_e374d_row3_col1\" class=\"data row3 col1\" >-0.018</td>\n",
       "      <td id=\"T_e374d_row3_col2\" class=\"data row3 col2\" >-0.0053</td>\n",
       "      <td id=\"T_e374d_row3_col3\" class=\"data row3 col3\" >1.0</td>\n",
       "      <td id=\"T_e374d_row3_col4\" class=\"data row3 col4\" >0.0099</td>\n",
       "      <td id=\"T_e374d_row3_col5\" class=\"data row3 col5\" >0.047</td>\n",
       "      <td id=\"T_e374d_row3_col6\" class=\"data row3 col6\" >-0.00035</td>\n",
       "      <td id=\"T_e374d_row3_col7\" class=\"data row3 col7\" >-0.012</td>\n",
       "      <td id=\"T_e374d_row3_col8\" class=\"data row3 col8\" >-0.031</td>\n",
       "      <td id=\"T_e374d_row3_col9\" class=\"data row3 col9\" >-0.0075</td>\n",
       "      <td id=\"T_e374d_row3_col10\" class=\"data row3 col10\" >0.012</td>\n",
       "      <td id=\"T_e374d_row3_col11\" class=\"data row3 col11\" >0.031</td>\n",
       "      <td id=\"T_e374d_row3_col12\" class=\"data row3 col12\" >0.0039</td>\n",
       "      <td id=\"T_e374d_row3_col13\" class=\"data row3 col13\" >0.015</td>\n",
       "      <td id=\"T_e374d_row3_col14\" class=\"data row3 col14\" >0.018</td>\n",
       "      <td id=\"T_e374d_row3_col15\" class=\"data row3 col15\" >-0.047</td>\n",
       "      <td id=\"T_e374d_row3_col16\" class=\"data row3 col16\" >0.0047</td>\n",
       "      <td id=\"T_e374d_row3_col17\" class=\"data row3 col17\" >-0.015</td>\n",
       "      <td id=\"T_e374d_row3_col18\" class=\"data row3 col18\" >-0.0099</td>\n",
       "      <td id=\"T_e374d_row3_col19\" class=\"data row3 col19\" >-0.029</td>\n",
       "    </tr>\n",
       "    <tr>\n",
       "      <th id=\"T_e374d_level0_row4\" class=\"row_heading level0 row4\" >Gender</th>\n",
       "      <td id=\"T_e374d_row4_col0\" class=\"data row4 col0\" >0.04</td>\n",
       "      <td id=\"T_e374d_row4_col1\" class=\"data row4 col1\" >-0.018</td>\n",
       "      <td id=\"T_e374d_row4_col2\" class=\"data row4 col2\" >0.041</td>\n",
       "      <td id=\"T_e374d_row4_col3\" class=\"data row4 col3\" >0.0099</td>\n",
       "      <td id=\"T_e374d_row4_col4\" class=\"data row4 col4\" >1.0</td>\n",
       "      <td id=\"T_e374d_row4_col5\" class=\"data row4 col5\" >0.025</td>\n",
       "      <td id=\"T_e374d_row4_col6\" class=\"data row4 col6\" >-0.012</td>\n",
       "      <td id=\"T_e374d_row4_col7\" class=\"data row4 col7\" >0.072</td>\n",
       "      <td id=\"T_e374d_row4_col8\" class=\"data row4 col8\" >0.0045</td>\n",
       "      <td id=\"T_e374d_row4_col9\" class=\"data row4 col9\" >-0.019</td>\n",
       "      <td id=\"T_e374d_row4_col10\" class=\"data row4 col10\" >0.045</td>\n",
       "      <td id=\"T_e374d_row4_col11\" class=\"data row4 col11\" >0.037</td>\n",
       "      <td id=\"T_e374d_row4_col12\" class=\"data row4 col12\" >0.011</td>\n",
       "      <td id=\"T_e374d_row4_col13\" class=\"data row4 col13\" >0.025</td>\n",
       "      <td id=\"T_e374d_row4_col14\" class=\"data row4 col14\" >0.00013</td>\n",
       "      <td id=\"T_e374d_row4_col15\" class=\"data row4 col15\" >0.021</td>\n",
       "      <td id=\"T_e374d_row4_col16\" class=\"data row4 col16\" >-0.014</td>\n",
       "      <td id=\"T_e374d_row4_col17\" class=\"data row4 col17\" >0.035</td>\n",
       "      <td id=\"T_e374d_row4_col18\" class=\"data row4 col18\" >-0.024</td>\n",
       "      <td id=\"T_e374d_row4_col19\" class=\"data row4 col19\" >-0.052</td>\n",
       "    </tr>\n",
       "    <tr>\n",
       "      <th id=\"T_e374d_level0_row5\" class=\"row_heading level0 row5\" >JobLevel</th>\n",
       "      <td id=\"T_e374d_row5_col0\" class=\"data row5 col0\" >-0.013</td>\n",
       "      <td id=\"T_e374d_row5_col1\" class=\"data row5 col1\" >-0.003</td>\n",
       "      <td id=\"T_e374d_row5_col2\" class=\"data row5 col2\" >-0.028</td>\n",
       "      <td id=\"T_e374d_row5_col3\" class=\"data row5 col3\" >0.047</td>\n",
       "      <td id=\"T_e374d_row5_col4\" class=\"data row5 col4\" >0.025</td>\n",
       "      <td id=\"T_e374d_row5_col5\" class=\"data row5 col5\" >1.0</td>\n",
       "      <td id=\"T_e374d_row5_col6\" class=\"data row5 col6\" >0.048</td>\n",
       "      <td id=\"T_e374d_row5_col7\" class=\"data row5 col7\" >-0.0098</td>\n",
       "      <td id=\"T_e374d_row5_col8\" class=\"data row5 col8\" >0.035</td>\n",
       "      <td id=\"T_e374d_row5_col9\" class=\"data row5 col9\" >-0.03</td>\n",
       "      <td id=\"T_e374d_row5_col10\" class=\"data row5 col10\" >-0.032</td>\n",
       "      <td id=\"T_e374d_row5_col11\" class=\"data row5 col11\" >-0.041</td>\n",
       "      <td id=\"T_e374d_row5_col12\" class=\"data row5 col12\" >-0.044</td>\n",
       "      <td id=\"T_e374d_row5_col13\" class=\"data row5 col13\" >-0.043</td>\n",
       "      <td id=\"T_e374d_row5_col14\" class=\"data row5 col14\" >-0.04</td>\n",
       "      <td id=\"T_e374d_row5_col15\" class=\"data row5 col15\" >-0.03</td>\n",
       "      <td id=\"T_e374d_row5_col16\" class=\"data row5 col16\" >-0.022</td>\n",
       "      <td id=\"T_e374d_row5_col17\" class=\"data row5 col17\" >-0.026</td>\n",
       "      <td id=\"T_e374d_row5_col18\" class=\"data row5 col18\" >-0.018</td>\n",
       "      <td id=\"T_e374d_row5_col19\" class=\"data row5 col19\" >0.0074</td>\n",
       "    </tr>\n",
       "    <tr>\n",
       "      <th id=\"T_e374d_level0_row6\" class=\"row_heading level0 row6\" >MonthlyIncome</th>\n",
       "      <td id=\"T_e374d_row6_col0\" class=\"data row6 col0\" >-0.026</td>\n",
       "      <td id=\"T_e374d_row6_col1\" class=\"data row6 col1\" >-0.024</td>\n",
       "      <td id=\"T_e374d_row6_col2\" class=\"data row6 col2\" >-0.025</td>\n",
       "      <td id=\"T_e374d_row6_col3\" class=\"data row6 col3\" >-0.00035</td>\n",
       "      <td id=\"T_e374d_row6_col4\" class=\"data row6 col4\" >-0.012</td>\n",
       "      <td id=\"T_e374d_row6_col5\" class=\"data row6 col5\" >0.048</td>\n",
       "      <td id=\"T_e374d_row6_col6\" class=\"data row6 col6\" >1.0</td>\n",
       "      <td id=\"T_e374d_row6_col7\" class=\"data row6 col7\" >-0.042</td>\n",
       "      <td id=\"T_e374d_row6_col8\" class=\"data row6 col8\" >0.013</td>\n",
       "      <td id=\"T_e374d_row6_col9\" class=\"data row6 col9\" >0.042</td>\n",
       "      <td id=\"T_e374d_row6_col10\" class=\"data row6 col10\" >-0.019</td>\n",
       "      <td id=\"T_e374d_row6_col11\" class=\"data row6 col11\" >0.016</td>\n",
       "      <td id=\"T_e374d_row6_col12\" class=\"data row6 col12\" >0.029</td>\n",
       "      <td id=\"T_e374d_row6_col13\" class=\"data row6 col13\" >0.06</td>\n",
       "      <td id=\"T_e374d_row6_col14\" class=\"data row6 col14\" >0.026</td>\n",
       "      <td id=\"T_e374d_row6_col15\" class=\"data row6 col15\" >-0.0055</td>\n",
       "      <td id=\"T_e374d_row6_col16\" class=\"data row6 col16\" >-0.0017</td>\n",
       "      <td id=\"T_e374d_row6_col17\" class=\"data row6 col17\" >0.028</td>\n",
       "      <td id=\"T_e374d_row6_col18\" class=\"data row6 col18\" >0.017</td>\n",
       "      <td id=\"T_e374d_row6_col19\" class=\"data row6 col19\" >0.013</td>\n",
       "    </tr>\n",
       "    <tr>\n",
       "      <th id=\"T_e374d_level0_row7\" class=\"row_heading level0 row7\" >NumCompaniesWorked</th>\n",
       "      <td id=\"T_e374d_row7_col0\" class=\"data row7 col0\" >0.35</td>\n",
       "      <td id=\"T_e374d_row7_col1\" class=\"data row7 col1\" >0.029</td>\n",
       "      <td id=\"T_e374d_row7_col2\" class=\"data row7 col2\" >-0.036</td>\n",
       "      <td id=\"T_e374d_row7_col3\" class=\"data row7 col3\" >-0.012</td>\n",
       "      <td id=\"T_e374d_row7_col4\" class=\"data row7 col4\" >0.072</td>\n",
       "      <td id=\"T_e374d_row7_col5\" class=\"data row7 col5\" >-0.0098</td>\n",
       "      <td id=\"T_e374d_row7_col6\" class=\"data row7 col6\" >-0.042</td>\n",
       "      <td id=\"T_e374d_row7_col7\" class=\"data row7 col7\" >1.0</td>\n",
       "      <td id=\"T_e374d_row7_col8\" class=\"data row7 col8\" >0.014</td>\n",
       "      <td id=\"T_e374d_row7_col9\" class=\"data row7 col9\" >0.044</td>\n",
       "      <td id=\"T_e374d_row7_col10\" class=\"data row7 col10\" >0.32</td>\n",
       "      <td id=\"T_e374d_row7_col11\" class=\"data row7 col11\" >-0.013</td>\n",
       "      <td id=\"T_e374d_row7_col12\" class=\"data row7 col12\" >-0.17</td>\n",
       "      <td id=\"T_e374d_row7_col13\" class=\"data row7 col13\" >-0.067</td>\n",
       "      <td id=\"T_e374d_row7_col14\" class=\"data row7 col14\" >-0.14</td>\n",
       "      <td id=\"T_e374d_row7_col15\" class=\"data row7 col15\" >0.0066</td>\n",
       "      <td id=\"T_e374d_row7_col16\" class=\"data row7 col16\" >-0.052</td>\n",
       "      <td id=\"T_e374d_row7_col17\" class=\"data row7 col17\" >0.0078</td>\n",
       "      <td id=\"T_e374d_row7_col18\" class=\"data row7 col18\" >0.022</td>\n",
       "      <td id=\"T_e374d_row7_col19\" class=\"data row7 col19\" >-0.001</td>\n",
       "    </tr>\n",
       "    <tr>\n",
       "      <th id=\"T_e374d_level0_row8\" class=\"row_heading level0 row8\" >PercentSalaryHike</th>\n",
       "      <td id=\"T_e374d_row8_col0\" class=\"data row8 col0\" >-0.034</td>\n",
       "      <td id=\"T_e374d_row8_col1\" class=\"data row8 col1\" >0.031</td>\n",
       "      <td id=\"T_e374d_row8_col2\" class=\"data row8 col2\" >0.039</td>\n",
       "      <td id=\"T_e374d_row8_col3\" class=\"data row8 col3\" >-0.031</td>\n",
       "      <td id=\"T_e374d_row8_col4\" class=\"data row8 col4\" >0.0045</td>\n",
       "      <td id=\"T_e374d_row8_col5\" class=\"data row8 col5\" >0.035</td>\n",
       "      <td id=\"T_e374d_row8_col6\" class=\"data row8 col6\" >0.013</td>\n",
       "      <td id=\"T_e374d_row8_col7\" class=\"data row8 col7\" >0.014</td>\n",
       "      <td id=\"T_e374d_row8_col8\" class=\"data row8 col8\" >1.0</td>\n",
       "      <td id=\"T_e374d_row8_col9\" class=\"data row8 col9\" >0.025</td>\n",
       "      <td id=\"T_e374d_row8_col10\" class=\"data row8 col10\" >-0.035</td>\n",
       "      <td id=\"T_e374d_row8_col11\" class=\"data row8 col11\" >-0.036</td>\n",
       "      <td id=\"T_e374d_row8_col12\" class=\"data row8 col12\" >-0.042</td>\n",
       "      <td id=\"T_e374d_row8_col13\" class=\"data row8 col13\" >-0.038</td>\n",
       "      <td id=\"T_e374d_row8_col14\" class=\"data row8 col14\" >-0.047</td>\n",
       "      <td id=\"T_e374d_row8_col15\" class=\"data row8 col15\" >-0.0054</td>\n",
       "      <td id=\"T_e374d_row8_col16\" class=\"data row8 col16\" >0.025</td>\n",
       "      <td id=\"T_e374d_row8_col17\" class=\"data row8 col17\" >-0.042</td>\n",
       "      <td id=\"T_e374d_row8_col18\" class=\"data row8 col18\" >-0.015</td>\n",
       "      <td id=\"T_e374d_row8_col19\" class=\"data row8 col19\" >0.63</td>\n",
       "    </tr>\n",
       "    <tr>\n",
       "      <th id=\"T_e374d_level0_row9\" class=\"row_heading level0 row9\" >StockOptionLevel</th>\n",
       "      <td id=\"T_e374d_row9_col0\" class=\"data row9 col0\" >-0.014</td>\n",
       "      <td id=\"T_e374d_row9_col1\" class=\"data row9 col1\" >-0.0095</td>\n",
       "      <td id=\"T_e374d_row9_col2\" class=\"data row9 col2\" >0.0014</td>\n",
       "      <td id=\"T_e374d_row9_col3\" class=\"data row9 col3\" >-0.0075</td>\n",
       "      <td id=\"T_e374d_row9_col4\" class=\"data row9 col4\" >-0.019</td>\n",
       "      <td id=\"T_e374d_row9_col5\" class=\"data row9 col5\" >-0.03</td>\n",
       "      <td id=\"T_e374d_row9_col6\" class=\"data row9 col6\" >0.042</td>\n",
       "      <td id=\"T_e374d_row9_col7\" class=\"data row9 col7\" >0.044</td>\n",
       "      <td id=\"T_e374d_row9_col8\" class=\"data row9 col8\" >0.025</td>\n",
       "      <td id=\"T_e374d_row9_col9\" class=\"data row9 col9\" >1.0</td>\n",
       "      <td id=\"T_e374d_row9_col10\" class=\"data row9 col10\" >0.014</td>\n",
       "      <td id=\"T_e374d_row9_col11\" class=\"data row9 col11\" >-0.067</td>\n",
       "      <td id=\"T_e374d_row9_col12\" class=\"data row9 col12\" >-0.00079</td>\n",
       "      <td id=\"T_e374d_row9_col13\" class=\"data row9 col13\" >0.0044</td>\n",
       "      <td id=\"T_e374d_row9_col14\" class=\"data row9 col14\" >6.2e-05</td>\n",
       "      <td id=\"T_e374d_row9_col15\" class=\"data row9 col15\" >-0.0029</td>\n",
       "      <td id=\"T_e374d_row9_col16\" class=\"data row9 col16\" >0.038</td>\n",
       "      <td id=\"T_e374d_row9_col17\" class=\"data row9 col17\" >-0.0067</td>\n",
       "      <td id=\"T_e374d_row9_col18\" class=\"data row9 col18\" >0.013</td>\n",
       "      <td id=\"T_e374d_row9_col19\" class=\"data row9 col19\" >-0.029</td>\n",
       "    </tr>\n",
       "    <tr>\n",
       "      <th id=\"T_e374d_level0_row10\" class=\"row_heading level0 row10\" >TotalWorkingYears</th>\n",
       "      <td id=\"T_e374d_row10_col0\" class=\"data row10 col0\" >0.66</td>\n",
       "      <td id=\"T_e374d_row10_col1\" class=\"data row10 col1\" >-0.2</td>\n",
       "      <td id=\"T_e374d_row10_col2\" class=\"data row10 col2\" >-8.7e-06</td>\n",
       "      <td id=\"T_e374d_row10_col3\" class=\"data row10 col3\" >0.012</td>\n",
       "      <td id=\"T_e374d_row10_col4\" class=\"data row10 col4\" >0.045</td>\n",
       "      <td id=\"T_e374d_row10_col5\" class=\"data row10 col5\" >-0.032</td>\n",
       "      <td id=\"T_e374d_row10_col6\" class=\"data row10 col6\" >-0.019</td>\n",
       "      <td id=\"T_e374d_row10_col7\" class=\"data row10 col7\" >0.32</td>\n",
       "      <td id=\"T_e374d_row10_col8\" class=\"data row10 col8\" >-0.035</td>\n",
       "      <td id=\"T_e374d_row10_col9\" class=\"data row10 col9\" >0.014</td>\n",
       "      <td id=\"T_e374d_row10_col10\" class=\"data row10 col10\" >1.0</td>\n",
       "      <td id=\"T_e374d_row10_col11\" class=\"data row10 col11\" >-0.041</td>\n",
       "      <td id=\"T_e374d_row10_col12\" class=\"data row10 col12\" >0.59</td>\n",
       "      <td id=\"T_e374d_row10_col13\" class=\"data row10 col13\" >0.33</td>\n",
       "      <td id=\"T_e374d_row10_col14\" class=\"data row10 col14\" >0.49</td>\n",
       "      <td id=\"T_e374d_row10_col15\" class=\"data row10 col15\" >-0.013</td>\n",
       "      <td id=\"T_e374d_row10_col16\" class=\"data row10 col16\" >-0.012</td>\n",
       "      <td id=\"T_e374d_row10_col17\" class=\"data row10 col17\" >0.0022</td>\n",
       "      <td id=\"T_e374d_row10_col18\" class=\"data row10 col18\" >-0.0024</td>\n",
       "      <td id=\"T_e374d_row10_col19\" class=\"data row10 col19\" >-0.012</td>\n",
       "    </tr>\n",
       "    <tr>\n",
       "      <th id=\"T_e374d_level0_row11\" class=\"row_heading level0 row11\" >TrainingTimesLastYear</th>\n",
       "      <td id=\"T_e374d_row11_col0\" class=\"data row11 col0\" >-0.044</td>\n",
       "      <td id=\"T_e374d_row11_col1\" class=\"data row11 col1\" >-0.039</td>\n",
       "      <td id=\"T_e374d_row11_col2\" class=\"data row11 col2\" >0.0072</td>\n",
       "      <td id=\"T_e374d_row11_col3\" class=\"data row11 col3\" >0.031</td>\n",
       "      <td id=\"T_e374d_row11_col4\" class=\"data row11 col4\" >0.037</td>\n",
       "      <td id=\"T_e374d_row11_col5\" class=\"data row11 col5\" >-0.041</td>\n",
       "      <td id=\"T_e374d_row11_col6\" class=\"data row11 col6\" >0.016</td>\n",
       "      <td id=\"T_e374d_row11_col7\" class=\"data row11 col7\" >-0.013</td>\n",
       "      <td id=\"T_e374d_row11_col8\" class=\"data row11 col8\" >-0.036</td>\n",
       "      <td id=\"T_e374d_row11_col9\" class=\"data row11 col9\" >-0.067</td>\n",
       "      <td id=\"T_e374d_row11_col10\" class=\"data row11 col10\" >-0.041</td>\n",
       "      <td id=\"T_e374d_row11_col11\" class=\"data row11 col11\" >1.0</td>\n",
       "      <td id=\"T_e374d_row11_col12\" class=\"data row11 col12\" >-0.014</td>\n",
       "      <td id=\"T_e374d_row11_col13\" class=\"data row11 col13\" >0.00058</td>\n",
       "      <td id=\"T_e374d_row11_col14\" class=\"data row11 col14\" >-0.015</td>\n",
       "      <td id=\"T_e374d_row11_col15\" class=\"data row11 col15\" >0.017</td>\n",
       "      <td id=\"T_e374d_row11_col16\" class=\"data row11 col16\" >-0.02</td>\n",
       "      <td id=\"T_e374d_row11_col17\" class=\"data row11 col17\" >-0.019</td>\n",
       "      <td id=\"T_e374d_row11_col18\" class=\"data row11 col18\" >-0.0046</td>\n",
       "      <td id=\"T_e374d_row11_col19\" class=\"data row11 col19\" >-0.027</td>\n",
       "    </tr>\n",
       "    <tr>\n",
       "      <th id=\"T_e374d_level0_row12\" class=\"row_heading level0 row12\" >YearsAtCompany</th>\n",
       "      <td id=\"T_e374d_row12_col0\" class=\"data row12 col0\" >0.25</td>\n",
       "      <td id=\"T_e374d_row12_col1\" class=\"data row12 col1\" >-0.19</td>\n",
       "      <td id=\"T_e374d_row12_col2\" class=\"data row12 col2\" >0.018</td>\n",
       "      <td id=\"T_e374d_row12_col3\" class=\"data row12 col3\" >0.0039</td>\n",
       "      <td id=\"T_e374d_row12_col4\" class=\"data row12 col4\" >0.011</td>\n",
       "      <td id=\"T_e374d_row12_col5\" class=\"data row12 col5\" >-0.044</td>\n",
       "      <td id=\"T_e374d_row12_col6\" class=\"data row12 col6\" >0.029</td>\n",
       "      <td id=\"T_e374d_row12_col7\" class=\"data row12 col7\" >-0.17</td>\n",
       "      <td id=\"T_e374d_row12_col8\" class=\"data row12 col8\" >-0.042</td>\n",
       "      <td id=\"T_e374d_row12_col9\" class=\"data row12 col9\" >-0.00079</td>\n",
       "      <td id=\"T_e374d_row12_col10\" class=\"data row12 col10\" >0.59</td>\n",
       "      <td id=\"T_e374d_row12_col11\" class=\"data row12 col11\" >-0.014</td>\n",
       "      <td id=\"T_e374d_row12_col12\" class=\"data row12 col12\" >1.0</td>\n",
       "      <td id=\"T_e374d_row12_col13\" class=\"data row12 col13\" >0.52</td>\n",
       "      <td id=\"T_e374d_row12_col14\" class=\"data row12 col14\" >0.84</td>\n",
       "      <td id=\"T_e374d_row12_col15\" class=\"data row12 col15\" >0.0082</td>\n",
       "      <td id=\"T_e374d_row12_col16\" class=\"data row12 col16\" >0.014</td>\n",
       "      <td id=\"T_e374d_row12_col17\" class=\"data row12 col17\" >0.0084</td>\n",
       "      <td id=\"T_e374d_row12_col18\" class=\"data row12 col18\" >-0.0057</td>\n",
       "      <td id=\"T_e374d_row12_col19\" class=\"data row12 col19\" >-0.0013</td>\n",
       "    </tr>\n",
       "    <tr>\n",
       "      <th id=\"T_e374d_level0_row13\" class=\"row_heading level0 row13\" >YearsSinceLastPromotion</th>\n",
       "      <td id=\"T_e374d_row13_col0\" class=\"data row13 col0\" >0.17</td>\n",
       "      <td id=\"T_e374d_row13_col1\" class=\"data row13 col1\" >-0.053</td>\n",
       "      <td id=\"T_e374d_row13_col2\" class=\"data row13 col2\" >0.0086</td>\n",
       "      <td id=\"T_e374d_row13_col3\" class=\"data row13 col3\" >0.015</td>\n",
       "      <td id=\"T_e374d_row13_col4\" class=\"data row13 col4\" >0.025</td>\n",
       "      <td id=\"T_e374d_row13_col5\" class=\"data row13 col5\" >-0.043</td>\n",
       "      <td id=\"T_e374d_row13_col6\" class=\"data row13 col6\" >0.06</td>\n",
       "      <td id=\"T_e374d_row13_col7\" class=\"data row13 col7\" >-0.067</td>\n",
       "      <td id=\"T_e374d_row13_col8\" class=\"data row13 col8\" >-0.038</td>\n",
       "      <td id=\"T_e374d_row13_col9\" class=\"data row13 col9\" >0.0044</td>\n",
       "      <td id=\"T_e374d_row13_col10\" class=\"data row13 col10\" >0.33</td>\n",
       "      <td id=\"T_e374d_row13_col11\" class=\"data row13 col11\" >0.00058</td>\n",
       "      <td id=\"T_e374d_row13_col12\" class=\"data row13 col12\" >0.52</td>\n",
       "      <td id=\"T_e374d_row13_col13\" class=\"data row13 col13\" >1.0</td>\n",
       "      <td id=\"T_e374d_row13_col14\" class=\"data row13 col14\" >0.47</td>\n",
       "      <td id=\"T_e374d_row13_col15\" class=\"data row13 col15\" >0.026</td>\n",
       "      <td id=\"T_e374d_row13_col16\" class=\"data row13 col16\" >0.0079</td>\n",
       "      <td id=\"T_e374d_row13_col17\" class=\"data row13 col17\" >0.0015</td>\n",
       "      <td id=\"T_e374d_row13_col18\" class=\"data row13 col18\" >0.018</td>\n",
       "      <td id=\"T_e374d_row13_col19\" class=\"data row13 col19\" >-0.014</td>\n",
       "    </tr>\n",
       "    <tr>\n",
       "      <th id=\"T_e374d_level0_row14\" class=\"row_heading level0 row14\" >YearsWithCurrManager</th>\n",
       "      <td id=\"T_e374d_row14_col0\" class=\"data row14 col0\" >0.19</td>\n",
       "      <td id=\"T_e374d_row14_col1\" class=\"data row14 col1\" >-0.18</td>\n",
       "      <td id=\"T_e374d_row14_col2\" class=\"data row14 col2\" >0.034</td>\n",
       "      <td id=\"T_e374d_row14_col3\" class=\"data row14 col3\" >0.018</td>\n",
       "      <td id=\"T_e374d_row14_col4\" class=\"data row14 col4\" >0.00013</td>\n",
       "      <td id=\"T_e374d_row14_col5\" class=\"data row14 col5\" >-0.04</td>\n",
       "      <td id=\"T_e374d_row14_col6\" class=\"data row14 col6\" >0.026</td>\n",
       "      <td id=\"T_e374d_row14_col7\" class=\"data row14 col7\" >-0.14</td>\n",
       "      <td id=\"T_e374d_row14_col8\" class=\"data row14 col8\" >-0.047</td>\n",
       "      <td id=\"T_e374d_row14_col9\" class=\"data row14 col9\" >6.2e-05</td>\n",
       "      <td id=\"T_e374d_row14_col10\" class=\"data row14 col10\" >0.49</td>\n",
       "      <td id=\"T_e374d_row14_col11\" class=\"data row14 col11\" >-0.015</td>\n",
       "      <td id=\"T_e374d_row14_col12\" class=\"data row14 col12\" >0.84</td>\n",
       "      <td id=\"T_e374d_row14_col13\" class=\"data row14 col13\" >0.47</td>\n",
       "      <td id=\"T_e374d_row14_col14\" class=\"data row14 col14\" >1.0</td>\n",
       "      <td id=\"T_e374d_row14_col15\" class=\"data row14 col15\" >-0.0022</td>\n",
       "      <td id=\"T_e374d_row14_col16\" class=\"data row14 col16\" >-0.014</td>\n",
       "      <td id=\"T_e374d_row14_col17\" class=\"data row14 col17\" >0.00016</td>\n",
       "      <td id=\"T_e374d_row14_col18\" class=\"data row14 col18\" >0.0032</td>\n",
       "      <td id=\"T_e374d_row14_col19\" class=\"data row14 col19\" >-0.00062</td>\n",
       "    </tr>\n",
       "    <tr>\n",
       "      <th id=\"T_e374d_level0_row15\" class=\"row_heading level0 row15\" >EnvironmentSatisfaction</th>\n",
       "      <td id=\"T_e374d_row15_col0\" class=\"data row15 col0\" >0.01</td>\n",
       "      <td id=\"T_e374d_row15_col1\" class=\"data row15 col1\" >-0.095</td>\n",
       "      <td id=\"T_e374d_row15_col2\" class=\"data row15 col2\" >0.021</td>\n",
       "      <td id=\"T_e374d_row15_col3\" class=\"data row15 col3\" >-0.047</td>\n",
       "      <td id=\"T_e374d_row15_col4\" class=\"data row15 col4\" >0.021</td>\n",
       "      <td id=\"T_e374d_row15_col5\" class=\"data row15 col5\" >-0.03</td>\n",
       "      <td id=\"T_e374d_row15_col6\" class=\"data row15 col6\" >-0.0055</td>\n",
       "      <td id=\"T_e374d_row15_col7\" class=\"data row15 col7\" >0.0066</td>\n",
       "      <td id=\"T_e374d_row15_col8\" class=\"data row15 col8\" >-0.0054</td>\n",
       "      <td id=\"T_e374d_row15_col9\" class=\"data row15 col9\" >-0.0029</td>\n",
       "      <td id=\"T_e374d_row15_col10\" class=\"data row15 col10\" >-0.013</td>\n",
       "      <td id=\"T_e374d_row15_col11\" class=\"data row15 col11\" >0.017</td>\n",
       "      <td id=\"T_e374d_row15_col12\" class=\"data row15 col12\" >0.0082</td>\n",
       "      <td id=\"T_e374d_row15_col13\" class=\"data row15 col13\" >0.026</td>\n",
       "      <td id=\"T_e374d_row15_col14\" class=\"data row15 col14\" >-0.0022</td>\n",
       "      <td id=\"T_e374d_row15_col15\" class=\"data row15 col15\" >1.0</td>\n",
       "      <td id=\"T_e374d_row15_col16\" class=\"data row15 col16\" >-0.0038</td>\n",
       "      <td id=\"T_e374d_row15_col17\" class=\"data row15 col17\" >0.025</td>\n",
       "      <td id=\"T_e374d_row15_col18\" class=\"data row15 col18\" >0.017</td>\n",
       "      <td id=\"T_e374d_row15_col19\" class=\"data row15 col19\" >0.017</td>\n",
       "    </tr>\n",
       "    <tr>\n",
       "      <th id=\"T_e374d_level0_row16\" class=\"row_heading level0 row16\" >JobSatisfaction</th>\n",
       "      <td id=\"T_e374d_row16_col0\" class=\"data row16 col0\" >-0.0035</td>\n",
       "      <td id=\"T_e374d_row16_col1\" class=\"data row16 col1\" >-0.1</td>\n",
       "      <td id=\"T_e374d_row16_col2\" class=\"data row16 col2\" >-0.019</td>\n",
       "      <td id=\"T_e374d_row16_col3\" class=\"data row16 col3\" >0.0047</td>\n",
       "      <td id=\"T_e374d_row16_col4\" class=\"data row16 col4\" >-0.014</td>\n",
       "      <td id=\"T_e374d_row16_col5\" class=\"data row16 col5\" >-0.022</td>\n",
       "      <td id=\"T_e374d_row16_col6\" class=\"data row16 col6\" >-0.0017</td>\n",
       "      <td id=\"T_e374d_row16_col7\" class=\"data row16 col7\" >-0.052</td>\n",
       "      <td id=\"T_e374d_row16_col8\" class=\"data row16 col8\" >0.025</td>\n",
       "      <td id=\"T_e374d_row16_col9\" class=\"data row16 col9\" >0.038</td>\n",
       "      <td id=\"T_e374d_row16_col10\" class=\"data row16 col10\" >-0.012</td>\n",
       "      <td id=\"T_e374d_row16_col11\" class=\"data row16 col11\" >-0.02</td>\n",
       "      <td id=\"T_e374d_row16_col12\" class=\"data row16 col12\" >0.014</td>\n",
       "      <td id=\"T_e374d_row16_col13\" class=\"data row16 col13\" >0.0079</td>\n",
       "      <td id=\"T_e374d_row16_col14\" class=\"data row16 col14\" >-0.014</td>\n",
       "      <td id=\"T_e374d_row16_col15\" class=\"data row16 col15\" >-0.0038</td>\n",
       "      <td id=\"T_e374d_row16_col16\" class=\"data row16 col16\" >1.0</td>\n",
       "      <td id=\"T_e374d_row16_col17\" class=\"data row16 col17\" >-0.03</td>\n",
       "      <td id=\"T_e374d_row16_col18\" class=\"data row16 col18\" >0.01</td>\n",
       "      <td id=\"T_e374d_row16_col19\" class=\"data row16 col19\" >0.046</td>\n",
       "    </tr>\n",
       "    <tr>\n",
       "      <th id=\"T_e374d_level0_row17\" class=\"row_heading level0 row17\" >WorkLifeBalance</th>\n",
       "      <td id=\"T_e374d_row17_col0\" class=\"data row17 col0\" >-0.0055</td>\n",
       "      <td id=\"T_e374d_row17_col1\" class=\"data row17 col1\" >-0.049</td>\n",
       "      <td id=\"T_e374d_row17_col2\" class=\"data row17 col2\" >0.0091</td>\n",
       "      <td id=\"T_e374d_row17_col3\" class=\"data row17 col3\" >-0.015</td>\n",
       "      <td id=\"T_e374d_row17_col4\" class=\"data row17 col4\" >0.035</td>\n",
       "      <td id=\"T_e374d_row17_col5\" class=\"data row17 col5\" >-0.026</td>\n",
       "      <td id=\"T_e374d_row17_col6\" class=\"data row17 col6\" >0.028</td>\n",
       "      <td id=\"T_e374d_row17_col7\" class=\"data row17 col7\" >0.0078</td>\n",
       "      <td id=\"T_e374d_row17_col8\" class=\"data row17 col8\" >-0.042</td>\n",
       "      <td id=\"T_e374d_row17_col9\" class=\"data row17 col9\" >-0.0067</td>\n",
       "      <td id=\"T_e374d_row17_col10\" class=\"data row17 col10\" >0.0022</td>\n",
       "      <td id=\"T_e374d_row17_col11\" class=\"data row17 col11\" >-0.019</td>\n",
       "      <td id=\"T_e374d_row17_col12\" class=\"data row17 col12\" >0.0084</td>\n",
       "      <td id=\"T_e374d_row17_col13\" class=\"data row17 col13\" >0.0015</td>\n",
       "      <td id=\"T_e374d_row17_col14\" class=\"data row17 col14\" >0.00016</td>\n",
       "      <td id=\"T_e374d_row17_col15\" class=\"data row17 col15\" >0.025</td>\n",
       "      <td id=\"T_e374d_row17_col16\" class=\"data row17 col16\" >-0.03</td>\n",
       "      <td id=\"T_e374d_row17_col17\" class=\"data row17 col17\" >1.0</td>\n",
       "      <td id=\"T_e374d_row17_col18\" class=\"data row17 col18\" >-0.027</td>\n",
       "      <td id=\"T_e374d_row17_col19\" class=\"data row17 col19\" >-0.024</td>\n",
       "    </tr>\n",
       "    <tr>\n",
       "      <th id=\"T_e374d_level0_row18\" class=\"row_heading level0 row18\" >JobInvolvement</th>\n",
       "      <td id=\"T_e374d_row18_col0\" class=\"data row18 col0\" >0.018</td>\n",
       "      <td id=\"T_e374d_row18_col1\" class=\"data row18 col1\" >-0.011</td>\n",
       "      <td id=\"T_e374d_row18_col2\" class=\"data row18 col2\" >-0.013</td>\n",
       "      <td id=\"T_e374d_row18_col3\" class=\"data row18 col3\" >-0.0099</td>\n",
       "      <td id=\"T_e374d_row18_col4\" class=\"data row18 col4\" >-0.024</td>\n",
       "      <td id=\"T_e374d_row18_col5\" class=\"data row18 col5\" >-0.018</td>\n",
       "      <td id=\"T_e374d_row18_col6\" class=\"data row18 col6\" >0.017</td>\n",
       "      <td id=\"T_e374d_row18_col7\" class=\"data row18 col7\" >0.022</td>\n",
       "      <td id=\"T_e374d_row18_col8\" class=\"data row18 col8\" >-0.015</td>\n",
       "      <td id=\"T_e374d_row18_col9\" class=\"data row18 col9\" >0.013</td>\n",
       "      <td id=\"T_e374d_row18_col10\" class=\"data row18 col10\" >-0.0024</td>\n",
       "      <td id=\"T_e374d_row18_col11\" class=\"data row18 col11\" >-0.0046</td>\n",
       "      <td id=\"T_e374d_row18_col12\" class=\"data row18 col12\" >-0.0057</td>\n",
       "      <td id=\"T_e374d_row18_col13\" class=\"data row18 col13\" >0.018</td>\n",
       "      <td id=\"T_e374d_row18_col14\" class=\"data row18 col14\" >0.0032</td>\n",
       "      <td id=\"T_e374d_row18_col15\" class=\"data row18 col15\" >0.017</td>\n",
       "      <td id=\"T_e374d_row18_col16\" class=\"data row18 col16\" >0.01</td>\n",
       "      <td id=\"T_e374d_row18_col17\" class=\"data row18 col17\" >-0.027</td>\n",
       "      <td id=\"T_e374d_row18_col18\" class=\"data row18 col18\" >1.0</td>\n",
       "      <td id=\"T_e374d_row18_col19\" class=\"data row18 col19\" >0.0073</td>\n",
       "    </tr>\n",
       "    <tr>\n",
       "      <th id=\"T_e374d_level0_row19\" class=\"row_heading level0 row19\" >PerformanceRating</th>\n",
       "      <td id=\"T_e374d_row19_col0\" class=\"data row19 col0\" >-0.03</td>\n",
       "      <td id=\"T_e374d_row19_col1\" class=\"data row19 col1\" >0.023</td>\n",
       "      <td id=\"T_e374d_row19_col2\" class=\"data row19 col2\" >0.042</td>\n",
       "      <td id=\"T_e374d_row19_col3\" class=\"data row19 col3\" >-0.029</td>\n",
       "      <td id=\"T_e374d_row19_col4\" class=\"data row19 col4\" >-0.052</td>\n",
       "      <td id=\"T_e374d_row19_col5\" class=\"data row19 col5\" >0.0074</td>\n",
       "      <td id=\"T_e374d_row19_col6\" class=\"data row19 col6\" >0.013</td>\n",
       "      <td id=\"T_e374d_row19_col7\" class=\"data row19 col7\" >-0.001</td>\n",
       "      <td id=\"T_e374d_row19_col8\" class=\"data row19 col8\" >0.63</td>\n",
       "      <td id=\"T_e374d_row19_col9\" class=\"data row19 col9\" >-0.029</td>\n",
       "      <td id=\"T_e374d_row19_col10\" class=\"data row19 col10\" >-0.012</td>\n",
       "      <td id=\"T_e374d_row19_col11\" class=\"data row19 col11\" >-0.027</td>\n",
       "      <td id=\"T_e374d_row19_col12\" class=\"data row19 col12\" >-0.0013</td>\n",
       "      <td id=\"T_e374d_row19_col13\" class=\"data row19 col13\" >-0.014</td>\n",
       "      <td id=\"T_e374d_row19_col14\" class=\"data row19 col14\" >-0.00062</td>\n",
       "      <td id=\"T_e374d_row19_col15\" class=\"data row19 col15\" >0.017</td>\n",
       "      <td id=\"T_e374d_row19_col16\" class=\"data row19 col16\" >0.046</td>\n",
       "      <td id=\"T_e374d_row19_col17\" class=\"data row19 col17\" >-0.024</td>\n",
       "      <td id=\"T_e374d_row19_col18\" class=\"data row19 col18\" >0.0073</td>\n",
       "      <td id=\"T_e374d_row19_col19\" class=\"data row19 col19\" >1.0</td>\n",
       "    </tr>\n",
       "  </tbody>\n",
       "</table>\n"
      ],
      "text/plain": [
       "<pandas.io.formats.style.Styler at 0x7eff0052b750>"
      ]
     },
     "execution_count": 12,
     "metadata": {},
     "output_type": "execute_result"
    }
   ],
   "source": [
    "correlation = fixed_dataframe.corr(method='spearman').style.format(\"{:.2}\").background_gradient(cmap=plt.get_cmap('coolwarm'))\n",
    "correlation"
   ]
  },
  {
   "cell_type": "markdown",
   "metadata": {
    "cell_id": "81de8ea1-c260-4d31-8af2-e63313c90a0d",
    "deepnote_cell_type": "markdown",
    "tags": []
   },
   "source": [
    "Comme on peut le voir sur cette matrice de corrélation, les données brutes ne nous permettent pas de voir ce qui peut causer le turn over de 15%. \n",
    "\n",
    "Il serait donc pertinent d'utiliser des algorithmes de machine learning pour essayer de déceler quels attributs sont à l'origine de l'envie des employés de changer d'entreprise."
   ]
  },
  {
   "cell_type": "markdown",
   "metadata": {
    "cell_id": "fd1ac0ec-a34d-438c-afdb-16350bf18ca7",
    "deepnote_cell_height": 70,
    "deepnote_cell_type": "text-cell-h2",
    "is_collapsed": true,
    "tags": []
   },
   "source": [
    "## 4. Préparation du jeu de données pour entraînement modèle"
   ]
  },
  {
   "cell_type": "markdown",
   "metadata": {
    "cell_id": "73d1386d-9f88-4655-889d-12f68dc9d0a2",
    "deepnote_cell_type": "text-cell-h3",
    "is_collapsed": false,
    "tags": []
   },
   "source": [
    "### 4.1 One-Hot encodage des attributs catégoriques et remplacement des valeurs non disponibles"
   ]
  },
  {
   "cell_type": "code",
   "execution_count": null,
   "metadata": {
    "cell_id": "45c6c49c-7d7d-4105-ac25-6eeb07b7ed23",
    "deepnote_cell_type": "code",
    "deepnote_to_be_reexecuted": false,
    "execution_millis": 258,
    "execution_start": 1647460558835,
    "source_hash": "61f939b5",
    "tags": []
   },
   "outputs": [
    {
     "data": {
      "application/vnd.deepnote.dataframe.v3+json": {
       "column_count": 37,
       "columns": [
        {
         "dtype": "int64",
         "name": "Age",
         "stats": {
          "histogram": [
           {
            "bin_end": 22.2,
            "bin_start": 18,
            "count": 171
           },
           {
            "bin_end": 26.4,
            "bin_start": 22.2,
            "count": 315
           },
           {
            "bin_end": 30.6,
            "bin_start": 26.4,
            "count": 672
           },
           {
            "bin_end": 34.8,
            "bin_start": 30.6,
            "count": 795
           },
           {
            "bin_end": 39,
            "bin_start": 34.8,
            "count": 765
           },
           {
            "bin_end": 43.2,
            "bin_start": 39,
            "count": 651
           },
           {
            "bin_end": 47.400000000000006,
            "bin_start": 43.2,
            "count": 393
           },
           {
            "bin_end": 51.6,
            "bin_start": 47.400000000000006,
            "count": 276
           },
           {
            "bin_end": 55.800000000000004,
            "bin_start": 51.6,
            "count": 231
           },
           {
            "bin_end": 60,
            "bin_start": 55.800000000000004,
            "count": 141
           }
          ],
          "max": "60",
          "min": "18",
          "nan_count": 0,
          "unique_count": 43
         }
        },
        {
         "dtype": "int64",
         "name": "Attrition",
         "stats": {
          "histogram": [
           {
            "bin_end": 0.1,
            "bin_start": 0,
            "count": 3699
           },
           {
            "bin_end": 0.2,
            "bin_start": 0.1,
            "count": 0
           },
           {
            "bin_end": 0.30000000000000004,
            "bin_start": 0.2,
            "count": 0
           },
           {
            "bin_end": 0.4,
            "bin_start": 0.30000000000000004,
            "count": 0
           },
           {
            "bin_end": 0.5,
            "bin_start": 0.4,
            "count": 0
           },
           {
            "bin_end": 0.6000000000000001,
            "bin_start": 0.5,
            "count": 0
           },
           {
            "bin_end": 0.7000000000000001,
            "bin_start": 0.6000000000000001,
            "count": 0
           },
           {
            "bin_end": 0.8,
            "bin_start": 0.7000000000000001,
            "count": 0
           },
           {
            "bin_end": 0.9,
            "bin_start": 0.8,
            "count": 0
           },
           {
            "bin_end": 1,
            "bin_start": 0.9,
            "count": 711
           }
          ],
          "max": "1",
          "min": "0",
          "nan_count": 0,
          "unique_count": 2
         }
        },
        {
         "dtype": "int64",
         "name": "DistanceFromHome",
         "stats": {
          "histogram": [
           {
            "bin_end": 3.8,
            "bin_start": 1,
            "count": 1509
           },
           {
            "bin_end": 6.6,
            "bin_start": 3.8,
            "count": 564
           },
           {
            "bin_end": 9.399999999999999,
            "bin_start": 6.6,
            "count": 747
           },
           {
            "bin_end": 12.2,
            "bin_start": 9.399999999999999,
            "count": 405
           },
           {
            "bin_end": 15,
            "bin_start": 12.2,
            "count": 120
           },
           {
            "bin_end": 17.799999999999997,
            "bin_start": 15,
            "count": 234
           },
           {
            "bin_end": 20.599999999999998,
            "bin_start": 17.799999999999997,
            "count": 219
           },
           {
            "bin_end": 23.4,
            "bin_start": 20.599999999999998,
            "count": 192
           },
           {
            "bin_end": 26.2,
            "bin_start": 23.4,
            "count": 234
           },
           {
            "bin_end": 29,
            "bin_start": 26.2,
            "count": 186
           }
          ],
          "max": "29",
          "min": "1",
          "nan_count": 0,
          "unique_count": 29
         }
        },
        {
         "dtype": "int64",
         "name": "Education",
         "stats": {
          "histogram": [
           {
            "bin_end": 1.4,
            "bin_start": 1,
            "count": 510
           },
           {
            "bin_end": 1.8,
            "bin_start": 1.4,
            "count": 0
           },
           {
            "bin_end": 2.2,
            "bin_start": 1.8,
            "count": 846
           },
           {
            "bin_end": 2.6,
            "bin_start": 2.2,
            "count": 0
           },
           {
            "bin_end": 3,
            "bin_start": 2.6,
            "count": 0
           },
           {
            "bin_end": 3.4000000000000004,
            "bin_start": 3,
            "count": 1716
           },
           {
            "bin_end": 3.8000000000000003,
            "bin_start": 3.4000000000000004,
            "count": 0
           },
           {
            "bin_end": 4.2,
            "bin_start": 3.8000000000000003,
            "count": 1194
           },
           {
            "bin_end": 4.6,
            "bin_start": 4.2,
            "count": 0
           },
           {
            "bin_end": 5,
            "bin_start": 4.6,
            "count": 144
           }
          ],
          "max": "5",
          "min": "1",
          "nan_count": 0,
          "unique_count": 5
         }
        },
        {
         "dtype": "int64",
         "name": "Gender",
         "stats": {
          "histogram": [
           {
            "bin_end": 0.1,
            "bin_start": 0,
            "count": 2646
           },
           {
            "bin_end": 0.2,
            "bin_start": 0.1,
            "count": 0
           },
           {
            "bin_end": 0.30000000000000004,
            "bin_start": 0.2,
            "count": 0
           },
           {
            "bin_end": 0.4,
            "bin_start": 0.30000000000000004,
            "count": 0
           },
           {
            "bin_end": 0.5,
            "bin_start": 0.4,
            "count": 0
           },
           {
            "bin_end": 0.6000000000000001,
            "bin_start": 0.5,
            "count": 0
           },
           {
            "bin_end": 0.7000000000000001,
            "bin_start": 0.6000000000000001,
            "count": 0
           },
           {
            "bin_end": 0.8,
            "bin_start": 0.7000000000000001,
            "count": 0
           },
           {
            "bin_end": 0.9,
            "bin_start": 0.8,
            "count": 0
           },
           {
            "bin_end": 1,
            "bin_start": 0.9,
            "count": 1764
           }
          ],
          "max": "1",
          "min": "0",
          "nan_count": 0,
          "unique_count": 2
         }
        },
        {
         "dtype": "int64",
         "name": "JobLevel",
         "stats": {
          "histogram": [
           {
            "bin_end": 1.4,
            "bin_start": 1,
            "count": 1629
           },
           {
            "bin_end": 1.8,
            "bin_start": 1.4,
            "count": 0
           },
           {
            "bin_end": 2.2,
            "bin_start": 1.8,
            "count": 1602
           },
           {
            "bin_end": 2.6,
            "bin_start": 2.2,
            "count": 0
           },
           {
            "bin_end": 3,
            "bin_start": 2.6,
            "count": 0
           },
           {
            "bin_end": 3.4000000000000004,
            "bin_start": 3,
            "count": 654
           },
           {
            "bin_end": 3.8000000000000003,
            "bin_start": 3.4000000000000004,
            "count": 0
           },
           {
            "bin_end": 4.2,
            "bin_start": 3.8000000000000003,
            "count": 318
           },
           {
            "bin_end": 4.6,
            "bin_start": 4.2,
            "count": 0
           },
           {
            "bin_end": 5,
            "bin_start": 4.6,
            "count": 207
           }
          ],
          "max": "5",
          "min": "1",
          "nan_count": 0,
          "unique_count": 5
         }
        },
        {
         "dtype": "int64",
         "name": "MonthlyIncome",
         "stats": {
          "histogram": [
           {
            "bin_end": 29080,
            "bin_start": 10090,
            "count": 1095
           },
           {
            "bin_end": 48070,
            "bin_start": 29080,
            "count": 1047
           },
           {
            "bin_end": 67060,
            "bin_start": 48070,
            "count": 870
           },
           {
            "bin_end": 86050,
            "bin_start": 67060,
            "count": 327
           },
           {
            "bin_end": 105040,
            "bin_start": 86050,
            "count": 330
           },
           {
            "bin_end": 124030,
            "bin_start": 105040,
            "count": 168
           },
           {
            "bin_end": 143020,
            "bin_start": 124030,
            "count": 156
           },
           {
            "bin_end": 162010,
            "bin_start": 143020,
            "count": 54
           },
           {
            "bin_end": 181000,
            "bin_start": 162010,
            "count": 162
           },
           {
            "bin_end": 199990,
            "bin_start": 181000,
            "count": 201
           }
          ],
          "max": "199990",
          "min": "10090",
          "nan_count": 0,
          "unique_count": 1349
         }
        },
        {
         "dtype": "float64",
         "name": "NumCompaniesWorked",
         "stats": {
          "histogram": [
           {
            "bin_end": 0.9,
            "bin_start": 0,
            "count": 586
           },
           {
            "bin_end": 1.8,
            "bin_start": 0.9,
            "count": 1558
           },
           {
            "bin_end": 2.7,
            "bin_start": 1.8,
            "count": 457
           },
           {
            "bin_end": 3.6,
            "bin_start": 2.7,
            "count": 474
           },
           {
            "bin_end": 4.5,
            "bin_start": 3.6,
            "count": 415
           },
           {
            "bin_end": 5.4,
            "bin_start": 4.5,
            "count": 187
           },
           {
            "bin_end": 6.3,
            "bin_start": 5.4,
            "count": 208
           },
           {
            "bin_end": 7.2,
            "bin_start": 6.3,
            "count": 222
           },
           {
            "bin_end": 8.1,
            "bin_start": 7.2,
            "count": 147
           },
           {
            "bin_end": 9,
            "bin_start": 8.1,
            "count": 156
           }
          ],
          "max": "9.0",
          "min": "0.0",
          "nan_count": 0,
          "unique_count": 11
         }
        },
        {
         "dtype": "int64",
         "name": "PercentSalaryHike",
         "stats": {
          "histogram": [
           {
            "bin_end": 12.4,
            "bin_start": 11,
            "count": 1224
           },
           {
            "bin_end": 13.8,
            "bin_start": 12.4,
            "count": 627
           },
           {
            "bin_end": 15.2,
            "bin_start": 13.8,
            "count": 906
           },
           {
            "bin_end": 16.6,
            "bin_start": 15.2,
            "count": 234
           },
           {
            "bin_end": 18,
            "bin_start": 16.6,
            "count": 246
           },
           {
            "bin_end": 19.4,
            "bin_start": 18,
            "count": 495
           },
           {
            "bin_end": 20.799999999999997,
            "bin_start": 19.4,
            "count": 165
           },
           {
            "bin_end": 22.2,
            "bin_start": 20.799999999999997,
            "count": 312
           },
           {
            "bin_end": 23.6,
            "bin_start": 22.2,
            "count": 84
           },
           {
            "bin_end": 25,
            "bin_start": 23.6,
            "count": 117
           }
          ],
          "max": "25",
          "min": "11",
          "nan_count": 0,
          "unique_count": 15
         }
        },
        {
         "dtype": "int64",
         "name": "StockOptionLevel",
         "stats": {
          "histogram": [
           {
            "bin_end": 0.3,
            "bin_start": 0,
            "count": 1893
           },
           {
            "bin_end": 0.6,
            "bin_start": 0.3,
            "count": 0
           },
           {
            "bin_end": 0.8999999999999999,
            "bin_start": 0.6,
            "count": 0
           },
           {
            "bin_end": 1.2,
            "bin_start": 0.8999999999999999,
            "count": 1788
           },
           {
            "bin_end": 1.5,
            "bin_start": 1.2,
            "count": 0
           },
           {
            "bin_end": 1.7999999999999998,
            "bin_start": 1.5,
            "count": 0
           },
           {
            "bin_end": 2.1,
            "bin_start": 1.7999999999999998,
            "count": 474
           },
           {
            "bin_end": 2.4,
            "bin_start": 2.1,
            "count": 0
           },
           {
            "bin_end": 2.6999999999999997,
            "bin_start": 2.4,
            "count": 0
           },
           {
            "bin_end": 3,
            "bin_start": 2.6999999999999997,
            "count": 255
           }
          ],
          "max": "3",
          "min": "0",
          "nan_count": 0,
          "unique_count": 4
         }
        },
        {
         "dtype": "float64",
         "name": "TotalWorkingYears",
         "stats": {
          "histogram": [
           {
            "bin_end": 4,
            "bin_start": 0,
            "count": 494
           },
           {
            "bin_end": 8,
            "bin_start": 4,
            "count": 1071
           },
           {
            "bin_end": 12,
            "bin_start": 8,
            "count": 1314
           },
           {
            "bin_end": 16,
            "bin_start": 12,
            "count": 465
           },
           {
            "bin_end": 20,
            "bin_start": 16,
            "count": 357
           },
           {
            "bin_end": 24,
            "bin_start": 20,
            "count": 319
           },
           {
            "bin_end": 28,
            "bin_start": 24,
            "count": 159
           },
           {
            "bin_end": 32,
            "bin_start": 28,
            "count": 120
           },
           {
            "bin_end": 36,
            "bin_start": 32,
            "count": 72
           },
           {
            "bin_end": 40,
            "bin_start": 36,
            "count": 39
           }
          ],
          "max": "40.0",
          "min": "0.0",
          "nan_count": 0,
          "unique_count": 41
         }
        },
        {
         "dtype": "int64",
         "name": "TrainingTimesLastYear",
         "stats": {
          "histogram": [
           {
            "bin_end": 0.6,
            "bin_start": 0,
            "count": 162
           },
           {
            "bin_end": 1.2,
            "bin_start": 0.6,
            "count": 213
           },
           {
            "bin_end": 1.7999999999999998,
            "bin_start": 1.2,
            "count": 0
           },
           {
            "bin_end": 2.4,
            "bin_start": 1.7999999999999998,
            "count": 1641
           },
           {
            "bin_end": 3,
            "bin_start": 2.4,
            "count": 0
           },
           {
            "bin_end": 3.5999999999999996,
            "bin_start": 3,
            "count": 1473
           },
           {
            "bin_end": 4.2,
            "bin_start": 3.5999999999999996,
            "count": 369
           },
           {
            "bin_end": 4.8,
            "bin_start": 4.2,
            "count": 0
           },
           {
            "bin_end": 5.3999999999999995,
            "bin_start": 4.8,
            "count": 357
           },
           {
            "bin_end": 6,
            "bin_start": 5.3999999999999995,
            "count": 195
           }
          ],
          "max": "6",
          "min": "0",
          "nan_count": 0,
          "unique_count": 7
         }
        },
        {
         "dtype": "int64",
         "name": "YearsAtCompany",
         "stats": {
          "histogram": [
           {
            "bin_end": 4,
            "bin_start": 0,
            "count": 1410
           },
           {
            "bin_end": 8,
            "bin_start": 4,
            "count": 1416
           },
           {
            "bin_end": 12,
            "bin_start": 8,
            "count": 942
           },
           {
            "bin_end": 16,
            "bin_start": 12,
            "count": 228
           },
           {
            "bin_end": 20,
            "bin_start": 16,
            "count": 135
           },
           {
            "bin_end": 24,
            "bin_start": 20,
            "count": 174
           },
           {
            "bin_end": 28,
            "bin_start": 24,
            "count": 48
           },
           {
            "bin_end": 32,
            "bin_start": 28,
            "count": 18
           },
           {
            "bin_end": 36,
            "bin_start": 32,
            "count": 27
           },
           {
            "bin_end": 40,
            "bin_start": 36,
            "count": 12
           }
          ],
          "max": "40",
          "min": "0",
          "nan_count": 0,
          "unique_count": 37
         }
        },
        {
         "dtype": "int64",
         "name": "YearsSinceLastPromotion",
         "stats": {
          "histogram": [
           {
            "bin_end": 1.5,
            "bin_start": 0,
            "count": 2814
           },
           {
            "bin_end": 3,
            "bin_start": 1.5,
            "count": 477
           },
           {
            "bin_end": 4.5,
            "bin_start": 3,
            "count": 339
           },
           {
            "bin_end": 6,
            "bin_start": 4.5,
            "count": 135
           },
           {
            "bin_end": 7.5,
            "bin_start": 6,
            "count": 324
           },
           {
            "bin_end": 9,
            "bin_start": 7.5,
            "count": 54
           },
           {
            "bin_end": 10.5,
            "bin_start": 9,
            "count": 69
           },
           {
            "bin_end": 12,
            "bin_start": 10.5,
            "count": 72
           },
           {
            "bin_end": 13.5,
            "bin_start": 12,
            "count": 60
           },
           {
            "bin_end": 15,
            "bin_start": 13.5,
            "count": 66
           }
          ],
          "max": "15",
          "min": "0",
          "nan_count": 0,
          "unique_count": 16
         }
        },
        {
         "dtype": "int64",
         "name": "YearsWithCurrManager",
         "stats": {
          "histogram": [
           {
            "bin_end": 1.7,
            "bin_start": 0,
            "count": 1017
           },
           {
            "bin_end": 3.4,
            "bin_start": 1.7,
            "count": 1458
           },
           {
            "bin_end": 5.1,
            "bin_start": 3.4,
            "count": 387
           },
           {
            "bin_end": 6.8,
            "bin_start": 5.1,
            "count": 87
           },
           {
            "bin_end": 8.5,
            "bin_start": 6.8,
            "count": 969
           },
           {
            "bin_end": 10.2,
            "bin_start": 8.5,
            "count": 273
           },
           {
            "bin_end": 11.9,
            "bin_start": 10.2,
            "count": 66
           },
           {
            "bin_end": 13.6,
            "bin_start": 11.9,
            "count": 96
           },
           {
            "bin_end": 15.299999999999999,
            "bin_start": 13.6,
            "count": 30
           },
           {
            "bin_end": 17,
            "bin_start": 15.299999999999999,
            "count": 27
           }
          ],
          "max": "17",
          "min": "0",
          "nan_count": 0,
          "unique_count": 18
         }
        },
        {
         "dtype": "float64",
         "name": "EnvironmentSatisfaction",
         "stats": {
          "histogram": [
           {
            "bin_end": 1.3,
            "bin_start": 1,
            "count": 845
           },
           {
            "bin_end": 1.6,
            "bin_start": 1.3,
            "count": 0
           },
           {
            "bin_end": 1.9,
            "bin_start": 1.6,
            "count": 0
           },
           {
            "bin_end": 2.2,
            "bin_start": 1.9,
            "count": 856
           },
           {
            "bin_end": 2.5,
            "bin_start": 2.2,
            "count": 0
           },
           {
            "bin_end": 2.8,
            "bin_start": 2.5,
            "count": 25
           },
           {
            "bin_end": 3.1,
            "bin_start": 2.8,
            "count": 1350
           },
           {
            "bin_end": 3.4,
            "bin_start": 3.1,
            "count": 0
           },
           {
            "bin_end": 3.6999999999999997,
            "bin_start": 3.4,
            "count": 0
           },
           {
            "bin_end": 4,
            "bin_start": 3.6999999999999997,
            "count": 1334
           }
          ],
          "max": "4.0",
          "min": "1.0",
          "nan_count": 0,
          "unique_count": 5
         }
        },
        {
         "dtype": "float64",
         "name": "JobSatisfaction",
         "stats": {
          "histogram": [
           {
            "bin_end": 1.3,
            "bin_start": 1,
            "count": 860
           },
           {
            "bin_end": 1.6,
            "bin_start": 1.3,
            "count": 0
           },
           {
            "bin_end": 1.9,
            "bin_start": 1.6,
            "count": 0
           },
           {
            "bin_end": 2.2,
            "bin_start": 1.9,
            "count": 840
           },
           {
            "bin_end": 2.5,
            "bin_start": 2.2,
            "count": 0
           },
           {
            "bin_end": 2.8,
            "bin_start": 2.5,
            "count": 20
           },
           {
            "bin_end": 3.1,
            "bin_start": 2.8,
            "count": 1323
           },
           {
            "bin_end": 3.4,
            "bin_start": 3.1,
            "count": 0
           },
           {
            "bin_end": 3.6999999999999997,
            "bin_start": 3.4,
            "count": 0
           },
           {
            "bin_end": 4,
            "bin_start": 3.6999999999999997,
            "count": 1367
           }
          ],
          "max": "4.0",
          "min": "1.0",
          "nan_count": 0,
          "unique_count": 5
         }
        },
        {
         "dtype": "float64",
         "name": "WorkLifeBalance",
         "stats": {
          "histogram": [
           {
            "bin_end": 1.3,
            "bin_start": 1,
            "count": 239
           },
           {
            "bin_end": 1.6,
            "bin_start": 1.3,
            "count": 0
           },
           {
            "bin_end": 1.9,
            "bin_start": 1.6,
            "count": 0
           },
           {
            "bin_end": 2.2,
            "bin_start": 1.9,
            "count": 1019
           },
           {
            "bin_end": 2.5,
            "bin_start": 2.2,
            "count": 0
           },
           {
            "bin_end": 2.8,
            "bin_start": 2.5,
            "count": 38
           },
           {
            "bin_end": 3.1,
            "bin_start": 2.8,
            "count": 2660
           },
           {
            "bin_end": 3.4,
            "bin_start": 3.1,
            "count": 0
           },
           {
            "bin_end": 3.6999999999999997,
            "bin_start": 3.4,
            "count": 0
           },
           {
            "bin_end": 4,
            "bin_start": 3.6999999999999997,
            "count": 454
           }
          ],
          "max": "4.0",
          "min": "1.0",
          "nan_count": 0,
          "unique_count": 5
         }
        },
        {
         "dtype": "int64",
         "name": "JobInvolvement",
         "stats": {
          "histogram": [
           {
            "bin_end": 1.3,
            "bin_start": 1,
            "count": 249
           },
           {
            "bin_end": 1.6,
            "bin_start": 1.3,
            "count": 0
           },
           {
            "bin_end": 1.9,
            "bin_start": 1.6,
            "count": 0
           },
           {
            "bin_end": 2.2,
            "bin_start": 1.9,
            "count": 1125
           },
           {
            "bin_end": 2.5,
            "bin_start": 2.2,
            "count": 0
           },
           {
            "bin_end": 2.8,
            "bin_start": 2.5,
            "count": 0
           },
           {
            "bin_end": 3.1,
            "bin_start": 2.8,
            "count": 2604
           },
           {
            "bin_end": 3.4,
            "bin_start": 3.1,
            "count": 0
           },
           {
            "bin_end": 3.6999999999999997,
            "bin_start": 3.4,
            "count": 0
           },
           {
            "bin_end": 4,
            "bin_start": 3.6999999999999997,
            "count": 432
           }
          ],
          "max": "4",
          "min": "1",
          "nan_count": 0,
          "unique_count": 4
         }
        },
        {
         "dtype": "int64",
         "name": "PerformanceRating",
         "stats": {
          "histogram": [
           {
            "bin_end": 3.1,
            "bin_start": 3,
            "count": 3732
           },
           {
            "bin_end": 3.2,
            "bin_start": 3.1,
            "count": 0
           },
           {
            "bin_end": 3.3,
            "bin_start": 3.2,
            "count": 0
           },
           {
            "bin_end": 3.4,
            "bin_start": 3.3,
            "count": 0
           },
           {
            "bin_end": 3.5,
            "bin_start": 3.4,
            "count": 0
           },
           {
            "bin_end": 3.6,
            "bin_start": 3.5,
            "count": 0
           },
           {
            "bin_end": 3.7,
            "bin_start": 3.6,
            "count": 0
           },
           {
            "bin_end": 3.8,
            "bin_start": 3.7,
            "count": 0
           },
           {
            "bin_end": 3.9,
            "bin_start": 3.8,
            "count": 0
           },
           {
            "bin_end": 4,
            "bin_start": 3.9,
            "count": 678
           }
          ],
          "max": "4",
          "min": "3",
          "nan_count": 0,
          "unique_count": 2
         }
        },
        {
         "dtype": "uint8",
         "name": "BusinessTravel_Travel_Frequently",
         "stats": {
          "histogram": [
           {
            "bin_end": 0.1,
            "bin_start": 0,
            "count": 3579
           },
           {
            "bin_end": 0.2,
            "bin_start": 0.1,
            "count": 0
           },
           {
            "bin_end": 0.30000000000000004,
            "bin_start": 0.2,
            "count": 0
           },
           {
            "bin_end": 0.4,
            "bin_start": 0.30000000000000004,
            "count": 0
           },
           {
            "bin_end": 0.5,
            "bin_start": 0.4,
            "count": 0
           },
           {
            "bin_end": 0.6000000000000001,
            "bin_start": 0.5,
            "count": 0
           },
           {
            "bin_end": 0.7000000000000001,
            "bin_start": 0.6000000000000001,
            "count": 0
           },
           {
            "bin_end": 0.8,
            "bin_start": 0.7000000000000001,
            "count": 0
           },
           {
            "bin_end": 0.9,
            "bin_start": 0.8,
            "count": 0
           },
           {
            "bin_end": 1,
            "bin_start": 0.9,
            "count": 831
           }
          ],
          "max": "1",
          "min": "0",
          "nan_count": 0,
          "unique_count": 2
         }
        },
        {
         "dtype": "uint8",
         "name": "BusinessTravel_Travel_Rarely",
         "stats": {
          "histogram": [
           {
            "bin_end": 0.1,
            "bin_start": 0,
            "count": 1281
           },
           {
            "bin_end": 0.2,
            "bin_start": 0.1,
            "count": 0
           },
           {
            "bin_end": 0.30000000000000004,
            "bin_start": 0.2,
            "count": 0
           },
           {
            "bin_end": 0.4,
            "bin_start": 0.30000000000000004,
            "count": 0
           },
           {
            "bin_end": 0.5,
            "bin_start": 0.4,
            "count": 0
           },
           {
            "bin_end": 0.6000000000000001,
            "bin_start": 0.5,
            "count": 0
           },
           {
            "bin_end": 0.7000000000000001,
            "bin_start": 0.6000000000000001,
            "count": 0
           },
           {
            "bin_end": 0.8,
            "bin_start": 0.7000000000000001,
            "count": 0
           },
           {
            "bin_end": 0.9,
            "bin_start": 0.8,
            "count": 0
           },
           {
            "bin_end": 1,
            "bin_start": 0.9,
            "count": 3129
           }
          ],
          "max": "1",
          "min": "0",
          "nan_count": 0,
          "unique_count": 2
         }
        },
        {
         "dtype": "uint8",
         "name": "Department_Research & Development"
        },
        {
         "dtype": "uint8",
         "name": "Department_Sales"
        },
        {
         "dtype": "uint8",
         "name": "EducationField_Life Sciences"
        },
        {
         "dtype": "uint8",
         "name": "EducationField_Marketing"
        },
        {
         "dtype": "uint8",
         "name": "EducationField_Medical"
        },
        {
         "dtype": "uint8",
         "name": "EducationField_Other"
        },
        {
         "dtype": "uint8",
         "name": "EducationField_Technical Degree"
        },
        {
         "dtype": "uint8",
         "name": "JobRole_Human Resources"
        },
        {
         "dtype": "uint8",
         "name": "JobRole_Laboratory Technician"
        },
        {
         "dtype": "uint8",
         "name": "JobRole_Manager"
        },
        {
         "dtype": "uint8",
         "name": "JobRole_Manufacturing Director"
        },
        {
         "dtype": "uint8",
         "name": "JobRole_Research Director"
        },
        {
         "dtype": "uint8",
         "name": "JobRole_Research Scientist"
        },
        {
         "dtype": "uint8",
         "name": "JobRole_Sales Executive"
        },
        {
         "dtype": "uint8",
         "name": "JobRole_Sales Representative"
        },
        {
         "dtype": "int64",
         "name": "_deepnote_index_column"
        }
       ],
       "row_count": 4410,
       "rows": [
        {
         "Age": 51,
         "Attrition": 0,
         "BusinessTravel_Travel_Frequently": 0,
         "BusinessTravel_Travel_Rarely": 1,
         "Department_Research & Development": 0,
         "Department_Sales": 1,
         "DistanceFromHome": 6,
         "Education": 2,
         "EducationField_Life Sciences": 1,
         "EducationField_Marketing": 0,
         "EducationField_Medical": 0,
         "EducationField_Other": 0,
         "EducationField_Technical Degree": 0,
         "EnvironmentSatisfaction": 3,
         "Gender": 1,
         "JobInvolvement": 3,
         "JobLevel": 1,
         "JobRole_Human Resources": 0,
         "JobRole_Laboratory Technician": 0,
         "JobRole_Manager": 0,
         "JobRole_Manufacturing Director": 0,
         "JobRole_Research Director": 0,
         "JobRole_Research Scientist": 0,
         "JobRole_Sales Executive": 0,
         "JobRole_Sales Representative": 0,
         "JobSatisfaction": 4,
         "MonthlyIncome": 131160,
         "NumCompaniesWorked": 1,
         "PercentSalaryHike": 11,
         "PerformanceRating": 3,
         "StockOptionLevel": 0,
         "TotalWorkingYears": 1,
         "TrainingTimesLastYear": 6,
         "WorkLifeBalance": 2,
         "YearsAtCompany": 1,
         "YearsSinceLastPromotion": 0,
         "YearsWithCurrManager": 0,
         "_deepnote_index_column": 0
        },
        {
         "Age": 31,
         "Attrition": 1,
         "BusinessTravel_Travel_Frequently": 1,
         "BusinessTravel_Travel_Rarely": 0,
         "Department_Research & Development": 1,
         "Department_Sales": 0,
         "DistanceFromHome": 10,
         "Education": 1,
         "EducationField_Life Sciences": 1,
         "EducationField_Marketing": 0,
         "EducationField_Medical": 0,
         "EducationField_Other": 0,
         "EducationField_Technical Degree": 0,
         "EnvironmentSatisfaction": 3,
         "Gender": 1,
         "JobInvolvement": 2,
         "JobLevel": 1,
         "JobRole_Human Resources": 0,
         "JobRole_Laboratory Technician": 0,
         "JobRole_Manager": 0,
         "JobRole_Manufacturing Director": 0,
         "JobRole_Research Director": 0,
         "JobRole_Research Scientist": 1,
         "JobRole_Sales Executive": 0,
         "JobRole_Sales Representative": 0,
         "JobSatisfaction": 2,
         "MonthlyIncome": 41890,
         "NumCompaniesWorked": 0,
         "PercentSalaryHike": 23,
         "PerformanceRating": 4,
         "StockOptionLevel": 1,
         "TotalWorkingYears": 6,
         "TrainingTimesLastYear": 3,
         "WorkLifeBalance": 4,
         "YearsAtCompany": 5,
         "YearsSinceLastPromotion": 1,
         "YearsWithCurrManager": 4,
         "_deepnote_index_column": 1
        },
        {
         "Age": 32,
         "Attrition": 0,
         "BusinessTravel_Travel_Frequently": 1,
         "BusinessTravel_Travel_Rarely": 0,
         "Department_Research & Development": 1,
         "Department_Sales": 0,
         "DistanceFromHome": 17,
         "Education": 4,
         "EducationField_Life Sciences": 0,
         "EducationField_Marketing": 0,
         "EducationField_Medical": 0,
         "EducationField_Other": 1,
         "EducationField_Technical Degree": 0,
         "EnvironmentSatisfaction": 2,
         "Gender": 0,
         "JobInvolvement": 3,
         "JobLevel": 4,
         "JobRole_Human Resources": 0,
         "JobRole_Laboratory Technician": 0,
         "JobRole_Manager": 0,
         "JobRole_Manufacturing Director": 0,
         "JobRole_Research Director": 0,
         "JobRole_Research Scientist": 0,
         "JobRole_Sales Executive": 1,
         "JobRole_Sales Representative": 0,
         "JobSatisfaction": 2,
         "MonthlyIncome": 193280,
         "NumCompaniesWorked": 1,
         "PercentSalaryHike": 15,
         "PerformanceRating": 3,
         "StockOptionLevel": 3,
         "TotalWorkingYears": 5,
         "TrainingTimesLastYear": 2,
         "WorkLifeBalance": 1,
         "YearsAtCompany": 5,
         "YearsSinceLastPromotion": 0,
         "YearsWithCurrManager": 3,
         "_deepnote_index_column": 2
        },
        {
         "Age": 38,
         "Attrition": 0,
         "BusinessTravel_Travel_Frequently": 0,
         "BusinessTravel_Travel_Rarely": 0,
         "Department_Research & Development": 1,
         "Department_Sales": 0,
         "DistanceFromHome": 2,
         "Education": 5,
         "EducationField_Life Sciences": 1,
         "EducationField_Marketing": 0,
         "EducationField_Medical": 0,
         "EducationField_Other": 0,
         "EducationField_Technical Degree": 0,
         "EnvironmentSatisfaction": 4,
         "Gender": 0,
         "JobInvolvement": 2,
         "JobLevel": 3,
         "JobRole_Human Resources": 1,
         "JobRole_Laboratory Technician": 0,
         "JobRole_Manager": 0,
         "JobRole_Manufacturing Director": 0,
         "JobRole_Research Director": 0,
         "JobRole_Research Scientist": 0,
         "JobRole_Sales Executive": 0,
         "JobRole_Sales Representative": 0,
         "JobSatisfaction": 4,
         "MonthlyIncome": 83210,
         "NumCompaniesWorked": 3,
         "PercentSalaryHike": 11,
         "PerformanceRating": 3,
         "StockOptionLevel": 3,
         "TotalWorkingYears": 13,
         "TrainingTimesLastYear": 5,
         "WorkLifeBalance": 3,
         "YearsAtCompany": 8,
         "YearsSinceLastPromotion": 7,
         "YearsWithCurrManager": 5,
         "_deepnote_index_column": 3
        },
        {
         "Age": 32,
         "Attrition": 0,
         "BusinessTravel_Travel_Frequently": 0,
         "BusinessTravel_Travel_Rarely": 1,
         "Department_Research & Development": 1,
         "Department_Sales": 0,
         "DistanceFromHome": 10,
         "Education": 1,
         "EducationField_Life Sciences": 0,
         "EducationField_Marketing": 0,
         "EducationField_Medical": 1,
         "EducationField_Other": 0,
         "EducationField_Technical Degree": 0,
         "EnvironmentSatisfaction": 4,
         "Gender": 0,
         "JobInvolvement": 3,
         "JobLevel": 1,
         "JobRole_Human Resources": 0,
         "JobRole_Laboratory Technician": 0,
         "JobRole_Manager": 0,
         "JobRole_Manufacturing Director": 0,
         "JobRole_Research Director": 0,
         "JobRole_Research Scientist": 0,
         "JobRole_Sales Executive": 1,
         "JobRole_Sales Representative": 0,
         "JobSatisfaction": 1,
         "MonthlyIncome": 23420,
         "NumCompaniesWorked": 4,
         "PercentSalaryHike": 12,
         "PerformanceRating": 3,
         "StockOptionLevel": 2,
         "TotalWorkingYears": 9,
         "TrainingTimesLastYear": 2,
         "WorkLifeBalance": 3,
         "YearsAtCompany": 6,
         "YearsSinceLastPromotion": 0,
         "YearsWithCurrManager": 4,
         "_deepnote_index_column": 4
        },
        {
         "Age": 46,
         "Attrition": 0,
         "BusinessTravel_Travel_Frequently": 0,
         "BusinessTravel_Travel_Rarely": 1,
         "Department_Research & Development": 1,
         "Department_Sales": 0,
         "DistanceFromHome": 8,
         "Education": 3,
         "EducationField_Life Sciences": 1,
         "EducationField_Marketing": 0,
         "EducationField_Medical": 0,
         "EducationField_Other": 0,
         "EducationField_Technical Degree": 0,
         "EnvironmentSatisfaction": 3,
         "Gender": 1,
         "JobInvolvement": 3,
         "JobLevel": 4,
         "JobRole_Human Resources": 0,
         "JobRole_Laboratory Technician": 0,
         "JobRole_Manager": 0,
         "JobRole_Manufacturing Director": 0,
         "JobRole_Research Director": 1,
         "JobRole_Research Scientist": 0,
         "JobRole_Sales Executive": 0,
         "JobRole_Sales Representative": 0,
         "JobSatisfaction": 2,
         "MonthlyIncome": 40710,
         "NumCompaniesWorked": 3,
         "PercentSalaryHike": 13,
         "PerformanceRating": 3,
         "StockOptionLevel": 0,
         "TotalWorkingYears": 28,
         "TrainingTimesLastYear": 5,
         "WorkLifeBalance": 2,
         "YearsAtCompany": 7,
         "YearsSinceLastPromotion": 7,
         "YearsWithCurrManager": 7,
         "_deepnote_index_column": 5
        },
        {
         "Age": 28,
         "Attrition": 1,
         "BusinessTravel_Travel_Frequently": 0,
         "BusinessTravel_Travel_Rarely": 1,
         "Department_Research & Development": 1,
         "Department_Sales": 0,
         "DistanceFromHome": 11,
         "Education": 2,
         "EducationField_Life Sciences": 0,
         "EducationField_Marketing": 0,
         "EducationField_Medical": 1,
         "EducationField_Other": 0,
         "EducationField_Technical Degree": 0,
         "EnvironmentSatisfaction": 1,
         "Gender": 0,
         "JobInvolvement": 3,
         "JobLevel": 2,
         "JobRole_Human Resources": 0,
         "JobRole_Laboratory Technician": 0,
         "JobRole_Manager": 0,
         "JobRole_Manufacturing Director": 0,
         "JobRole_Research Director": 0,
         "JobRole_Research Scientist": 0,
         "JobRole_Sales Executive": 1,
         "JobRole_Sales Representative": 0,
         "JobSatisfaction": 3,
         "MonthlyIncome": 58130,
         "NumCompaniesWorked": 2,
         "PercentSalaryHike": 20,
         "PerformanceRating": 4,
         "StockOptionLevel": 1,
         "TotalWorkingYears": 5,
         "TrainingTimesLastYear": 2,
         "WorkLifeBalance": 1,
         "YearsAtCompany": 0,
         "YearsSinceLastPromotion": 0,
         "YearsWithCurrManager": 0,
         "_deepnote_index_column": 6
        },
        {
         "Age": 29,
         "Attrition": 0,
         "BusinessTravel_Travel_Frequently": 0,
         "BusinessTravel_Travel_Rarely": 1,
         "Department_Research & Development": 1,
         "Department_Sales": 0,
         "DistanceFromHome": 18,
         "Education": 3,
         "EducationField_Life Sciences": 1,
         "EducationField_Marketing": 0,
         "EducationField_Medical": 0,
         "EducationField_Other": 0,
         "EducationField_Technical Degree": 0,
         "EnvironmentSatisfaction": 1,
         "Gender": 0,
         "JobInvolvement": 3,
         "JobLevel": 2,
         "JobRole_Human Resources": 0,
         "JobRole_Laboratory Technician": 0,
         "JobRole_Manager": 0,
         "JobRole_Manufacturing Director": 0,
         "JobRole_Research Director": 0,
         "JobRole_Research Scientist": 0,
         "JobRole_Sales Executive": 1,
         "JobRole_Sales Representative": 0,
         "JobSatisfaction": 2,
         "MonthlyIncome": 31430,
         "NumCompaniesWorked": 2,
         "PercentSalaryHike": 22,
         "PerformanceRating": 4,
         "StockOptionLevel": 3,
         "TotalWorkingYears": 10,
         "TrainingTimesLastYear": 2,
         "WorkLifeBalance": 3,
         "YearsAtCompany": 0,
         "YearsSinceLastPromotion": 0,
         "YearsWithCurrManager": 0,
         "_deepnote_index_column": 7
        },
        {
         "Age": 31,
         "Attrition": 0,
         "BusinessTravel_Travel_Frequently": 0,
         "BusinessTravel_Travel_Rarely": 1,
         "Department_Research & Development": 1,
         "Department_Sales": 0,
         "DistanceFromHome": 1,
         "Education": 3,
         "EducationField_Life Sciences": 1,
         "EducationField_Marketing": 0,
         "EducationField_Medical": 0,
         "EducationField_Other": 0,
         "EducationField_Technical Degree": 0,
         "EnvironmentSatisfaction": 2,
         "Gender": 0,
         "JobInvolvement": 3,
         "JobLevel": 3,
         "JobRole_Human Resources": 0,
         "JobRole_Laboratory Technician": 1,
         "JobRole_Manager": 0,
         "JobRole_Manufacturing Director": 0,
         "JobRole_Research Director": 0,
         "JobRole_Research Scientist": 0,
         "JobRole_Sales Executive": 0,
         "JobRole_Sales Representative": 0,
         "JobSatisfaction": 4,
         "MonthlyIncome": 20440,
         "NumCompaniesWorked": 0,
         "PercentSalaryHike": 21,
         "PerformanceRating": 4,
         "StockOptionLevel": 0,
         "TotalWorkingYears": 10,
         "TrainingTimesLastYear": 2,
         "WorkLifeBalance": 3,
         "YearsAtCompany": 9,
         "YearsSinceLastPromotion": 7,
         "YearsWithCurrManager": 8,
         "_deepnote_index_column": 8
        },
        {
         "Age": 25,
         "Attrition": 0,
         "BusinessTravel_Travel_Frequently": 0,
         "BusinessTravel_Travel_Rarely": 0,
         "Department_Research & Development": 1,
         "Department_Sales": 0,
         "DistanceFromHome": 7,
         "Education": 4,
         "EducationField_Life Sciences": 0,
         "EducationField_Marketing": 0,
         "EducationField_Medical": 1,
         "EducationField_Other": 0,
         "EducationField_Technical Degree": 0,
         "EnvironmentSatisfaction": 2,
         "Gender": 1,
         "JobInvolvement": 3,
         "JobLevel": 4,
         "JobRole_Human Resources": 0,
         "JobRole_Laboratory Technician": 1,
         "JobRole_Manager": 0,
         "JobRole_Manufacturing Director": 0,
         "JobRole_Research Director": 0,
         "JobRole_Research Scientist": 0,
         "JobRole_Sales Executive": 0,
         "JobRole_Sales Representative": 0,
         "JobSatisfaction": 1,
         "MonthlyIncome": 134640,
         "NumCompaniesWorked": 1,
         "PercentSalaryHike": 13,
         "PerformanceRating": 3,
         "StockOptionLevel": 1,
         "TotalWorkingYears": 6,
         "TrainingTimesLastYear": 2,
         "WorkLifeBalance": 3,
         "YearsAtCompany": 6,
         "YearsSinceLastPromotion": 1,
         "YearsWithCurrManager": 5,
         "_deepnote_index_column": 9
        }
       ]
      },
      "text/html": [
       "<div>\n",
       "<style scoped>\n",
       "    .dataframe tbody tr th:only-of-type {\n",
       "        vertical-align: middle;\n",
       "    }\n",
       "\n",
       "    .dataframe tbody tr th {\n",
       "        vertical-align: top;\n",
       "    }\n",
       "\n",
       "    .dataframe thead th {\n",
       "        text-align: right;\n",
       "    }\n",
       "</style>\n",
       "<table border=\"1\" class=\"dataframe\">\n",
       "  <thead>\n",
       "    <tr style=\"text-align: right;\">\n",
       "      <th></th>\n",
       "      <th>Age</th>\n",
       "      <th>Attrition</th>\n",
       "      <th>DistanceFromHome</th>\n",
       "      <th>Education</th>\n",
       "      <th>Gender</th>\n",
       "      <th>JobLevel</th>\n",
       "      <th>MonthlyIncome</th>\n",
       "      <th>NumCompaniesWorked</th>\n",
       "      <th>PercentSalaryHike</th>\n",
       "      <th>StockOptionLevel</th>\n",
       "      <th>...</th>\n",
       "      <th>EducationField_Other</th>\n",
       "      <th>EducationField_Technical Degree</th>\n",
       "      <th>JobRole_Human Resources</th>\n",
       "      <th>JobRole_Laboratory Technician</th>\n",
       "      <th>JobRole_Manager</th>\n",
       "      <th>JobRole_Manufacturing Director</th>\n",
       "      <th>JobRole_Research Director</th>\n",
       "      <th>JobRole_Research Scientist</th>\n",
       "      <th>JobRole_Sales Executive</th>\n",
       "      <th>JobRole_Sales Representative</th>\n",
       "    </tr>\n",
       "  </thead>\n",
       "  <tbody>\n",
       "    <tr>\n",
       "      <th>0</th>\n",
       "      <td>51</td>\n",
       "      <td>0</td>\n",
       "      <td>6</td>\n",
       "      <td>2</td>\n",
       "      <td>1</td>\n",
       "      <td>1</td>\n",
       "      <td>131160</td>\n",
       "      <td>1.0</td>\n",
       "      <td>11</td>\n",
       "      <td>0</td>\n",
       "      <td>...</td>\n",
       "      <td>0</td>\n",
       "      <td>0</td>\n",
       "      <td>0</td>\n",
       "      <td>0</td>\n",
       "      <td>0</td>\n",
       "      <td>0</td>\n",
       "      <td>0</td>\n",
       "      <td>0</td>\n",
       "      <td>0</td>\n",
       "      <td>0</td>\n",
       "    </tr>\n",
       "    <tr>\n",
       "      <th>1</th>\n",
       "      <td>31</td>\n",
       "      <td>1</td>\n",
       "      <td>10</td>\n",
       "      <td>1</td>\n",
       "      <td>1</td>\n",
       "      <td>1</td>\n",
       "      <td>41890</td>\n",
       "      <td>0.0</td>\n",
       "      <td>23</td>\n",
       "      <td>1</td>\n",
       "      <td>...</td>\n",
       "      <td>0</td>\n",
       "      <td>0</td>\n",
       "      <td>0</td>\n",
       "      <td>0</td>\n",
       "      <td>0</td>\n",
       "      <td>0</td>\n",
       "      <td>0</td>\n",
       "      <td>1</td>\n",
       "      <td>0</td>\n",
       "      <td>0</td>\n",
       "    </tr>\n",
       "    <tr>\n",
       "      <th>2</th>\n",
       "      <td>32</td>\n",
       "      <td>0</td>\n",
       "      <td>17</td>\n",
       "      <td>4</td>\n",
       "      <td>0</td>\n",
       "      <td>4</td>\n",
       "      <td>193280</td>\n",
       "      <td>1.0</td>\n",
       "      <td>15</td>\n",
       "      <td>3</td>\n",
       "      <td>...</td>\n",
       "      <td>1</td>\n",
       "      <td>0</td>\n",
       "      <td>0</td>\n",
       "      <td>0</td>\n",
       "      <td>0</td>\n",
       "      <td>0</td>\n",
       "      <td>0</td>\n",
       "      <td>0</td>\n",
       "      <td>1</td>\n",
       "      <td>0</td>\n",
       "    </tr>\n",
       "    <tr>\n",
       "      <th>3</th>\n",
       "      <td>38</td>\n",
       "      <td>0</td>\n",
       "      <td>2</td>\n",
       "      <td>5</td>\n",
       "      <td>0</td>\n",
       "      <td>3</td>\n",
       "      <td>83210</td>\n",
       "      <td>3.0</td>\n",
       "      <td>11</td>\n",
       "      <td>3</td>\n",
       "      <td>...</td>\n",
       "      <td>0</td>\n",
       "      <td>0</td>\n",
       "      <td>1</td>\n",
       "      <td>0</td>\n",
       "      <td>0</td>\n",
       "      <td>0</td>\n",
       "      <td>0</td>\n",
       "      <td>0</td>\n",
       "      <td>0</td>\n",
       "      <td>0</td>\n",
       "    </tr>\n",
       "    <tr>\n",
       "      <th>4</th>\n",
       "      <td>32</td>\n",
       "      <td>0</td>\n",
       "      <td>10</td>\n",
       "      <td>1</td>\n",
       "      <td>0</td>\n",
       "      <td>1</td>\n",
       "      <td>23420</td>\n",
       "      <td>4.0</td>\n",
       "      <td>12</td>\n",
       "      <td>2</td>\n",
       "      <td>...</td>\n",
       "      <td>0</td>\n",
       "      <td>0</td>\n",
       "      <td>0</td>\n",
       "      <td>0</td>\n",
       "      <td>0</td>\n",
       "      <td>0</td>\n",
       "      <td>0</td>\n",
       "      <td>0</td>\n",
       "      <td>1</td>\n",
       "      <td>0</td>\n",
       "    </tr>\n",
       "    <tr>\n",
       "      <th>...</th>\n",
       "      <td>...</td>\n",
       "      <td>...</td>\n",
       "      <td>...</td>\n",
       "      <td>...</td>\n",
       "      <td>...</td>\n",
       "      <td>...</td>\n",
       "      <td>...</td>\n",
       "      <td>...</td>\n",
       "      <td>...</td>\n",
       "      <td>...</td>\n",
       "      <td>...</td>\n",
       "      <td>...</td>\n",
       "      <td>...</td>\n",
       "      <td>...</td>\n",
       "      <td>...</td>\n",
       "      <td>...</td>\n",
       "      <td>...</td>\n",
       "      <td>...</td>\n",
       "      <td>...</td>\n",
       "      <td>...</td>\n",
       "      <td>...</td>\n",
       "    </tr>\n",
       "    <tr>\n",
       "      <th>4405</th>\n",
       "      <td>42</td>\n",
       "      <td>0</td>\n",
       "      <td>5</td>\n",
       "      <td>4</td>\n",
       "      <td>1</td>\n",
       "      <td>1</td>\n",
       "      <td>60290</td>\n",
       "      <td>3.0</td>\n",
       "      <td>17</td>\n",
       "      <td>1</td>\n",
       "      <td>...</td>\n",
       "      <td>0</td>\n",
       "      <td>0</td>\n",
       "      <td>0</td>\n",
       "      <td>0</td>\n",
       "      <td>0</td>\n",
       "      <td>0</td>\n",
       "      <td>0</td>\n",
       "      <td>1</td>\n",
       "      <td>0</td>\n",
       "      <td>0</td>\n",
       "    </tr>\n",
       "    <tr>\n",
       "      <th>4406</th>\n",
       "      <td>29</td>\n",
       "      <td>0</td>\n",
       "      <td>2</td>\n",
       "      <td>4</td>\n",
       "      <td>0</td>\n",
       "      <td>1</td>\n",
       "      <td>26790</td>\n",
       "      <td>2.0</td>\n",
       "      <td>15</td>\n",
       "      <td>0</td>\n",
       "      <td>...</td>\n",
       "      <td>0</td>\n",
       "      <td>0</td>\n",
       "      <td>0</td>\n",
       "      <td>1</td>\n",
       "      <td>0</td>\n",
       "      <td>0</td>\n",
       "      <td>0</td>\n",
       "      <td>0</td>\n",
       "      <td>0</td>\n",
       "      <td>0</td>\n",
       "    </tr>\n",
       "    <tr>\n",
       "      <th>4407</th>\n",
       "      <td>25</td>\n",
       "      <td>0</td>\n",
       "      <td>25</td>\n",
       "      <td>2</td>\n",
       "      <td>0</td>\n",
       "      <td>2</td>\n",
       "      <td>37020</td>\n",
       "      <td>0.0</td>\n",
       "      <td>20</td>\n",
       "      <td>0</td>\n",
       "      <td>...</td>\n",
       "      <td>0</td>\n",
       "      <td>0</td>\n",
       "      <td>0</td>\n",
       "      <td>0</td>\n",
       "      <td>0</td>\n",
       "      <td>0</td>\n",
       "      <td>0</td>\n",
       "      <td>0</td>\n",
       "      <td>1</td>\n",
       "      <td>0</td>\n",
       "    </tr>\n",
       "    <tr>\n",
       "      <th>4408</th>\n",
       "      <td>42</td>\n",
       "      <td>0</td>\n",
       "      <td>18</td>\n",
       "      <td>2</td>\n",
       "      <td>0</td>\n",
       "      <td>1</td>\n",
       "      <td>23980</td>\n",
       "      <td>0.0</td>\n",
       "      <td>14</td>\n",
       "      <td>1</td>\n",
       "      <td>...</td>\n",
       "      <td>0</td>\n",
       "      <td>0</td>\n",
       "      <td>0</td>\n",
       "      <td>1</td>\n",
       "      <td>0</td>\n",
       "      <td>0</td>\n",
       "      <td>0</td>\n",
       "      <td>0</td>\n",
       "      <td>0</td>\n",
       "      <td>0</td>\n",
       "    </tr>\n",
       "    <tr>\n",
       "      <th>4409</th>\n",
       "      <td>40</td>\n",
       "      <td>0</td>\n",
       "      <td>28</td>\n",
       "      <td>3</td>\n",
       "      <td>0</td>\n",
       "      <td>2</td>\n",
       "      <td>54680</td>\n",
       "      <td>0.0</td>\n",
       "      <td>12</td>\n",
       "      <td>0</td>\n",
       "      <td>...</td>\n",
       "      <td>0</td>\n",
       "      <td>0</td>\n",
       "      <td>0</td>\n",
       "      <td>1</td>\n",
       "      <td>0</td>\n",
       "      <td>0</td>\n",
       "      <td>0</td>\n",
       "      <td>0</td>\n",
       "      <td>0</td>\n",
       "      <td>0</td>\n",
       "    </tr>\n",
       "  </tbody>\n",
       "</table>\n",
       "<p>4410 rows × 37 columns</p>\n",
       "</div>"
      ],
      "text/plain": [
       "      Age  Attrition  DistanceFromHome  Education  Gender  JobLevel  \\\n",
       "0      51          0                 6          2       1         1   \n",
       "1      31          1                10          1       1         1   \n",
       "2      32          0                17          4       0         4   \n",
       "3      38          0                 2          5       0         3   \n",
       "4      32          0                10          1       0         1   \n",
       "...   ...        ...               ...        ...     ...       ...   \n",
       "4405   42          0                 5          4       1         1   \n",
       "4406   29          0                 2          4       0         1   \n",
       "4407   25          0                25          2       0         2   \n",
       "4408   42          0                18          2       0         1   \n",
       "4409   40          0                28          3       0         2   \n",
       "\n",
       "      MonthlyIncome  NumCompaniesWorked  PercentSalaryHike  StockOptionLevel  \\\n",
       "0            131160                 1.0                 11                 0   \n",
       "1             41890                 0.0                 23                 1   \n",
       "2            193280                 1.0                 15                 3   \n",
       "3             83210                 3.0                 11                 3   \n",
       "4             23420                 4.0                 12                 2   \n",
       "...             ...                 ...                ...               ...   \n",
       "4405          60290                 3.0                 17                 1   \n",
       "4406          26790                 2.0                 15                 0   \n",
       "4407          37020                 0.0                 20                 0   \n",
       "4408          23980                 0.0                 14                 1   \n",
       "4409          54680                 0.0                 12                 0   \n",
       "\n",
       "      ...  EducationField_Other  EducationField_Technical Degree  \\\n",
       "0     ...                     0                                0   \n",
       "1     ...                     0                                0   \n",
       "2     ...                     1                                0   \n",
       "3     ...                     0                                0   \n",
       "4     ...                     0                                0   \n",
       "...   ...                   ...                              ...   \n",
       "4405  ...                     0                                0   \n",
       "4406  ...                     0                                0   \n",
       "4407  ...                     0                                0   \n",
       "4408  ...                     0                                0   \n",
       "4409  ...                     0                                0   \n",
       "\n",
       "      JobRole_Human Resources  JobRole_Laboratory Technician  JobRole_Manager  \\\n",
       "0                           0                              0                0   \n",
       "1                           0                              0                0   \n",
       "2                           0                              0                0   \n",
       "3                           1                              0                0   \n",
       "4                           0                              0                0   \n",
       "...                       ...                            ...              ...   \n",
       "4405                        0                              0                0   \n",
       "4406                        0                              1                0   \n",
       "4407                        0                              0                0   \n",
       "4408                        0                              1                0   \n",
       "4409                        0                              1                0   \n",
       "\n",
       "      JobRole_Manufacturing Director  JobRole_Research Director  \\\n",
       "0                                  0                          0   \n",
       "1                                  0                          0   \n",
       "2                                  0                          0   \n",
       "3                                  0                          0   \n",
       "4                                  0                          0   \n",
       "...                              ...                        ...   \n",
       "4405                               0                          0   \n",
       "4406                               0                          0   \n",
       "4407                               0                          0   \n",
       "4408                               0                          0   \n",
       "4409                               0                          0   \n",
       "\n",
       "      JobRole_Research Scientist  JobRole_Sales Executive  \\\n",
       "0                              0                        0   \n",
       "1                              1                        0   \n",
       "2                              0                        1   \n",
       "3                              0                        0   \n",
       "4                              0                        1   \n",
       "...                          ...                      ...   \n",
       "4405                           1                        0   \n",
       "4406                           0                        0   \n",
       "4407                           0                        1   \n",
       "4408                           0                        0   \n",
       "4409                           0                        0   \n",
       "\n",
       "      JobRole_Sales Representative  \n",
       "0                                0  \n",
       "1                                0  \n",
       "2                                0  \n",
       "3                                0  \n",
       "4                                0  \n",
       "...                            ...  \n",
       "4405                             0  \n",
       "4406                             0  \n",
       "4407                             0  \n",
       "4408                             0  \n",
       "4409                             0  \n",
       "\n",
       "[4410 rows x 37 columns]"
      ]
     },
     "execution_count": 12,
     "metadata": {},
     "output_type": "execute_result"
    }
   ],
   "source": [
    "# Nous allons One-Hot encode toutes les catégories, car elles ne peuvent pas être prises par les modèles en tant que tel.\n",
    "\n",
    "# renseigner les colonnes à one-hot encode\n",
    "one_hot_var = [\"BusinessTravel\", \"Department\", \"EducationField\", \"JobRole\"]\n",
    "\n",
    "test_dataframe = fixed_dataframe.copy()\n",
    "\n",
    "for i in one_hot_var:\n",
    "    # one-hot encode toutes les colonnes mentionnées et le met dans une variable x_t\n",
    "    x_t = pd.get_dummies(test_dataframe[i], prefix=i, prefix_sep='_', drop_first=True)\n",
    "    # lier la colonne one-hot encodée à l'intérieur du dataframe\n",
    "    test_dataframe = test_dataframe.join(x_t)\n",
    "    # et virer la colonne originale, car on en à plus besoin\n",
    "    test_dataframe.drop(i, axis = 1, inplace = True)\n",
    "\n",
    "# Vérification que tout soit one-hot encode.\n",
    "test_dataframe"
   ]
  },
  {
   "cell_type": "markdown",
   "metadata": {
    "cell_id": "722fe14b-e609-4ad9-a448-51a53ffd48ff",
    "deepnote_cell_type": "text-cell-h3",
    "is_collapsed": false,
    "tags": []
   },
   "source": [
    "### 4.2 Traitement des valeurs inexistantes, scaling des données et création du jeu d'entraînement / test"
   ]
  },
  {
   "cell_type": "code",
   "execution_count": null,
   "metadata": {
    "cell_id": "ca3aae01-582b-4d96-9b19-6bd38524f781",
    "deepnote_cell_type": "code",
    "deepnote_to_be_reexecuted": false,
    "execution_millis": 71,
    "execution_start": 1647460559101,
    "source_hash": "76592a04",
    "tags": []
   },
   "outputs": [],
   "source": [
    "# Les données d'entraînement\n",
    "X = test_dataframe.drop('Attrition', axis = 1)\n",
    "\n",
    "# Ce qu'on veut prédire\n",
    "y = test_dataframe['Attrition']\n",
    "\n",
    "# On splitte et shuffle les données (stratified split)\n",
    "from sklearn.utils import shuffle\n",
    "X_train, X_test, y_train, y_test = train_test_split(X, y, test_size=0.2, stratify = y, random_state=42)\n",
    "\n",
    "# Import du scaler, pour éviter qu'un attribut soit considéré comme plus important qu'un autre.\n",
    "from sklearn.preprocessing import StandardScaler\n",
    "scaler = StandardScaler()\n",
    "\n",
    "# On scale uniquement les données de base, pas les données one-hot encodées\n",
    "X_train[X_train.columns[:21]] = scaler.fit_transform(X_train[X_train.columns[:21]])\n",
    "X_test[X_train.columns[:21]] = scaler.transform(X_test[X_train.columns[:21]])\n",
    "\n",
    "# Shuffle\n",
    "X_train, y_train = shuffle(X_train, y_train)"
   ]
  },
  {
   "cell_type": "markdown",
   "metadata": {
    "cell_id": "e10e14ba-53dc-4ba0-9bcf-9c6319c823d7",
    "deepnote_cell_height": 70,
    "deepnote_cell_type": "text-cell-h2",
    "is_collapsed": false,
    "tags": []
   },
   "source": [
    "## 5. Test des différents modèles de prédiction"
   ]
  },
  {
   "cell_type": "markdown",
   "metadata": {
    "cell_id": "983e0dd4-9039-4bf4-9dbc-c9b8f611fc03",
    "deepnote_cell_height": 52.399993896484375,
    "deepnote_cell_type": "markdown",
    "tags": []
   },
   "source": [
    "Cette partie permettra de voir quel est le modèle le plus adapté à notre problème."
   ]
  },
  {
   "cell_type": "code",
   "execution_count": null,
   "metadata": {
    "cell_id": "4a78e29e-35b9-4ce2-917f-593704b5e8da",
    "deepnote_cell_height": 184.1999969482422,
    "deepnote_cell_type": "code",
    "deepnote_to_be_reexecuted": false,
    "execution_millis": 67,
    "execution_start": 1647460559181,
    "source_hash": "484b57d9",
    "tags": []
   },
   "outputs": [
    {
     "name": "stdout",
     "output_type": "stream",
     "text": [
      "Valeur à prédire:  0\n"
     ]
    }
   ],
   "source": [
    "# Pour prédire naivement une donnée, nous pourrons réutiliser ceci.\n",
    "une_personne = X_test.iloc[452]\n",
    "label_a_predire = y_test.iloc[452]\n",
    "\n",
    "print(\"Valeur à prédire: \", label_a_predire)"
   ]
  },
  {
   "cell_type": "markdown",
   "metadata": {
    "cell_id": "2ce918ab-2a30-44b1-a81a-b7b5577c54f9",
    "deepnote_cell_height": 62,
    "deepnote_cell_type": "text-cell-h3",
    "is_collapsed": false,
    "tags": []
   },
   "source": [
    "### 5.1 Modèle&nbsp;Random&nbsp;Forest"
   ]
  },
  {
   "cell_type": "code",
   "execution_count": null,
   "metadata": {
    "cell_id": "9c9a8045-b628-4566-a0bc-4f7f6663b6e1",
    "deepnote_cell_height": 2053.800048828125,
    "deepnote_cell_type": "code",
    "deepnote_output_heights": [
     null,
     277,
     386,
     386
    ],
    "deepnote_to_be_reexecuted": false,
    "execution_millis": 2456,
    "execution_start": 1647460559248,
    "source_hash": "b748acda",
    "tags": []
   },
   "outputs": [
    {
     "name": "stdout",
     "output_type": "stream",
     "text": [
      "Prédiction naïve:  [0]\n",
      "Scores cross-validation:  [0.95663265 0.95918367 0.94727891]\n",
      "Matrice de confusion: \n",
      " [[2934   25]\n",
      " [ 136  433]]\n",
      "Précision du classifieur:  0.9454148471615721\n",
      "Recall du classifieur:  0.7609841827768014\n",
      "F1-score (précision et recall proches):  0.8432327166504382\n"
     ]
    },
    {
     "data": {
      "image/png": "[encoded data removed]",
      "text/plain": [
       "<Figure size 576x288 with 1 Axes>"
      ]
     },
     "metadata": {
      "image/png": {
       "height": 275,
       "width": 496
      },
      "needs_background": "light"
     },
     "output_type": "display_data"
    },
    {
     "data": {
      "image/png": "[encoded data removed]",
      "text/plain": [
       "<Figure size 576x432 with 1 Axes>"
      ]
     },
     "metadata": {
      "image/png": {
       "height": 384,
       "width": 515
      },
      "needs_background": "light"
     },
     "output_type": "display_data"
    },
    {
     "data": {
      "image/png": "[encoded data removed]",
      "text/plain": [
       "<Figure size 576x432 with 1 Axes>"
      ]
     },
     "metadata": {
      "image/png": {
       "height": 384,
       "width": 515
      },
      "needs_background": "light"
     },
     "output_type": "display_data"
    },
    {
     "name": "stdout",
     "output_type": "stream",
     "text": [
      "Aire sous la courbe ROC:  0.9353620748946796\n"
     ]
    }
   ],
   "source": [
    "#Création du modèle\n",
    "clf = RandomForestClassifier(random_state=42, n_estimators=10)\n",
    "clf.fit(X_train.values, y_train.values)\n",
    "\n",
    "print(\"Prédiction naïve: \", clf.predict([une_personne]))\n",
    "\n",
    "#Evaluation du modèle\n",
    "print(\"Scores cross-validation: \", cross_val_score(clf, X_train.values, y_train.values, cv=3))\n",
    "forest_pred = cross_val_predict(clf, X_train.values, y_train.values, cv=3)\n",
    "print(\"Matrice de confusion: \\n\", confusion_matrix(y_train.values, forest_pred))\n",
    "print(\"Précision du classifieur: \", precision_score(y_train.values, forest_pred))\n",
    "print(\"Recall du classifieur: \", recall_score(y_train.values, forest_pred))\n",
    "print(\"F1-score (précision et recall proches): \", f1_score(y_train.values, forest_pred))\n",
    "forest_scores = cross_val_predict(clf, X_train.values, forest_pred, cv=3,\n",
    "                             method=\"predict_proba\")\n",
    "good_forest_scores = forest_scores[:, 1]\n",
    "precisions, recalls, thresholds_pr = precision_recall_curve(y_train.values, good_forest_scores)\n",
    "fpr, tpr, thresholds_ftpr = roc_curve(y_train.values, good_forest_scores)\n",
    "\n",
    "# Regarder le graphe precision, recall vs threshold\n",
    "plt.figure(figsize=(8, 4))\n",
    "plot_precision_recall_vs_threshold(precisions, recalls, thresholds_pr)\n",
    "plt.xlim([0, 1])\n",
    "plt.show()\n",
    "\n",
    "# Regarder le graphe precision vs recall\n",
    "plt.figure(figsize=(8, 6))\n",
    "plot_precision_vs_recall(precisions, recalls)\n",
    "plt.show()\n",
    "\n",
    "# Regarder le graphe ROC\n",
    "plt.figure(figsize=(8, 6))\n",
    "plot_roc_curve(fpr, tpr)\n",
    "plt.show()\n",
    "print(\"Aire sous la courbe ROC: \", roc_auc_score(y_train.values, good_forest_scores))"
   ]
  },
  {
   "cell_type": "markdown",
   "metadata": {
    "cell_id": "1d56b87a-0556-4a76-950a-b197e2462595",
    "deepnote_cell_height": 62,
    "deepnote_cell_type": "text-cell-h3",
    "is_collapsed": false,
    "tags": []
   },
   "source": [
    "### 5.2 Modèle Support&nbsp;Vector&nbsp;Classification"
   ]
  },
  {
   "cell_type": "code",
   "execution_count": null,
   "metadata": {
    "cell_id": "d8e9fce8-d38d-45bf-9511-b5a0d959349e",
    "deepnote_cell_height": 2071.800048828125,
    "deepnote_cell_type": "code",
    "deepnote_output_heights": [
     null,
     277,
     386,
     386
    ],
    "deepnote_to_be_reexecuted": false,
    "execution_millis": 6439,
    "execution_start": 1647460561701,
    "source_hash": "8ce6e023",
    "tags": []
   },
   "outputs": [
    {
     "name": "stdout",
     "output_type": "stream",
     "text": [
      "Scores cross-validation:  [0.79676871 0.80612245 0.80357143]\n",
      "Matrice de confusion: \n",
      " [[2793  166]\n",
      " [ 532   37]]\n",
      "Précision du classifieur:  0.18226600985221675\n",
      "Recall du classifieur:  0.06502636203866433\n",
      "F1-score (précision et recall proches):  0.09585492227979275\n"
     ]
    },
    {
     "data": {
      "image/png": "[encoded data removed]",
      "text/plain": [
       "<Figure size 576x288 with 1 Axes>"
      ]
     },
     "metadata": {
      "image/png": {
       "height": 275,
       "width": 499
      },
      "needs_background": "light"
     },
     "output_type": "display_data"
    },
    {
     "data": {
      "image/png": "[encoded data removed]",
      "text/plain": [
       "<Figure size 576x432 with 1 Axes>"
      ]
     },
     "metadata": {
      "image/png": {
       "height": 384,
       "width": 515
      },
      "needs_background": "light"
     },
     "output_type": "display_data"
    },
    {
     "data": {
      "image/png": "[encoded data removed]",
      "text/plain": [
       "<Figure size 576x432 with 1 Axes>"
      ]
     },
     "metadata": {
      "image/png": {
       "height": 384,
       "width": 515
      },
      "needs_background": "light"
     },
     "output_type": "display_data"
    },
    {
     "name": "stdout",
     "output_type": "stream",
     "text": [
      "Aire sous la courbe ROC:  0.6023890653221442\n",
      "Prédiction:  [0]\n"
     ]
    }
   ],
   "source": [
    "#préparation du modèle (sigmoïde car il s'agit de l'activation de la régression logistique)\n",
    "svm_class = SVC(kernel=\"sigmoid\", random_state=42)\n",
    "svm_class = svm_class.fit(X_train.values, y_train.values)\n",
    "\n",
    "#évaluation du modèle\n",
    "print(\"Scores cross-validation: \", cross_val_score(svm_class, X_train.values, y_train.values, cv=3, scoring=\"accuracy\"))\n",
    "svm_pred = cross_val_predict(svm_class, X_train.values, y_train.values, cv=3)\n",
    "print(\"Matrice de confusion: \\n\", confusion_matrix(y_train.values, svm_pred))\n",
    "print(\"Précision du classifieur: \", precision_score(y_train.values, svm_pred))\n",
    "print(\"Recall du classifieur: \", recall_score(y_train.values, svm_pred))\n",
    "print(\"F1-score (précision et recall proches): \", f1_score(y_train.values, svm_pred))\n",
    "svm_scores = cross_val_predict(svm_class, X_train.values, svm_pred, cv=3,\n",
    "                             method=\"decision_function\")\n",
    "precisions, recalls, thresholds_pr = precision_recall_curve(y_train.values, svm_scores)\n",
    "fpr, tpr, thresholds_ftpr = roc_curve(y_train.values, svm_scores)\n",
    "\n",
    "# Regarder le graphe precision, recall vs threshold\n",
    "plt.figure(figsize=(8, 4))\n",
    "plot_precision_recall_vs_threshold(precisions, recalls, thresholds_pr)\n",
    "plt.xlim([-1, 1])\n",
    "plt.show()\n",
    "\n",
    "# Regarder le graphe precision vs recall\n",
    "plt.figure(figsize=(8, 6))\n",
    "plot_precision_vs_recall(precisions, recalls)\n",
    "plt.show()\n",
    "\n",
    "# Regarder le graphe ROC\n",
    "plt.figure(figsize=(8, 6))\n",
    "plot_roc_curve(fpr, tpr)\n",
    "plt.show()\n",
    "print(\"Aire sous la courbe ROC: \", roc_auc_score(y_train.values, svm_scores))\n",
    "\n",
    "#prédiction naive\n",
    "print(\"Prédiction: \", svm_class.predict([une_personne]))\n"
   ]
  },
  {
   "cell_type": "markdown",
   "metadata": {
    "cell_id": "b6bf1854-cd86-423f-9f5f-1015aeee0a96",
    "deepnote_cell_height": 62,
    "deepnote_cell_type": "text-cell-h3",
    "is_collapsed": false,
    "tags": []
   },
   "source": [
    "### 5.3 Modèle Classifieur SGD"
   ]
  },
  {
   "cell_type": "code",
   "execution_count": null,
   "metadata": {
    "cell_id": "e58ab3fb-7bce-4a3f-b1a1-ffa4425d4703",
    "deepnote_cell_height": 2053.800048828125,
    "deepnote_cell_type": "code",
    "deepnote_output_heights": [
     null,
     277,
     386,
     386
    ],
    "deepnote_to_be_reexecuted": false,
    "execution_millis": 1502,
    "execution_start": 1647460567915,
    "source_hash": "3f03844f",
    "tags": []
   },
   "outputs": [
    {
     "name": "stdout",
     "output_type": "stream",
     "text": [
      "Prédiction:  [0]\n",
      "Scores cross-validation:  [0.83673469 0.83928571 0.83928571]\n",
      "Matrice de confusion: \n",
      " [[2872   87]\n",
      " [ 483   86]]\n",
      "Précision du classifieur:  0.49710982658959535\n",
      "Recall du classifieur:  0.15114235500878734\n",
      "F1-score (précision et recall proches):  0.23180592991913745\n"
     ]
    },
    {
     "data": {
      "image/png": "[encoded data removed]",
      "text/plain": [
       "<Figure size 576x288 with 1 Axes>"
      ]
     },
     "metadata": {
      "image/png": {
       "height": 275,
       "width": 499
      },
      "needs_background": "light"
     },
     "output_type": "display_data"
    },
    {
     "data": {
      "image/png": "[encoded data removed]",
      "text/plain": [
       "<Figure size 576x432 with 1 Axes>"
      ]
     },
     "metadata": {
      "image/png": {
       "height": 384,
       "width": 515
      },
      "needs_background": "light"
     },
     "output_type": "display_data"
    },
    {
     "data": {
      "image/png": "[encoded data removed]",
      "text/plain": [
       "<Figure size 576x432 with 1 Axes>"
      ]
     },
     "metadata": {
      "image/png": {
       "height": 384,
       "width": 515
      },
      "needs_background": "light"
     },
     "output_type": "display_data"
    },
    {
     "name": "stdout",
     "output_type": "stream",
     "text": [
      "Aire sous la courbe ROC:  0.6966604520716934\n"
     ]
    }
   ],
   "source": [
    "sgd_clf = SGDClassifier(max_iter=50, random_state=42)\n",
    "sgd_clf.fit(X_train.values, y_train.values) # Entrainement du modèle\n",
    "\n",
    "print(\"Prédiction: \", sgd_clf.predict([une_personne]))\n",
    "\n",
    "print(\"Scores cross-validation: \", cross_val_score(sgd_clf, X_train.values, y_train.values, cv=3, scoring=\"accuracy\"))\n",
    "sgd_pred = cross_val_predict(sgd_clf, X_train.values, y_train.values, cv=3)\n",
    "print(\"Matrice de confusion: \\n\", confusion_matrix(y_train.values, sgd_pred))\n",
    "\n",
    "print(\"Précision du classifieur: \", precision_score(y_train.values, sgd_pred))\n",
    "print(\"Recall du classifieur: \", recall_score(y_train.values, sgd_pred))\n",
    "print(\"F1-score (précision et recall proches): \", f1_score(y_train.values, sgd_pred))\n",
    "\n",
    "sgd_scores = cross_val_predict(sgd_clf, X_train.values, sgd_pred, cv=3,\n",
    "                             method=\"decision_function\")\n",
    "precisions, recalls, thresholds_pr = precision_recall_curve(y_train.values, sgd_scores)\n",
    "\n",
    "fpr, tpr, thresholds_ftpr = roc_curve(y_train.values, sgd_scores)\n",
    "\n",
    "# Regarder le graphe precision, recall vs threshold\n",
    "plt.figure(figsize=(8, 4))\n",
    "plot_precision_recall_vs_threshold(precisions, recalls, thresholds_pr)\n",
    "plt.xlim([-1, 1])\n",
    "plt.show()\n",
    "\n",
    "# Regarder le graphe precision vs recall\n",
    "plt.figure(figsize=(8, 6))\n",
    "plot_precision_vs_recall(precisions, recalls)\n",
    "plt.show()\n",
    "\n",
    "# Regarder le graphe ROC\n",
    "plt.figure(figsize=(8, 6))\n",
    "plot_roc_curve(fpr, tpr)\n",
    "plt.show()\n",
    "print(\"Aire sous la courbe ROC: \", roc_auc_score(y_train.values, sgd_scores))"
   ]
  },
  {
   "cell_type": "markdown",
   "metadata": {
    "cell_id": "1d6dc916-94dd-4c79-940e-5d7c9ca675fb",
    "deepnote_cell_height": 62,
    "deepnote_cell_type": "text-cell-h3",
    "is_collapsed": false,
    "tags": []
   },
   "source": [
    "### 5.4 Modèle XGBoost"
   ]
  },
  {
   "cell_type": "code",
   "execution_count": null,
   "metadata": {
    "cell_id": "69d5d402-d601-4436-8fbb-abf8a85d7b45",
    "deepnote_cell_height": 2071.800048828125,
    "deepnote_cell_type": "code",
    "deepnote_output_heights": [
     null,
     277,
     386,
     386
    ],
    "deepnote_to_be_reexecuted": false,
    "execution_millis": 78645,
    "execution_start": 1647460569420,
    "source_hash": "3ab9f5d8",
    "tags": []
   },
   "outputs": [
    {
     "name": "stdout",
     "output_type": "stream",
     "text": [
      "Prédiction:  [0]\n",
      "Scores cross-validation:  [0.95833333 0.96598639 0.96003401]\n",
      "Matrice de confusion: \n",
      " [[2932   27]\n",
      " [ 109  460]]\n",
      "Précision du classifieur:  0.944558521560575\n",
      "Recall du classifieur:  0.8084358523725835\n",
      "F1-score (précision et recall proches):  0.8712121212121213\n"
     ]
    },
    {
     "data": {
      "image/png": "[encoded data removed]",
      "text/plain": [
       "<Figure size 576x288 with 1 Axes>"
      ]
     },
     "metadata": {
      "image/png": {
       "height": 275,
       "width": 496
      },
      "needs_background": "light"
     },
     "output_type": "display_data"
    },
    {
     "data": {
      "image/png": "[encoded data removed]",
      "text/plain": [
       "<Figure size 576x432 with 1 Axes>"
      ]
     },
     "metadata": {
      "image/png": {
       "height": 384,
       "width": 515
      },
      "needs_background": "light"
     },
     "output_type": "display_data"
    },
    {
     "data": {
      "image/png": "[encoded data removed]",
      "text/plain": [
       "<Figure size 576x432 with 1 Axes>"
      ]
     },
     "metadata": {
      "image/png": {
       "height": 384,
       "width": 515
      },
      "needs_background": "light"
     },
     "output_type": "display_data"
    },
    {
     "name": "stdout",
     "output_type": "stream",
     "text": [
      "Aire sous la courbe ROC:  0.9485534881814797\n"
     ]
    }
   ],
   "source": [
    "#XGBoost\n",
    "boost = xgb.XGBClassifier(objective=\"reg:logistic\", eval_metric='auc', use_label_encoder=False)\n",
    "boost.fit(X_train.values, y_train.values)\n",
    "\n",
    "print(\"Prédiction: \", boost.predict([une_personne]))\n",
    "\n",
    "print(\"Scores cross-validation: \", cross_val_score(boost, X_train.values, y_train.values, cv=3, scoring=\"accuracy\"))\n",
    "boost_pred = cross_val_predict(boost, X_train.values, y_train.values, cv=3)\n",
    "print(\"Matrice de confusion: \\n\", confusion_matrix(y_train.values, boost_pred))\n",
    "\n",
    "print(\"Précision du classifieur: \", precision_score(y_train.values, boost_pred))\n",
    "print(\"Recall du classifieur: \", recall_score(y_train.values, boost_pred))\n",
    "print(\"F1-score (précision et recall proches): \", f1_score(y_train.values, boost_pred))\n",
    "\n",
    "boost_scores = cross_val_predict(boost, X_train.values, boost_pred, cv=3, method=\"predict_proba\")\n",
    "boost_good_scores = boost_scores[:, 1]\n",
    "precisions, recalls, thresholds_pr = precision_recall_curve(y_train.values, boost_good_scores)\n",
    "\n",
    "fpr, tpr, thresholds_ftpr = roc_curve(y_train.values, boost_good_scores)\n",
    "\n",
    "# Regarder le graphe precision, recall vs threshold\n",
    "plt.figure(figsize=(8, 4))\n",
    "plot_precision_recall_vs_threshold(precisions, recalls, thresholds_pr)\n",
    "plt.xlim([0, 1])\n",
    "plt.show()\n",
    "\n",
    "# Regarder le graphe precision vs recall\n",
    "plt.figure(figsize=(8, 6))\n",
    "plot_precision_vs_recall(precisions, recalls)\n",
    "plt.show()\n",
    "\n",
    "# Regarder le graphe ROC\n",
    "plt.figure(figsize=(8, 6))\n",
    "plot_roc_curve(fpr, tpr)\n",
    "plt.show()\n",
    "print(\"Aire sous la courbe ROC: \", roc_auc_score(y_train.values, boost_good_scores))"
   ]
  },
  {
   "cell_type": "markdown",
   "metadata": {
    "cell_id": "918e6d87-df5e-45c3-8c92-56084bb107d6",
    "deepnote_cell_height": 262.20001220703125,
    "deepnote_cell_type": "markdown",
    "tags": []
   },
   "source": [
    "Après test des différents algorithmes de classification, nous avons constaté les résultats suivants :\n",
    "\n",
    "Les résultats ci-dessous sont basés sur leur F1-score.\n",
    "\n",
    "- XGBoost : 0.87\n",
    "- Random Forest : 0.84\n",
    "- SGD : 0.23\n",
    "- SVC : 0.09\n",
    "\n",
    "Après analyse de nos résultats, nous constatons que XGBoost est le plus adapté pour résoudre notre problèmatique car son F1-score est très bon : 0.87 (precision/recall proches autour de 88%). Le random forest arrive juste derrière avec un F1-score de 0.84 (precision/recall proches autour de 84%)."
   ]
  },
  {
   "cell_type": "markdown",
   "metadata": {
    "cell_id": "65447431-676f-4f64-9a09-c0ef939582b9",
    "deepnote_cell_height": 70,
    "deepnote_cell_type": "text-cell-h2",
    "is_collapsed": false,
    "tags": []
   },
   "source": [
    "## 6. Choix et amélioration du modèle"
   ]
  },
  {
   "cell_type": "markdown",
   "metadata": {
    "cell_id": "b41b2a0a-53b9-474c-911b-009c301d3820",
    "deepnote_cell_height": 74.80000305175781,
    "deepnote_cell_type": "markdown",
    "tags": []
   },
   "source": [
    "Nous avons donc gardé XGBoost en tant que modèle. Nous devons donc trouver les paramètres optimaux pour ce modèle. Nous pourrons ensuite le réentraîner avec les paramètres modifiés pour ensuite l'exporter pour un usage prochain."
   ]
  },
  {
   "cell_type": "markdown",
   "metadata": {
    "cell_id": "c3249b62-7d2a-4afa-bc10-7471ee333431",
    "deepnote_cell_height": 62,
    "deepnote_cell_type": "text-cell-h3",
    "is_collapsed": false,
    "tags": []
   },
   "source": [
    "### 6.1 Optimisation des hyperparamètres"
   ]
  },
  {
   "cell_type": "markdown",
   "metadata": {
    "cell_id": "3e617e6a-ce51-4b46-89a2-a799e66d1e3e",
    "deepnote_cell_height": 90.39999389648438,
    "deepnote_cell_type": "markdown",
    "tags": []
   },
   "source": [
    "Ici, on va essayer d'optimiser les hyperparamètres de notre algo pour retourner de meilleurs résultats.\n",
    "Pour ça, on va utiliser tester deux algorithmes: RandomizedSearch et GridSearch.\n",
    "\n",
    "#### RandomizedSearch"
   ]
  },
  {
   "cell_type": "code",
   "execution_count": null,
   "metadata": {
    "cell_id": "ee2598ed-d716-4de6-afdd-e210815d76c9",
    "deepnote_cell_height": 813,
    "deepnote_cell_type": "code",
    "deepnote_output_heights": [
     482
    ],
    "deepnote_to_be_reexecuted": false,
    "execution_millis": 281364,
    "execution_start": 1647460648065,
    "source_hash": "dc5cc118",
    "tags": []
   },
   "outputs": [
    {
     "data": {
      "text/plain": [
       "RandomizedSearchCV(cv=5,\n",
       "                   estimator=XGBClassifier(base_score=None, booster=None,\n",
       "                                           colsample_bylevel=None,\n",
       "                                           colsample_bynode=None,\n",
       "                                           colsample_bytree=None,\n",
       "                                           enable_categorical=False, gamma=None,\n",
       "                                           gpu_id=None, importance_type=None,\n",
       "                                           interaction_constraints=None,\n",
       "                                           learning_rate=None,\n",
       "                                           max_delta_step=None, max_depth=None,\n",
       "                                           min_child_weight=None, missing=nan,\n",
       "                                           monotone_constraints...\n",
       "                                           objective='reg:logistic',\n",
       "                                           predictor=None, random_state=42,\n",
       "                                           reg_alpha=None, reg_lambda=None,\n",
       "                                           scale_pos_weight=None,\n",
       "                                           subsample=None, tree_method=None,\n",
       "                                           use_label_encoder=False,\n",
       "                                           validate_parameters=None,\n",
       "                                           verbosity=None),\n",
       "                   param_distributions={'colsample_bytree': [0.6, 0.8, 1.0],\n",
       "                                        'gamma': [0.5, 1, 1.5, 2, 5],\n",
       "                                        'max_depth': [3, 4, 5],\n",
       "                                        'min_child_weight': [1, 5, 10],\n",
       "                                        'subsample': [0.6, 0.8, 1.0]})"
      ]
     },
     "execution_count": 19,
     "metadata": {},
     "output_type": "execute_result"
    }
   ],
   "source": [
    "from sklearn.model_selection import RandomizedSearchCV\n",
    "\n",
    "params = {\n",
    "        'min_child_weight': [1, 5, 10],\n",
    "        'gamma': [0.5, 1, 1.5, 2, 5],\n",
    "        'subsample': [0.6, 0.8, 1.0],\n",
    "        'colsample_bytree': [0.6, 0.8, 1.0],\n",
    "        'max_depth': [3, 4, 5]\n",
    "}\n",
    "\n",
    "xgb_random_test = xgb.XGBClassifier(random_state=42, objective=\"reg:logistic\", use_label_encoder=False)\n",
    "\n",
    "random_search = RandomizedSearchCV(xgb_random_test, params, cv=5)\n",
    "random_search.fit(X_train, y_train)"
   ]
  },
  {
   "cell_type": "code",
   "execution_count": null,
   "metadata": {
    "cell_id": "fa27201a-16c2-46a3-9ef9-77c5af71861d",
    "deepnote_cell_height": 195,
    "deepnote_cell_type": "code",
    "deepnote_output_heights": [
     98
    ],
    "deepnote_to_be_reexecuted": false,
    "execution_millis": 11,
    "execution_start": 1647460929428,
    "source_hash": "5db60cc0",
    "tags": []
   },
   "outputs": [
    {
     "data": {
      "text/plain": [
       "{'subsample': 0.8,\n",
       " 'min_child_weight': 1,\n",
       " 'max_depth': 5,\n",
       " 'gamma': 1,\n",
       " 'colsample_bytree': 0.8}"
      ]
     },
     "execution_count": 20,
     "metadata": {},
     "output_type": "execute_result"
    }
   ],
   "source": [
    "random_search.best_params_"
   ]
  },
  {
   "cell_type": "code",
   "execution_count": null,
   "metadata": {
    "cell_id": "70b06e24-1be5-4ea9-b7ba-0a5efdc15e0a",
    "deepnote_cell_height": 310,
    "deepnote_cell_type": "code",
    "deepnote_output_heights": [
     213
    ],
    "deepnote_to_be_reexecuted": false,
    "execution_millis": 27,
    "execution_start": 1647460929438,
    "source_hash": "93153609",
    "tags": []
   },
   "outputs": [
    {
     "data": {
      "text/plain": [
       "XGBClassifier(base_score=0.5, booster='gbtree', colsample_bylevel=1,\n",
       "              colsample_bynode=1, colsample_bytree=0.8,\n",
       "              enable_categorical=False, gamma=1, gpu_id=-1,\n",
       "              importance_type=None, interaction_constraints='',\n",
       "              learning_rate=0.300000012, max_delta_step=0, max_depth=5,\n",
       "              min_child_weight=1, missing=nan, monotone_constraints='()',\n",
       "              n_estimators=100, n_jobs=2, num_parallel_tree=1,\n",
       "              objective='reg:logistic', predictor='auto', random_state=42,\n",
       "              reg_alpha=0, reg_lambda=1, scale_pos_weight=1, subsample=0.8,\n",
       "              tree_method='exact', use_label_encoder=False,\n",
       "              validate_parameters=1, verbosity=None)"
      ]
     },
     "execution_count": 21,
     "metadata": {},
     "output_type": "execute_result"
    }
   ],
   "source": [
    "random_search.best_estimator_"
   ]
  },
  {
   "cell_type": "code",
   "execution_count": null,
   "metadata": {
    "cell_id": "ac180ea0-43ad-4128-b167-a835841b13c1",
    "deepnote_cell_height": 330,
    "deepnote_cell_type": "code",
    "deepnote_to_be_reexecuted": false,
    "execution_millis": 37,
    "execution_start": 1647460929473,
    "source_hash": "96db5504",
    "tags": []
   },
   "outputs": [
    {
     "name": "stdout",
     "output_type": "stream",
     "text": [
      "0.9121306732565848 {'subsample': 1.0, 'min_child_weight': 5, 'max_depth': 3, 'gamma': 1, 'colsample_bytree': 1.0}\n",
      "0.9713708235388665 {'subsample': 0.8, 'min_child_weight': 1, 'max_depth': 5, 'gamma': 1, 'colsample_bytree': 0.8}\n",
      "0.9543668253872581 {'subsample': 1.0, 'min_child_weight': 1, 'max_depth': 5, 'gamma': 2, 'colsample_bytree': 0.6}\n",
      "0.8843565788680611 {'subsample': 1.0, 'min_child_weight': 10, 'max_depth': 3, 'gamma': 2, 'colsample_bytree': 1.0}\n",
      "0.9248837723263618 {'subsample': 0.8, 'min_child_weight': 10, 'max_depth': 4, 'gamma': 1.5, 'colsample_bytree': 1.0}\n",
      "0.9050481184577984 {'subsample': 0.8, 'min_child_weight': 5, 'max_depth': 4, 'gamma': 5, 'colsample_bytree': 0.8}\n",
      "0.9586173226448074 {'subsample': 1.0, 'min_child_weight': 5, 'max_depth': 5, 'gamma': 1, 'colsample_bytree': 0.8}\n",
      "0.9501119080626041 {'subsample': 1.0, 'min_child_weight': 1, 'max_depth': 4, 'gamma': 1.5, 'colsample_bytree': 0.8}\n",
      "0.8917268398529323 {'subsample': 0.6, 'min_child_weight': 10, 'max_depth': 3, 'gamma': 1.5, 'colsample_bytree': 0.8}\n",
      "0.8925766982098727 {'subsample': 1.0, 'min_child_weight': 10, 'max_depth': 4, 'gamma': 5, 'colsample_bytree': 0.6}\n"
     ]
    }
   ],
   "source": [
    "cv_res = random_search.cv_results_\n",
    "for mean_score, params in zip(cv_res['mean_test_score'], cv_res['params']):\n",
    "    print(mean_score, params)"
   ]
  },
  {
   "cell_type": "markdown",
   "metadata": {
    "cell_id": "c8148fd7-1a83-4f52-986f-4b5b7be132d8",
    "deepnote_cell_height": 54,
    "deepnote_cell_type": "markdown",
    "tags": []
   },
   "source": [
    "#### GridSearch"
   ]
  },
  {
   "cell_type": "code",
   "execution_count": null,
   "metadata": {
    "cell_id": "273aae9b-5fb1-44d8-9f37-8abb318d5a8d",
    "deepnote_cell_height": 736,
    "deepnote_cell_type": "code",
    "deepnote_output_heights": [
     405
    ],
    "deepnote_to_be_reexecuted": false,
    "execution_millis": 11183804,
    "execution_start": 1647460929511,
    "source_hash": "f9e9dc4b",
    "tags": []
   },
   "outputs": [
    {
     "data": {
      "text/plain": [
       "GridSearchCV(cv=5,\n",
       "             estimator=XGBClassifier(base_score=None, booster=None,\n",
       "                                     colsample_bylevel=None,\n",
       "                                     colsample_bynode=None,\n",
       "                                     colsample_bytree=None,\n",
       "                                     enable_categorical=False, gamma=None,\n",
       "                                     gpu_id=None, importance_type=None,\n",
       "                                     interaction_constraints=None,\n",
       "                                     learning_rate=None, max_delta_step=None,\n",
       "                                     max_depth=None, min_child_weight=None,\n",
       "                                     missing=nan, monotone_constraints=None,...\n",
       "                                     objective='reg:logistic', predictor=None,\n",
       "                                     random_state=42, reg_alpha=None,\n",
       "                                     reg_lambda=None, scale_pos_weight=None,\n",
       "                                     subsample=None, tree_method=None,\n",
       "                                     use_label_encoder=False,\n",
       "                                     validate_parameters=None, verbosity=None),\n",
       "             param_grid={'colsample_bytree': [0.6, 0.8, 1.0],\n",
       "                         'gamma': [0.5, 1, 1.5, 2, 5], 'max_depth': [3, 4, 5],\n",
       "                         'min_child_weight': [1, 5, 10],\n",
       "                         'subsample': [0.6, 0.8, 1.0]})"
      ]
     },
     "execution_count": 23,
     "metadata": {},
     "output_type": "execute_result"
    }
   ],
   "source": [
    "from sklearn.model_selection import GridSearchCV\n",
    "\n",
    "params = {\n",
    "        'min_child_weight': [1, 5, 10],\n",
    "        'gamma': [0.5, 1, 1.5, 2, 5],\n",
    "        'subsample': [0.6, 0.8, 1.0],\n",
    "        'colsample_bytree': [0.6, 0.8, 1.0],\n",
    "        'max_depth': [3, 4, 5]\n",
    "}\n",
    "\n",
    "xgb_grid_test = xgb.XGBClassifier(random_state=42, objective=\"reg:logistic\", use_label_encoder=False)\n",
    "\n",
    "grid_search = GridSearchCV(xgb_grid_test, params, cv=5)\n",
    "grid_search.fit(X_train, y_train)"
   ]
  },
  {
   "cell_type": "code",
   "execution_count": null,
   "metadata": {
    "cell_id": "acc498da-9d68-41ea-85a0-e643bae928c4",
    "deepnote_cell_height": 195,
    "deepnote_cell_type": "code",
    "deepnote_output_heights": [
     98
    ],
    "deepnote_to_be_reexecuted": false,
    "execution_millis": 2,
    "execution_start": 1647472113313,
    "source_hash": "d361b2d7",
    "tags": []
   },
   "outputs": [
    {
     "data": {
      "text/plain": [
       "{'colsample_bytree': 1.0,\n",
       " 'gamma': 0.5,\n",
       " 'max_depth': 5,\n",
       " 'min_child_weight': 1,\n",
       " 'subsample': 0.6}"
      ]
     },
     "execution_count": 24,
     "metadata": {},
     "output_type": "execute_result"
    }
   ],
   "source": [
    "grid_search.best_params_"
   ]
  },
  {
   "cell_type": "code",
   "execution_count": null,
   "metadata": {
    "cell_id": "4d229369-f665-4fc3-8676-7d56e2a6696b",
    "deepnote_cell_height": 310,
    "deepnote_cell_type": "code",
    "deepnote_output_heights": [
     213
    ],
    "deepnote_to_be_reexecuted": false,
    "execution_millis": 10,
    "execution_start": 1647472113313,
    "source_hash": "f753b60c",
    "tags": []
   },
   "outputs": [
    {
     "data": {
      "text/plain": [
       "XGBClassifier(base_score=0.5, booster='gbtree', colsample_bylevel=1,\n",
       "              colsample_bynode=1, colsample_bytree=1.0,\n",
       "              enable_categorical=False, gamma=0.5, gpu_id=-1,\n",
       "              importance_type=None, interaction_constraints='',\n",
       "              learning_rate=0.300000012, max_delta_step=0, max_depth=5,\n",
       "              min_child_weight=1, missing=nan, monotone_constraints='()',\n",
       "              n_estimators=100, n_jobs=2, num_parallel_tree=1,\n",
       "              objective='reg:logistic', predictor='auto', random_state=42,\n",
       "              reg_alpha=0, reg_lambda=1, scale_pos_weight=1, subsample=0.6,\n",
       "              tree_method='exact', use_label_encoder=False,\n",
       "              validate_parameters=1, verbosity=None)"
      ]
     },
     "execution_count": 25,
     "metadata": {},
     "output_type": "execute_result"
    }
   ],
   "source": [
    "grid_search.best_estimator_"
   ]
  },
  {
   "cell_type": "code",
   "execution_count": null,
   "metadata": {
    "cell_id": "61258d6c-bc1c-4c6a-97b8-4c71e32c63b8",
    "deepnote_cell_height": 737,
    "deepnote_cell_type": "code",
    "deepnote_to_be_reexecuted": false,
    "execution_millis": 68,
    "execution_start": 1647472113342,
    "source_hash": "dc424545",
    "tags": []
   },
   "outputs": [
    {
     "name": "stdout",
     "output_type": "stream",
     "text": [
      "0.9197838185361542 {'colsample_bytree': 0.6, 'gamma': 0.5, 'max_depth': 3, 'min_child_weight': 1, 'subsample': 0.6}\n",
      "0.9197838185361542 {'colsample_bytree': 0.6, 'gamma': 0.5, 'max_depth': 3, 'min_child_weight': 1, 'subsample': 0.8}\n",
      "0.9186518795330801 {'colsample_bytree': 0.6, 'gamma': 0.5, 'max_depth': 3, 'min_child_weight': 1, 'subsample': 1.0}\n",
      "0.9022108372008921 {'colsample_bytree': 0.6, 'gamma': 0.5, 'max_depth': 3, 'min_child_weight': 5, 'subsample': 0.6}\n",
      "0.9118506017318626 {'colsample_bytree': 0.6, 'gamma': 0.5, 'max_depth': 3, 'min_child_weight': 5, 'subsample': 0.8}\n",
      "0.9087296325316938 {'colsample_bytree': 0.6, 'gamma': 0.5, 'max_depth': 3, 'min_child_weight': 5, 'subsample': 1.0}\n",
      "0.8900243103690755 {'colsample_bytree': 0.6, 'gamma': 0.5, 'max_depth': 3, 'min_child_weight': 10, 'subsample': 0.6}\n",
      "0.8962630341751552 {'colsample_bytree': 0.6, 'gamma': 0.5, 'max_depth': 3, 'min_child_weight': 10, 'subsample': 0.8}\n",
      "0.8973949731782291 {'colsample_bytree': 0.6, 'gamma': 0.5, 'max_depth': 3, 'min_child_weight': 10, 'subsample': 1.0}\n",
      "0.9532288590199507 {'colsample_bytree': 0.6, 'gamma': 0.5, 'max_depth': 4, 'min_child_weight': 1, 'subsample': 0.6}\n",
      "0.9532248407771282 {'colsample_bytree': 0.6, 'gamma': 0.5, 'max_depth': 4, 'min_child_weight': 1, 'subsample': 0.8}\n",
      "0.9557836578064413 {'colsample_bytree': 0.6, 'gamma': 0.5, 'max_depth': 4, 'min_child_weight': 1, 'subsample': 1.0}\n",
      "0.9288525907620597 {'colsample_bytree': 0.6, 'gamma': 0.5, 'max_depth': 4, 'min_child_weight': 5, 'subsample': 0.6}\n",
      "0.9399091877122135 {'colsample_bytree': 0.6, 'gamma': 0.5, 'max_depth': 4, 'min_child_weight': 5, 'subsample': 0.8}\n",
      "0.9393418118256885 {'colsample_bytree': 0.6, 'gamma': 0.5, 'max_depth': 4, 'min_child_weight': 5, 'subsample': 1.0}\n",
      "0.9075940771100797 {'colsample_bytree': 0.6, 'gamma': 0.5, 'max_depth': 4, 'min_child_weight': 10, 'subsample': 0.6}\n",
      "0.9161031081108231 {'colsample_bytree': 0.6, 'gamma': 0.5, 'max_depth': 4, 'min_child_weight': 10, 'subsample': 0.8}\n",
      "0.9217724469089668 {'colsample_bytree': 0.6, 'gamma': 0.5, 'max_depth': 4, 'min_child_weight': 10, 'subsample': 1.0}\n",
      "0.9708054567737527 {'colsample_bytree': 0.6, 'gamma': 0.5, 'max_depth': 5, 'min_child_weight': 1, 'subsample': 0.6}\n",
      "0.9708042513009062 {'colsample_bytree': 0.6, 'gamma': 0.5, 'max_depth': 5, 'min_child_weight': 1, 'subsample': 0.8}\n",
      "0.9699527856468366 {'colsample_bytree': 0.6, 'gamma': 0.5, 'max_depth': 5, 'min_child_weight': 1, 'subsample': 1.0}\n",
      "0.9464307958129909 {'colsample_bytree': 0.6, 'gamma': 0.5, 'max_depth': 5, 'min_child_weight': 5, 'subsample': 0.6}\n",
      "0.9537962349064755 {'colsample_bytree': 0.6, 'gamma': 0.5, 'max_depth': 5, 'min_child_weight': 5, 'subsample': 0.8}\n",
      "0.9608840134209309 {'colsample_bytree': 0.6, 'gamma': 0.5, 'max_depth': 5, 'min_child_weight': 5, 'subsample': 1.0}\n",
      "0.9126984509673921 {'colsample_bytree': 0.6, 'gamma': 0.5, 'max_depth': 5, 'min_child_weight': 10, 'subsample': 0.6}\n",
      "0.9342410543869166 {'colsample_bytree': 0.6, 'gamma': 0.5, 'max_depth': 5, 'min_child_weight': 10, 'subsample': 0.8}\n",
      "0.9458626162779016 {'colsample_bytree': 0.6, 'gamma': 0.5, 'max_depth': 5, 'min_child_weight': 10, 'subsample': 1.0}\n",
      "0.9127000582645209 {'colsample_bytree': 0.6, 'gamma': 1, 'max_depth': 3, 'min_child_weight': 1, 'subsample': 0.6}\n",
      "0.925170674863882 {'colsample_bytree': 0.6, 'gamma': 1, 'max_depth': 3, 'min_child_weight': 1, 'subsample': 0.8}\n",
      "0.9231844574367628 {'colsample_bytree': 0.6, 'gamma': 1, 'max_depth': 3, 'min_child_weight': 1, 'subsample': 1.0}\n",
      "0.9027762039660058 {'colsample_bytree': 0.6, 'gamma': 1, 'max_depth': 3, 'min_child_weight': 5, 'subsample': 0.6}\n",
      "0.9027762039660056 {'colsample_bytree': 0.6, 'gamma': 1, 'max_depth': 3, 'min_child_weight': 5, 'subsample': 0.8}\n",
      "0.9081634621180159 {'colsample_bytree': 0.6, 'gamma': 1, 'max_depth': 3, 'min_child_weight': 5, 'subsample': 1.0}\n",
      "0.887471118879714 {'colsample_bytree': 0.6, 'gamma': 1, 'max_depth': 3, 'min_child_weight': 10, 'subsample': 0.6}\n",
      "0.8971116870592489 {'colsample_bytree': 0.6, 'gamma': 1, 'max_depth': 3, 'min_child_weight': 10, 'subsample': 0.8}\n",
      "0.8979619472404717 {'colsample_bytree': 0.6, 'gamma': 1, 'max_depth': 3, 'min_child_weight': 10, 'subsample': 1.0}\n",
      "0.9526671086733772 {'colsample_bytree': 0.6, 'gamma': 1, 'max_depth': 4, 'min_child_weight': 1, 'subsample': 0.6}\n",
      "0.9501115062383221 {'colsample_bytree': 0.6, 'gamma': 1, 'max_depth': 4, 'min_child_weight': 1, 'subsample': 0.8}\n",
      "0.9503980069515603 {'colsample_bytree': 0.6, 'gamma': 1, 'max_depth': 4, 'min_child_weight': 1, 'subsample': 1.0}\n",
      "0.926583890864525 {'colsample_bytree': 0.6, 'gamma': 1, 'max_depth': 4, 'min_child_weight': 5, 'subsample': 0.6}\n",
      "0.9339597773893477 {'colsample_bytree': 0.6, 'gamma': 1, 'max_depth': 4, 'min_child_weight': 5, 'subsample': 0.8}\n",
      "0.9350909127438571 {'colsample_bytree': 0.6, 'gamma': 1, 'max_depth': 4, 'min_child_weight': 5, 'subsample': 1.0}\n",
      "0.9056106724529365 {'colsample_bytree': 0.6, 'gamma': 1, 'max_depth': 4, 'min_child_weight': 10, 'subsample': 0.6}\n",
      "0.9166704839973481 {'colsample_bytree': 0.6, 'gamma': 1, 'max_depth': 4, 'min_child_weight': 10, 'subsample': 0.8}\n",
      "0.9229039840877584 {'colsample_bytree': 0.6, 'gamma': 1, 'max_depth': 4, 'min_child_weight': 10, 'subsample': 1.0}\n",
      "0.9648528318566291 {'colsample_bytree': 0.6, 'gamma': 1, 'max_depth': 5, 'min_child_weight': 1, 'subsample': 0.6}\n",
      "0.9699527856468364 {'colsample_bytree': 0.6, 'gamma': 1, 'max_depth': 5, 'min_child_weight': 1, 'subsample': 0.8}\n",
      "0.96655254857051 {'colsample_bytree': 0.6, 'gamma': 1, 'max_depth': 5, 'min_child_weight': 1, 'subsample': 1.0}\n",
      "0.946144696924035 {'colsample_bytree': 0.6, 'gamma': 1, 'max_depth': 5, 'min_child_weight': 5, 'subsample': 0.6}\n",
      "0.9569159986337974 {'colsample_bytree': 0.6, 'gamma': 1, 'max_depth': 5, 'min_child_weight': 5, 'subsample': 0.8}\n",
      "0.9572008920499065 {'colsample_bytree': 0.6, 'gamma': 1, 'max_depth': 5, 'min_child_weight': 5, 'subsample': 1.0}\n",
      "0.9135515239185903 {'colsample_bytree': 0.6, 'gamma': 1, 'max_depth': 5, 'min_child_weight': 10, 'subsample': 0.6}\n",
      "0.9311261125509814 {'colsample_bytree': 0.6, 'gamma': 1, 'max_depth': 5, 'min_child_weight': 10, 'subsample': 0.8}\n",
      "0.939908384063649 {'colsample_bytree': 0.6, 'gamma': 1, 'max_depth': 5, 'min_child_weight': 10, 'subsample': 1.0}\n",
      "0.9186478612902578 {'colsample_bytree': 0.6, 'gamma': 1.5, 'max_depth': 3, 'min_child_weight': 1, 'subsample': 0.6}\n",
      "0.919783818536154 {'colsample_bytree': 0.6, 'gamma': 1.5, 'max_depth': 3, 'min_child_weight': 1, 'subsample': 0.8}\n",
      "0.9141160870351396 {'colsample_bytree': 0.6, 'gamma': 1.5, 'max_depth': 3, 'min_child_weight': 1, 'subsample': 1.0}\n",
      "0.8990914752978523 {'colsample_bytree': 0.6, 'gamma': 1.5, 'max_depth': 3, 'min_child_weight': 5, 'subsample': 0.6}\n",
      "0.904761215920278 {'colsample_bytree': 0.6, 'gamma': 1.5, 'max_depth': 3, 'min_child_weight': 5, 'subsample': 0.8}\n",
      "0.90391537580616 {'colsample_bytree': 0.6, 'gamma': 1.5, 'max_depth': 3, 'min_child_weight': 5, 'subsample': 1.0}\n",
      "0.890309605609467 {'colsample_bytree': 0.6, 'gamma': 1.5, 'max_depth': 3, 'min_child_weight': 10, 'subsample': 0.6}\n",
      "0.8951262732806944 {'colsample_bytree': 0.6, 'gamma': 1.5, 'max_depth': 3, 'min_child_weight': 10, 'subsample': 0.8}\n",
      "0.8962598195808973 {'colsample_bytree': 0.6, 'gamma': 1.5, 'max_depth': 3, 'min_child_weight': 10, 'subsample': 1.0}\n",
      "0.9481272979326141 {'colsample_bytree': 0.6, 'gamma': 1.5, 'max_depth': 4, 'min_child_weight': 1, 'subsample': 0.6}\n",
      "0.9484089767544652 {'colsample_bytree': 0.6, 'gamma': 1.5, 'max_depth': 4, 'min_child_weight': 1, 'subsample': 0.8}\n",
      "0.9413276274285256 {'colsample_bytree': 0.6, 'gamma': 1.5, 'max_depth': 4, 'min_child_weight': 1, 'subsample': 1.0}\n",
      "0.9280031342294015 {'colsample_bytree': 0.6, 'gamma': 1.5, 'max_depth': 4, 'min_child_weight': 5, 'subsample': 0.6}\n",
      "0.9316906756675305 {'colsample_bytree': 0.6, 'gamma': 1.5, 'max_depth': 4, 'min_child_weight': 5, 'subsample': 0.8}\n",
      "0.9291411005967092 {'colsample_bytree': 0.6, 'gamma': 1.5, 'max_depth': 4, 'min_child_weight': 5, 'subsample': 1.0}\n",
      "0.9084507664798185 {'colsample_bytree': 0.6, 'gamma': 1.5, 'max_depth': 4, 'min_child_weight': 10, 'subsample': 0.6}\n",
      "0.9158194201675608 {'colsample_bytree': 0.6, 'gamma': 1.5, 'max_depth': 4, 'min_child_weight': 10, 'subsample': 0.8}\n",
      "0.9175223514756997 {'colsample_bytree': 0.6, 'gamma': 1.5, 'max_depth': 4, 'min_child_weight': 10, 'subsample': 1.0}\n",
      "0.9537950294336287 {'colsample_bytree': 0.6, 'gamma': 1.5, 'max_depth': 5, 'min_child_weight': 1, 'subsample': 0.6}\n",
      "0.9555011753360256 {'colsample_bytree': 0.6, 'gamma': 1.5, 'max_depth': 5, 'min_child_weight': 1, 'subsample': 0.8}\n",
      "0.9597528780664216 {'colsample_bytree': 0.6, 'gamma': 1.5, 'max_depth': 5, 'min_child_weight': 1, 'subsample': 1.0}\n",
      "0.9379225684608121 {'colsample_bytree': 0.6, 'gamma': 1.5, 'max_depth': 5, 'min_child_weight': 5, 'subsample': 0.6}\n",
      "0.9441604886183272 {'colsample_bytree': 0.6, 'gamma': 1.5, 'max_depth': 5, 'min_child_weight': 5, 'subsample': 0.8}\n",
      "0.950680891246258 {'colsample_bytree': 0.6, 'gamma': 1.5, 'max_depth': 5, 'min_child_weight': 5, 'subsample': 1.0}\n",
      "0.9192180499467583 {'colsample_bytree': 0.6, 'gamma': 1.5, 'max_depth': 5, 'min_child_weight': 10, 'subsample': 0.6}\n",
      "0.9345227332087678 {'colsample_bytree': 0.6, 'gamma': 1.5, 'max_depth': 5, 'min_child_weight': 10, 'subsample': 0.8}\n",
      "0.9373584071685451 {'colsample_bytree': 0.6, 'gamma': 1.5, 'max_depth': 5, 'min_child_weight': 10, 'subsample': 1.0}\n",
      "0.9110007433749221 {'colsample_bytree': 0.6, 'gamma': 2, 'max_depth': 3, 'min_child_weight': 1, 'subsample': 0.6}\n",
      "0.918934362003496 {'colsample_bytree': 0.6, 'gamma': 2, 'max_depth': 3, 'min_child_weight': 1, 'subsample': 0.8}\n",
      "0.910432563839833 {'colsample_bytree': 0.6, 'gamma': 2, 'max_depth': 3, 'min_child_weight': 1, 'subsample': 1.0}\n",
      "0.8982396078195004 {'colsample_bytree': 0.6, 'gamma': 2, 'max_depth': 3, 'min_child_weight': 5, 'subsample': 0.6}\n",
      "0.902495328792719 {'colsample_bytree': 0.6, 'gamma': 2, 'max_depth': 3, 'min_child_weight': 5, 'subsample': 0.8}\n",
      "0.9058979768147388 {'colsample_bytree': 0.6, 'gamma': 2, 'max_depth': 3, 'min_child_weight': 5, 'subsample': 1.0}\n",
      "0.8897422297229423 {'colsample_bytree': 0.6, 'gamma': 2, 'max_depth': 3, 'min_child_weight': 10, 'subsample': 0.6}\n",
      "0.8942780222208828 {'colsample_bytree': 0.6, 'gamma': 2, 'max_depth': 3, 'min_child_weight': 10, 'subsample': 0.8}\n",
      "0.8965439093484419 {'colsample_bytree': 0.6, 'gamma': 2, 'max_depth': 3, 'min_child_weight': 10, 'subsample': 1.0}\n",
      "0.9370751210495649 {'colsample_bytree': 0.6, 'gamma': 2, 'max_depth': 4, 'min_child_weight': 1, 'subsample': 0.6}\n",
      "0.9393418118256885 {'colsample_bytree': 0.6, 'gamma': 2, 'max_depth': 4, 'min_child_weight': 1, 'subsample': 0.8}\n",
      "0.936508950635887 {'colsample_bytree': 0.6, 'gamma': 2, 'max_depth': 4, 'min_child_weight': 1, 'subsample': 1.0}\n",
      "0.924604504450204 {'colsample_bytree': 0.6, 'gamma': 2, 'max_depth': 4, 'min_child_weight': 5, 'subsample': 0.6}\n",
      "0.9302726377755007 {'colsample_bytree': 0.6, 'gamma': 2, 'max_depth': 4, 'min_child_weight': 5, 'subsample': 0.8}\n",
      "0.9339577682679364 {'colsample_bytree': 0.6, 'gamma': 2, 'max_depth': 4, 'min_child_weight': 5, 'subsample': 1.0}\n",
      "0.9033455889739418 {'colsample_bytree': 0.6, 'gamma': 2, 'max_depth': 4, 'min_child_weight': 10, 'subsample': 0.6}\n",
      "0.9095827054828923 {'colsample_bytree': 0.6, 'gamma': 2, 'max_depth': 4, 'min_child_weight': 10, 'subsample': 0.8}\n",
      "0.9138332027404417 {'colsample_bytree': 0.6, 'gamma': 2, 'max_depth': 4, 'min_child_weight': 10, 'subsample': 1.0}\n",
      "0.9478472264078919 {'colsample_bytree': 0.6, 'gamma': 2, 'max_depth': 5, 'min_child_weight': 1, 'subsample': 0.6}\n",
      "0.9523806079601389 {'colsample_bytree': 0.6, 'gamma': 2, 'max_depth': 5, 'min_child_weight': 1, 'subsample': 0.8}\n",
      "0.9543668253872581 {'colsample_bytree': 0.6, 'gamma': 2, 'max_depth': 5, 'min_child_weight': 1, 'subsample': 1.0}\n",
      "0.9345275551001547 {'colsample_bytree': 0.6, 'gamma': 2, 'max_depth': 5, 'min_child_weight': 5, 'subsample': 0.6}\n",
      "0.9379253812307878 {'colsample_bytree': 0.6, 'gamma': 2, 'max_depth': 5, 'min_child_weight': 5, 'subsample': 0.8}\n",
      "0.9424591646073172 {'colsample_bytree': 0.6, 'gamma': 2, 'max_depth': 5, 'min_child_weight': 5, 'subsample': 1.0}\n",
      "0.915250436983907 {'colsample_bytree': 0.6, 'gamma': 2, 'max_depth': 5, 'min_child_weight': 10, 'subsample': 0.6}\n",
      "0.9277194462861391 {'colsample_bytree': 0.6, 'gamma': 2, 'max_depth': 5, 'min_child_weight': 10, 'subsample': 0.8}\n",
      "0.9345259478030258 {'colsample_bytree': 0.6, 'gamma': 2, 'max_depth': 5, 'min_child_weight': 10, 'subsample': 1.0}\n",
      "0.8880433166576255 {'colsample_bytree': 0.6, 'gamma': 5, 'max_depth': 3, 'min_child_weight': 1, 'subsample': 0.6}\n",
      "0.894561308339863 {'colsample_bytree': 0.6, 'gamma': 5, 'max_depth': 3, 'min_child_weight': 1, 'subsample': 0.8}\n",
      "0.8883221827095011 {'colsample_bytree': 0.6, 'gamma': 5, 'max_depth': 3, 'min_child_weight': 1, 'subsample': 1.0}\n",
      "0.8860579028790709 {'colsample_bytree': 0.6, 'gamma': 5, 'max_depth': 3, 'min_child_weight': 5, 'subsample': 0.6}\n",
      "0.8854913306411106 {'colsample_bytree': 0.6, 'gamma': 5, 'max_depth': 3, 'min_child_weight': 5, 'subsample': 0.8}\n",
      "0.8832226307435758 {'colsample_bytree': 0.6, 'gamma': 5, 'max_depth': 3, 'min_child_weight': 5, 'subsample': 1.0}\n",
      "0.8755686818154421 {'colsample_bytree': 0.6, 'gamma': 5, 'max_depth': 3, 'min_child_weight': 10, 'subsample': 0.6}\n",
      "0.879537098426858 {'colsample_bytree': 0.6, 'gamma': 5, 'max_depth': 3, 'min_child_weight': 10, 'subsample': 0.8}\n",
      "0.8735848753340164 {'colsample_bytree': 0.6, 'gamma': 5, 'max_depth': 3, 'min_child_weight': 10, 'subsample': 1.0}\n",
      "0.906177646515179 {'colsample_bytree': 0.6, 'gamma': 5, 'max_depth': 4, 'min_child_weight': 1, 'subsample': 0.6}\n",
      "0.9061788519880256 {'colsample_bytree': 0.6, 'gamma': 5, 'max_depth': 4, 'min_child_weight': 1, 'subsample': 0.8}\n",
      "0.9030574809635746 {'colsample_bytree': 0.6, 'gamma': 5, 'max_depth': 4, 'min_child_weight': 1, 'subsample': 1.0}\n",
      "0.8931440740963976 {'colsample_bytree': 0.6, 'gamma': 5, 'max_depth': 4, 'min_child_weight': 5, 'subsample': 0.6}\n",
      "0.8988085910031544 {'colsample_bytree': 0.6, 'gamma': 5, 'max_depth': 4, 'min_child_weight': 5, 'subsample': 0.8}\n",
      "0.8971096779378378 {'colsample_bytree': 0.6, 'gamma': 5, 'max_depth': 4, 'min_child_weight': 5, 'subsample': 1.0}\n",
      "0.8820898880919374 {'colsample_bytree': 0.6, 'gamma': 5, 'max_depth': 4, 'min_child_weight': 10, 'subsample': 0.6}\n",
      "0.8877568159443875 {'colsample_bytree': 0.6, 'gamma': 5, 'max_depth': 4, 'min_child_weight': 10, 'subsample': 0.8}\n",
      "0.8925766982098727 {'colsample_bytree': 0.6, 'gamma': 5, 'max_depth': 4, 'min_child_weight': 10, 'subsample': 1.0}\n",
      "0.9158170092218674 {'colsample_bytree': 0.6, 'gamma': 5, 'max_depth': 5, 'min_child_weight': 1, 'subsample': 0.6}\n",
      "0.9161023044622587 {'colsample_bytree': 0.6, 'gamma': 5, 'max_depth': 5, 'min_child_weight': 1, 'subsample': 0.8}\n",
      "0.9132654250296346 {'colsample_bytree': 0.6, 'gamma': 5, 'max_depth': 5, 'min_child_weight': 1, 'subsample': 1.0}\n",
      "0.8988077873545898 {'colsample_bytree': 0.6, 'gamma': 5, 'max_depth': 5, 'min_child_weight': 5, 'subsample': 0.6}\n",
      "0.9101508850179816 {'colsample_bytree': 0.6, 'gamma': 5, 'max_depth': 5, 'min_child_weight': 5, 'subsample': 0.8}\n",
      "0.9138352118618528 {'colsample_bytree': 0.6, 'gamma': 5, 'max_depth': 5, 'min_child_weight': 5, 'subsample': 1.0}\n",
      "0.8900214975990999 {'colsample_bytree': 0.6, 'gamma': 5, 'max_depth': 5, 'min_child_weight': 10, 'subsample': 0.6}\n",
      "0.8965439093484419 {'colsample_bytree': 0.6, 'gamma': 5, 'max_depth': 5, 'min_child_weight': 10, 'subsample': 0.8}\n",
      "0.8988122074216944 {'colsample_bytree': 0.6, 'gamma': 5, 'max_depth': 5, 'min_child_weight': 10, 'subsample': 1.0}\n",
      "0.9197850240090009 {'colsample_bytree': 0.8, 'gamma': 0.5, 'max_depth': 3, 'min_child_weight': 1, 'subsample': 0.6}\n",
      "0.9195001305928917 {'colsample_bytree': 0.8, 'gamma': 0.5, 'max_depth': 3, 'min_child_weight': 1, 'subsample': 0.8}\n",
      "0.9194997287686094 {'colsample_bytree': 0.8, 'gamma': 0.5, 'max_depth': 3, 'min_child_weight': 1, 'subsample': 1.0}\n",
      "0.9005127277841399 {'colsample_bytree': 0.8, 'gamma': 0.5, 'max_depth': 3, 'min_child_weight': 5, 'subsample': 0.6}\n",
      "0.9070295139935307 {'colsample_bytree': 0.8, 'gamma': 0.5, 'max_depth': 3, 'min_child_weight': 5, 'subsample': 0.8}\n",
      "0.9135511220943082 {'colsample_bytree': 0.8, 'gamma': 0.5, 'max_depth': 3, 'min_child_weight': 5, 'subsample': 1.0}\n",
      "0.8897406224258132 {'colsample_bytree': 0.8, 'gamma': 0.5, 'max_depth': 3, 'min_child_weight': 10, 'subsample': 0.6}\n",
      "0.8988126092459767 {'colsample_bytree': 0.8, 'gamma': 0.5, 'max_depth': 3, 'min_child_weight': 10, 'subsample': 0.8}\n",
      "0.9064621381070058 {'colsample_bytree': 0.8, 'gamma': 0.5, 'max_depth': 3, 'min_child_weight': 10, 'subsample': 1.0}\n",
      "0.9617370863721295 {'colsample_bytree': 0.8, 'gamma': 0.5, 'max_depth': 4, 'min_child_weight': 1, 'subsample': 0.6}\n",
      "0.9623024531372432 {'colsample_bytree': 0.8, 'gamma': 0.5, 'max_depth': 4, 'min_child_weight': 1, 'subsample': 0.8}\n",
      "0.9637160709621682 {'colsample_bytree': 0.8, 'gamma': 0.5, 'max_depth': 4, 'min_child_weight': 1, 'subsample': 1.0}\n",
      "0.9319747654350753 {'colsample_bytree': 0.8, 'gamma': 0.5, 'max_depth': 4, 'min_child_weight': 5, 'subsample': 0.6}\n",
      "0.9469997789966447 {'colsample_bytree': 0.8, 'gamma': 0.5, 'max_depth': 4, 'min_child_weight': 5, 'subsample': 0.8}\n",
      "0.9450139633938079 {'colsample_bytree': 0.8, 'gamma': 0.5, 'max_depth': 4, 'min_child_weight': 5, 'subsample': 1.0}\n",
      "0.9144021859240954 {'colsample_bytree': 0.8, 'gamma': 0.5, 'max_depth': 4, 'min_child_weight': 10, 'subsample': 0.6}\n",
      "0.9268756152934321 {'colsample_bytree': 0.8, 'gamma': 0.5, 'max_depth': 4, 'min_child_weight': 10, 'subsample': 0.8}\n",
      "0.929706869186105 {'colsample_bytree': 0.8, 'gamma': 0.5, 'max_depth': 4, 'min_child_weight': 10, 'subsample': 1.0}\n",
      "0.9708050549494706 {'colsample_bytree': 0.8, 'gamma': 0.5, 'max_depth': 5, 'min_child_weight': 1, 'subsample': 0.6}\n",
      "0.9742052920257972 {'colsample_bytree': 0.8, 'gamma': 0.5, 'max_depth': 5, 'min_child_weight': 1, 'subsample': 0.8}\n",
      "0.9742056938500794 {'colsample_bytree': 0.8, 'gamma': 0.5, 'max_depth': 5, 'min_child_weight': 1, 'subsample': 1.0}\n",
      "0.9467120728105598 {'colsample_bytree': 0.8, 'gamma': 0.5, 'max_depth': 5, 'min_child_weight': 5, 'subsample': 0.6}\n",
      "0.9589010105880698 {'colsample_bytree': 0.8, 'gamma': 0.5, 'max_depth': 5, 'min_child_weight': 5, 'subsample': 0.8}\n",
      "0.9623008458401141 {'colsample_bytree': 0.8, 'gamma': 0.5, 'max_depth': 5, 'min_child_weight': 5, 'subsample': 1.0}\n",
      "0.9280067506479417 {'colsample_bytree': 0.8, 'gamma': 0.5, 'max_depth': 5, 'min_child_weight': 10, 'subsample': 0.6}\n",
      "0.9365081469873224 {'colsample_bytree': 0.8, 'gamma': 0.5, 'max_depth': 5, 'min_child_weight': 10, 'subsample': 0.8}\n",
      "0.9464299921644266 {'colsample_bytree': 0.8, 'gamma': 0.5, 'max_depth': 5, 'min_child_weight': 10, 'subsample': 1.0}\n",
      "0.9220577421493582 {'colsample_bytree': 0.8, 'gamma': 1, 'max_depth': 3, 'min_child_weight': 1, 'subsample': 0.6}\n",
      "0.925167460269624 {'colsample_bytree': 0.8, 'gamma': 1, 'max_depth': 3, 'min_child_weight': 1, 'subsample': 0.8}\n",
      "0.9234681453800253 {'colsample_bytree': 0.8, 'gamma': 1, 'max_depth': 3, 'min_child_weight': 1, 'subsample': 1.0}\n",
      "0.9078821851204468 {'colsample_bytree': 0.8, 'gamma': 1, 'max_depth': 3, 'min_child_weight': 5, 'subsample': 0.6}\n",
      "0.906745424225986 {'colsample_bytree': 0.8, 'gamma': 1, 'max_depth': 3, 'min_child_weight': 5, 'subsample': 0.8}\n",
      "0.916668876700219 {'colsample_bytree': 0.8, 'gamma': 1, 'max_depth': 3, 'min_child_weight': 5, 'subsample': 1.0}\n",
      "0.8951278805778233 {'colsample_bytree': 0.8, 'gamma': 1, 'max_depth': 3, 'min_child_weight': 10, 'subsample': 0.6}\n",
      "0.902495328792719 {'colsample_bytree': 0.8, 'gamma': 1, 'max_depth': 3, 'min_child_weight': 10, 'subsample': 0.8}\n",
      "0.9024937214955899 {'colsample_bytree': 0.8, 'gamma': 1, 'max_depth': 3, 'min_child_weight': 10, 'subsample': 1.0}\n",
      "0.9554951479717919 {'colsample_bytree': 0.8, 'gamma': 1, 'max_depth': 4, 'min_child_weight': 1, 'subsample': 0.6}\n",
      "0.9560641311554458 {'colsample_bytree': 0.8, 'gamma': 1, 'max_depth': 4, 'min_child_weight': 1, 'subsample': 0.8}\n",
      "0.954646495087698 {'colsample_bytree': 0.8, 'gamma': 1, 'max_depth': 4, 'min_child_weight': 1, 'subsample': 1.0}\n",
      "0.9350921182167038 {'colsample_bytree': 0.8, 'gamma': 1, 'max_depth': 4, 'min_child_weight': 5, 'subsample': 0.6}\n",
      "0.9464267775701686 {'colsample_bytree': 0.8, 'gamma': 1, 'max_depth': 4, 'min_child_weight': 5, 'subsample': 0.8}\n",
      "0.9399111968336247 {'colsample_bytree': 0.8, 'gamma': 1, 'max_depth': 4, 'min_child_weight': 5, 'subsample': 1.0}\n",
      "0.9121314769051494 {'colsample_bytree': 0.8, 'gamma': 1, 'max_depth': 4, 'min_child_weight': 10, 'subsample': 0.6}\n",
      "0.9234685472043076 {'colsample_bytree': 0.8, 'gamma': 1, 'max_depth': 4, 'min_child_weight': 10, 'subsample': 0.8}\n",
      "0.9288537962349064 {'colsample_bytree': 0.8, 'gamma': 1, 'max_depth': 4, 'min_child_weight': 10, 'subsample': 1.0}\n",
      "0.9640029734996884 {'colsample_bytree': 0.8, 'gamma': 1, 'max_depth': 5, 'min_child_weight': 1, 'subsample': 0.6}\n",
      "0.9713708235388665 {'colsample_bytree': 0.8, 'gamma': 1, 'max_depth': 5, 'min_child_weight': 1, 'subsample': 0.8}\n",
      "0.9674024069274505 {'colsample_bytree': 0.8, 'gamma': 1, 'max_depth': 5, 'min_child_weight': 1, 'subsample': 1.0}\n",
      "0.9498302292407532 {'colsample_bytree': 0.8, 'gamma': 1, 'max_depth': 5, 'min_child_weight': 5, 'subsample': 0.6}\n",
      "0.9566298997448415 {'colsample_bytree': 0.8, 'gamma': 1, 'max_depth': 5, 'min_child_weight': 5, 'subsample': 0.8}\n",
      "0.9586173226448074 {'colsample_bytree': 0.8, 'gamma': 1, 'max_depth': 5, 'min_child_weight': 5, 'subsample': 1.0}\n",
      "0.9223358045526691 {'colsample_bytree': 0.8, 'gamma': 1, 'max_depth': 5, 'min_child_weight': 10, 'subsample': 0.6}\n",
      "0.9336760894460852 {'colsample_bytree': 0.8, 'gamma': 1, 'max_depth': 5, 'min_child_weight': 10, 'subsample': 0.8}\n",
      "0.9430269423181243 {'colsample_bytree': 0.8, 'gamma': 1, 'max_depth': 5, 'min_child_weight': 10, 'subsample': 1.0}\n",
      "0.9146822574488176 {'colsample_bytree': 0.8, 'gamma': 1.5, 'max_depth': 3, 'min_child_weight': 1, 'subsample': 0.6}\n",
      "0.9195013360657385 {'colsample_bytree': 0.8, 'gamma': 1.5, 'max_depth': 3, 'min_child_weight': 1, 'subsample': 0.8}\n",
      "0.9177996102304462 {'colsample_bytree': 0.8, 'gamma': 1.5, 'max_depth': 3, 'min_child_weight': 1, 'subsample': 1.0}\n",
      "0.9050493239306452 {'colsample_bytree': 0.8, 'gamma': 1.5, 'max_depth': 3, 'min_child_weight': 5, 'subsample': 0.6}\n",
      "0.9041966528037289 {'colsample_bytree': 0.8, 'gamma': 1.5, 'max_depth': 3, 'min_child_weight': 5, 'subsample': 0.8}\n",
      "0.9158182146947139 {'colsample_bytree': 0.8, 'gamma': 1.5, 'max_depth': 3, 'min_child_weight': 5, 'subsample': 1.0}\n",
      "0.8917268398529323 {'colsample_bytree': 0.8, 'gamma': 1.5, 'max_depth': 3, 'min_child_weight': 10, 'subsample': 0.6}\n",
      "0.8948445944588432 {'colsample_bytree': 0.8, 'gamma': 1.5, 'max_depth': 3, 'min_child_weight': 10, 'subsample': 0.8}\n",
      "0.9005127277841399 {'colsample_bytree': 0.8, 'gamma': 1.5, 'max_depth': 3, 'min_child_weight': 10, 'subsample': 1.0}\n",
      "0.948979567235248 {'colsample_bytree': 0.8, 'gamma': 1.5, 'max_depth': 4, 'min_child_weight': 1, 'subsample': 0.6}\n",
      "0.9563522391658129 {'colsample_bytree': 0.8, 'gamma': 1.5, 'max_depth': 4, 'min_child_weight': 1, 'subsample': 0.8}\n",
      "0.9501119080626041 {'colsample_bytree': 0.8, 'gamma': 1.5, 'max_depth': 4, 'min_child_weight': 1, 'subsample': 1.0}\n",
      "0.9345235368573324 {'colsample_bytree': 0.8, 'gamma': 1.5, 'max_depth': 4, 'min_child_weight': 5, 'subsample': 0.6}\n",
      "0.9393430172985354 {'colsample_bytree': 0.8, 'gamma': 1.5, 'max_depth': 4, 'min_child_weight': 5, 'subsample': 0.8}\n",
      "0.939913607779318 {'colsample_bytree': 0.8, 'gamma': 1.5, 'max_depth': 4, 'min_child_weight': 5, 'subsample': 1.0}\n",
      "0.9121367006208185 {'colsample_bytree': 0.8, 'gamma': 1.5, 'max_depth': 4, 'min_child_weight': 10, 'subsample': 0.6}\n",
      "0.9229039840877584 {'colsample_bytree': 0.8, 'gamma': 1.5, 'max_depth': 4, 'min_child_weight': 10, 'subsample': 0.8}\n",
      "0.9206360878387881 {'colsample_bytree': 0.8, 'gamma': 1.5, 'max_depth': 4, 'min_child_weight': 10, 'subsample': 1.0}\n",
      "0.9586165189962429 {'colsample_bytree': 0.8, 'gamma': 1.5, 'max_depth': 5, 'min_child_weight': 1, 'subsample': 0.6}\n",
      "0.960599120004822 {'colsample_bytree': 0.8, 'gamma': 1.5, 'max_depth': 5, 'min_child_weight': 1, 'subsample': 0.8}\n",
      "0.9645679384405199 {'colsample_bytree': 0.8, 'gamma': 1.5, 'max_depth': 5, 'min_child_weight': 1, 'subsample': 1.0}\n",
      "0.9458646253993128 {'colsample_bytree': 0.8, 'gamma': 1.5, 'max_depth': 5, 'min_child_weight': 5, 'subsample': 0.6}\n",
      "0.948979567235248 {'colsample_bytree': 0.8, 'gamma': 1.5, 'max_depth': 5, 'min_child_weight': 5, 'subsample': 0.8}\n",
      "0.956916802282362 {'colsample_bytree': 0.8, 'gamma': 1.5, 'max_depth': 5, 'min_child_weight': 5, 'subsample': 1.0}\n",
      "0.9217712414361199 {'colsample_bytree': 0.8, 'gamma': 1.5, 'max_depth': 5, 'min_child_weight': 10, 'subsample': 0.6}\n",
      "0.9302742450726298 {'colsample_bytree': 0.8, 'gamma': 1.5, 'max_depth': 5, 'min_child_weight': 10, 'subsample': 0.8}\n",
      "0.941323609185703 {'colsample_bytree': 0.8, 'gamma': 1.5, 'max_depth': 5, 'min_child_weight': 10, 'subsample': 1.0}\n",
      "0.9180861109436844 {'colsample_bytree': 0.8, 'gamma': 2, 'max_depth': 3, 'min_child_weight': 1, 'subsample': 0.6}\n",
      "0.9226198943202139 {'colsample_bytree': 0.8, 'gamma': 2, 'max_depth': 3, 'min_child_weight': 1, 'subsample': 0.8}\n",
      "0.9172354489381792 {'colsample_bytree': 0.8, 'gamma': 2, 'max_depth': 3, 'min_child_weight': 1, 'subsample': 1.0}\n",
      "0.9053310027524963 {'colsample_bytree': 0.8, 'gamma': 2, 'max_depth': 3, 'min_child_weight': 5, 'subsample': 0.6}\n",
      "0.9095815000100455 {'colsample_bytree': 0.8, 'gamma': 2, 'max_depth': 3, 'min_child_weight': 5, 'subsample': 0.8}\n",
      "0.9109975287806641 {'colsample_bytree': 0.8, 'gamma': 2, 'max_depth': 3, 'min_child_weight': 5, 'subsample': 1.0}\n",
      "0.8911582584935609 {'colsample_bytree': 0.8, 'gamma': 2, 'max_depth': 3, 'min_child_weight': 10, 'subsample': 0.6}\n",
      "0.8968251863460109 {'colsample_bytree': 0.8, 'gamma': 2, 'max_depth': 3, 'min_child_weight': 10, 'subsample': 0.8}\n",
      "0.8925762963855906 {'colsample_bytree': 0.8, 'gamma': 2, 'max_depth': 3, 'min_child_weight': 10, 'subsample': 1.0}\n",
      "0.9438792116207584 {'colsample_bytree': 0.8, 'gamma': 2, 'max_depth': 4, 'min_child_weight': 1, 'subsample': 0.6}\n",
      "0.9441612922668918 {'colsample_bytree': 0.8, 'gamma': 2, 'max_depth': 4, 'min_child_weight': 1, 'subsample': 0.8}\n",
      "0.931974363610793 {'colsample_bytree': 0.8, 'gamma': 2, 'max_depth': 4, 'min_child_weight': 1, 'subsample': 1.0}\n",
      "0.9263066321097784 {'colsample_bytree': 0.8, 'gamma': 2, 'max_depth': 4, 'min_child_weight': 5, 'subsample': 0.6}\n",
      "0.9350901090952926 {'colsample_bytree': 0.8, 'gamma': 2, 'max_depth': 4, 'min_child_weight': 5, 'subsample': 0.8}\n",
      "0.9328254274405803 {'colsample_bytree': 0.8, 'gamma': 2, 'max_depth': 4, 'min_child_weight': 5, 'subsample': 1.0}\n",
      "0.9041970546280111 {'colsample_bytree': 0.8, 'gamma': 2, 'max_depth': 4, 'min_child_weight': 10, 'subsample': 0.6}\n",
      "0.9197842203604365 {'colsample_bytree': 0.8, 'gamma': 2, 'max_depth': 4, 'min_child_weight': 10, 'subsample': 0.8}\n",
      "0.9163843851083922 {'colsample_bytree': 0.8, 'gamma': 2, 'max_depth': 4, 'min_child_weight': 10, 'subsample': 1.0}\n",
      "0.9520973218411589 {'colsample_bytree': 0.8, 'gamma': 2, 'max_depth': 5, 'min_child_weight': 1, 'subsample': 0.6}\n",
      "0.958332027404416 {'colsample_bytree': 0.8, 'gamma': 2, 'max_depth': 5, 'min_child_weight': 1, 'subsample': 0.8}\n",
      "0.9523810097844212 {'colsample_bytree': 0.8, 'gamma': 2, 'max_depth': 5, 'min_child_weight': 1, 'subsample': 1.0}\n",
      "0.9407618588391298 {'colsample_bytree': 0.8, 'gamma': 2, 'max_depth': 5, 'min_child_weight': 5, 'subsample': 0.6}\n",
      "0.9447302754505454 {'colsample_bytree': 0.8, 'gamma': 2, 'max_depth': 5, 'min_child_weight': 5, 'subsample': 0.8}\n",
      "0.9404757599501737 {'colsample_bytree': 0.8, 'gamma': 2, 'max_depth': 5, 'min_child_weight': 5, 'subsample': 1.0}\n",
      "0.9195073634299721 {'colsample_bytree': 0.8, 'gamma': 2, 'max_depth': 5, 'min_child_weight': 10, 'subsample': 0.6}\n",
      "0.9243208165069415 {'colsample_bytree': 0.8, 'gamma': 2, 'max_depth': 5, 'min_child_weight': 10, 'subsample': 0.8}\n",
      "0.9305583348401744 {'colsample_bytree': 0.8, 'gamma': 2, 'max_depth': 5, 'min_child_weight': 10, 'subsample': 1.0}\n",
      "0.8891760593092641 {'colsample_bytree': 0.8, 'gamma': 5, 'max_depth': 3, 'min_child_weight': 1, 'subsample': 0.6}\n",
      "0.8928571715588772 {'colsample_bytree': 0.8, 'gamma': 5, 'max_depth': 3, 'min_child_weight': 1, 'subsample': 0.8}\n",
      "0.8843589898137543 {'colsample_bytree': 0.8, 'gamma': 5, 'max_depth': 3, 'min_child_weight': 1, 'subsample': 1.0}\n",
      "0.8846422759327346 {'colsample_bytree': 0.8, 'gamma': 5, 'max_depth': 3, 'min_child_weight': 5, 'subsample': 0.6}\n",
      "0.8866240732927491 {'colsample_bytree': 0.8, 'gamma': 5, 'max_depth': 3, 'min_child_weight': 5, 'subsample': 0.8}\n",
      "0.8852068390492838 {'colsample_bytree': 0.8, 'gamma': 5, 'max_depth': 3, 'min_child_weight': 5, 'subsample': 1.0}\n",
      "0.8835079259839672 {'colsample_bytree': 0.8, 'gamma': 5, 'max_depth': 3, 'min_child_weight': 10, 'subsample': 0.6}\n",
      "0.8803885640809274 {'colsample_bytree': 0.8, 'gamma': 5, 'max_depth': 3, 'min_child_weight': 10, 'subsample': 0.8}\n",
      "0.8752886102907198 {'colsample_bytree': 0.8, 'gamma': 5, 'max_depth': 3, 'min_child_weight': 10, 'subsample': 1.0}\n",
      "0.9047656359873827 {'colsample_bytree': 0.8, 'gamma': 5, 'max_depth': 4, 'min_child_weight': 1, 'subsample': 0.6}\n",
      "0.9112872440881603 {'colsample_bytree': 0.8, 'gamma': 5, 'max_depth': 4, 'min_child_weight': 1, 'subsample': 0.8}\n",
      "0.9036328933357443 {'colsample_bytree': 0.8, 'gamma': 5, 'max_depth': 4, 'min_child_weight': 1, 'subsample': 1.0}\n",
      "0.8954095593996746 {'colsample_bytree': 0.8, 'gamma': 5, 'max_depth': 4, 'min_child_weight': 5, 'subsample': 0.6}\n",
      "0.9050481184577984 {'colsample_bytree': 0.8, 'gamma': 5, 'max_depth': 4, 'min_child_weight': 5, 'subsample': 0.8}\n",
      "0.9027798203845459 {'colsample_bytree': 0.8, 'gamma': 5, 'max_depth': 4, 'min_child_weight': 5, 'subsample': 1.0}\n",
      "0.8914431519096698 {'colsample_bytree': 0.8, 'gamma': 5, 'max_depth': 4, 'min_child_weight': 10, 'subsample': 0.6}\n",
      "0.8897434351957887 {'colsample_bytree': 0.8, 'gamma': 5, 'max_depth': 4, 'min_child_weight': 10, 'subsample': 0.8}\n",
      "0.8843589898137545 {'colsample_bytree': 0.8, 'gamma': 5, 'max_depth': 4, 'min_child_weight': 10, 'subsample': 1.0}\n",
      "0.9118510035561449 {'colsample_bytree': 0.8, 'gamma': 5, 'max_depth': 5, 'min_child_weight': 1, 'subsample': 0.6}\n",
      "0.9197834167118719 {'colsample_bytree': 0.8, 'gamma': 5, 'max_depth': 5, 'min_child_weight': 1, 'subsample': 0.8}\n",
      "0.9107154481345308 {'colsample_bytree': 0.8, 'gamma': 5, 'max_depth': 5, 'min_child_weight': 1, 'subsample': 1.0}\n",
      "0.9047684487573584 {'colsample_bytree': 0.8, 'gamma': 5, 'max_depth': 5, 'min_child_weight': 5, 'subsample': 0.6}\n",
      "0.9121314769051494 {'colsample_bytree': 0.8, 'gamma': 5, 'max_depth': 5, 'min_child_weight': 5, 'subsample': 0.8}\n",
      "0.9135503184457437 {'colsample_bytree': 0.8, 'gamma': 5, 'max_depth': 5, 'min_child_weight': 5, 'subsample': 1.0}\n",
      "0.8979611435919072 {'colsample_bytree': 0.8, 'gamma': 5, 'max_depth': 5, 'min_child_weight': 10, 'subsample': 0.6}\n",
      "0.9027814276816748 {'colsample_bytree': 0.8, 'gamma': 5, 'max_depth': 5, 'min_child_weight': 10, 'subsample': 0.8}\n",
      "0.8990958953649569 {'colsample_bytree': 0.8, 'gamma': 5, 'max_depth': 5, 'min_child_weight': 10, 'subsample': 1.0}\n",
      "0.9285753320073132 {'colsample_bytree': 1.0, 'gamma': 0.5, 'max_depth': 3, 'min_child_weight': 1, 'subsample': 0.6}\n",
      "0.9302726377755007 {'colsample_bytree': 1.0, 'gamma': 0.5, 'max_depth': 3, 'min_child_weight': 1, 'subsample': 0.8}\n",
      "0.9263038193398028 {'colsample_bytree': 1.0, 'gamma': 0.5, 'max_depth': 3, 'min_child_weight': 1, 'subsample': 1.0}\n",
      "0.9084479537098428 {'colsample_bytree': 1.0, 'gamma': 0.5, 'max_depth': 3, 'min_child_weight': 5, 'subsample': 0.6}\n",
      "0.9180836999979908 {'colsample_bytree': 1.0, 'gamma': 0.5, 'max_depth': 3, 'min_child_weight': 5, 'subsample': 0.8}\n",
      "0.9118473871376047 {'colsample_bytree': 1.0, 'gamma': 0.5, 'max_depth': 3, 'min_child_weight': 5, 'subsample': 1.0}\n",
      "0.894280031342294 {'colsample_bytree': 1.0, 'gamma': 0.5, 'max_depth': 3, 'min_child_weight': 10, 'subsample': 0.6}\n",
      "0.9041978582765756 {'colsample_bytree': 1.0, 'gamma': 0.5, 'max_depth': 3, 'min_child_weight': 10, 'subsample': 0.8}\n",
      "0.9084495610069716 {'colsample_bytree': 1.0, 'gamma': 0.5, 'max_depth': 3, 'min_child_weight': 10, 'subsample': 1.0}\n",
      "0.9659871818053964 {'colsample_bytree': 1.0, 'gamma': 0.5, 'max_depth': 4, 'min_child_weight': 1, 'subsample': 0.6}\n",
      "0.9651325015570691 {'colsample_bytree': 1.0, 'gamma': 0.5, 'max_depth': 4, 'min_child_weight': 1, 'subsample': 0.8}\n",
      "0.9603122174673017 {'colsample_bytree': 1.0, 'gamma': 0.5, 'max_depth': 4, 'min_child_weight': 1, 'subsample': 1.0}\n",
      "0.9376424969360897 {'colsample_bytree': 1.0, 'gamma': 0.5, 'max_depth': 4, 'min_child_weight': 5, 'subsample': 0.6}\n",
      "0.9447290699776987 {'colsample_bytree': 1.0, 'gamma': 0.5, 'max_depth': 4, 'min_child_weight': 5, 'subsample': 0.8}\n",
      "0.9506820967191046 {'colsample_bytree': 1.0, 'gamma': 0.5, 'max_depth': 4, 'min_child_weight': 5, 'subsample': 1.0}\n",
      "0.915252044281036 {'colsample_bytree': 1.0, 'gamma': 0.5, 'max_depth': 4, 'min_child_weight': 10, 'subsample': 0.6}\n",
      "0.9274409820585457 {'colsample_bytree': 1.0, 'gamma': 0.5, 'max_depth': 4, 'min_child_weight': 10, 'subsample': 0.8}\n",
      "0.9305555220701986 {'colsample_bytree': 1.0, 'gamma': 0.5, 'max_depth': 4, 'min_child_weight': 10, 'subsample': 1.0}\n",
      "0.9742060956743617 {'colsample_bytree': 1.0, 'gamma': 0.5, 'max_depth': 5, 'min_child_weight': 1, 'subsample': 0.6}\n",
      "0.9725043698390694 {'colsample_bytree': 1.0, 'gamma': 0.5, 'max_depth': 5, 'min_child_weight': 1, 'subsample': 0.8}\n",
      "0.9733546300202921 {'colsample_bytree': 1.0, 'gamma': 0.5, 'max_depth': 5, 'min_child_weight': 1, 'subsample': 1.0}\n",
      "0.9532308681413619 {'colsample_bytree': 1.0, 'gamma': 0.5, 'max_depth': 5, 'min_child_weight': 5, 'subsample': 0.6}\n",
      "0.9611697104856047 {'colsample_bytree': 1.0, 'gamma': 0.5, 'max_depth': 5, 'min_child_weight': 5, 'subsample': 0.8}\n",
      "0.9640045807968175 {'colsample_bytree': 1.0, 'gamma': 0.5, 'max_depth': 5, 'min_child_weight': 5, 'subsample': 1.0}\n",
      "0.9248885942177486 {'colsample_bytree': 1.0, 'gamma': 0.5, 'max_depth': 5, 'min_child_weight': 10, 'subsample': 0.6}\n",
      "0.9438796134450407 {'colsample_bytree': 1.0, 'gamma': 0.5, 'max_depth': 5, 'min_child_weight': 10, 'subsample': 0.8}\n",
      "0.942175878488337 {'colsample_bytree': 1.0, 'gamma': 0.5, 'max_depth': 5, 'min_child_weight': 10, 'subsample': 1.0}\n",
      "0.9285757338315955 {'colsample_bytree': 1.0, 'gamma': 1, 'max_depth': 3, 'min_child_weight': 1, 'subsample': 0.6}\n",
      "0.9316926847889417 {'colsample_bytree': 1.0, 'gamma': 1, 'max_depth': 3, 'min_child_weight': 1, 'subsample': 0.8}\n",
      "0.9214855443714463 {'colsample_bytree': 1.0, 'gamma': 1, 'max_depth': 3, 'min_child_weight': 1, 'subsample': 1.0}\n",
      "0.9081646675908626 {'colsample_bytree': 1.0, 'gamma': 1, 'max_depth': 3, 'min_child_weight': 5, 'subsample': 0.6}\n",
      "0.9155309103329115 {'colsample_bytree': 1.0, 'gamma': 1, 'max_depth': 3, 'min_child_weight': 5, 'subsample': 0.8}\n",
      "0.9121306732565848 {'colsample_bytree': 1.0, 'gamma': 1, 'max_depth': 3, 'min_child_weight': 5, 'subsample': 1.0}\n",
      "0.8911582584935609 {'colsample_bytree': 1.0, 'gamma': 1, 'max_depth': 3, 'min_child_weight': 10, 'subsample': 0.6}\n",
      "0.903064713800655 {'colsample_bytree': 1.0, 'gamma': 1, 'max_depth': 3, 'min_child_weight': 10, 'subsample': 0.8}\n",
      "0.9013666043839029 {'colsample_bytree': 1.0, 'gamma': 1, 'max_depth': 3, 'min_child_weight': 10, 'subsample': 1.0}\n",
      "0.9617366845478473 {'colsample_bytree': 1.0, 'gamma': 1, 'max_depth': 4, 'min_child_weight': 1, 'subsample': 0.6}\n",
      "0.9614509874831736 {'colsample_bytree': 1.0, 'gamma': 1, 'max_depth': 4, 'min_child_weight': 1, 'subsample': 0.8}\n",
      "0.9549297812066783 {'colsample_bytree': 1.0, 'gamma': 1, 'max_depth': 4, 'min_child_weight': 1, 'subsample': 1.0}\n",
      "0.9359419765736444 {'colsample_bytree': 1.0, 'gamma': 1, 'max_depth': 4, 'min_child_weight': 5, 'subsample': 0.6}\n",
      "0.9450127579209612 {'colsample_bytree': 1.0, 'gamma': 1, 'max_depth': 4, 'min_child_weight': 5, 'subsample': 0.8}\n",
      "0.944727864504852 {'colsample_bytree': 1.0, 'gamma': 1, 'max_depth': 4, 'min_child_weight': 5, 'subsample': 1.0}\n",
      "0.9166676712273721 {'colsample_bytree': 1.0, 'gamma': 1, 'max_depth': 4, 'min_child_weight': 10, 'subsample': 0.6}\n",
      "0.9260217386936693 {'colsample_bytree': 1.0, 'gamma': 1, 'max_depth': 4, 'min_child_weight': 10, 'subsample': 0.8}\n",
      "0.928285616699817 {'colsample_bytree': 1.0, 'gamma': 1, 'max_depth': 4, 'min_child_weight': 10, 'subsample': 1.0}\n",
      "0.9679709882868222 {'colsample_bytree': 1.0, 'gamma': 1, 'max_depth': 5, 'min_child_weight': 1, 'subsample': 0.6}\n",
      "0.9705213670062083 {'colsample_bytree': 1.0, 'gamma': 1, 'max_depth': 5, 'min_child_weight': 1, 'subsample': 0.8}\n",
      "0.9642826432001286 {'colsample_bytree': 1.0, 'gamma': 1, 'max_depth': 5, 'min_child_weight': 1, 'subsample': 1.0}\n",
      "0.9501135153597332 {'colsample_bytree': 1.0, 'gamma': 1, 'max_depth': 5, 'min_child_weight': 5, 'subsample': 0.6}\n",
      "0.9614513893074557 {'colsample_bytree': 1.0, 'gamma': 1, 'max_depth': 5, 'min_child_weight': 5, 'subsample': 0.8}\n",
      "0.951814437546461 {'colsample_bytree': 1.0, 'gamma': 1, 'max_depth': 5, 'min_child_weight': 5, 'subsample': 1.0}\n",
      "0.9265895164044762 {'colsample_bytree': 1.0, 'gamma': 1, 'max_depth': 5, 'min_child_weight': 10, 'subsample': 0.6}\n",
      "0.9427440580234263 {'colsample_bytree': 1.0, 'gamma': 1, 'max_depth': 5, 'min_child_weight': 10, 'subsample': 0.8}\n",
      "0.9430285496152532 {'colsample_bytree': 1.0, 'gamma': 1, 'max_depth': 5, 'min_child_weight': 10, 'subsample': 1.0}\n",
      "0.9254543628071443 {'colsample_bytree': 1.0, 'gamma': 1.5, 'max_depth': 3, 'min_child_weight': 1, 'subsample': 0.6}\n",
      "0.9265867036345007 {'colsample_bytree': 1.0, 'gamma': 1.5, 'max_depth': 3, 'min_child_weight': 1, 'subsample': 0.8}\n",
      "0.9118506017318626 {'colsample_bytree': 1.0, 'gamma': 1.5, 'max_depth': 3, 'min_child_weight': 1, 'subsample': 1.0}\n",
      "0.9095827054828923 {'colsample_bytree': 1.0, 'gamma': 1.5, 'max_depth': 3, 'min_child_weight': 5, 'subsample': 0.6}\n",
      "0.9132666305024812 {'colsample_bytree': 1.0, 'gamma': 1.5, 'max_depth': 3, 'min_child_weight': 5, 'subsample': 0.8}\n",
      "0.9092994193639121 {'colsample_bytree': 1.0, 'gamma': 1.5, 'max_depth': 3, 'min_child_weight': 5, 'subsample': 1.0}\n",
      "0.8948449962831253 {'colsample_bytree': 1.0, 'gamma': 1.5, 'max_depth': 3, 'min_child_weight': 10, 'subsample': 0.6}\n",
      "0.903347999919635 {'colsample_bytree': 1.0, 'gamma': 1.5, 'max_depth': 3, 'min_child_weight': 10, 'subsample': 0.8}\n",
      "0.8965435075241597 {'colsample_bytree': 1.0, 'gamma': 1.5, 'max_depth': 3, 'min_child_weight': 10, 'subsample': 1.0}\n",
      "0.9501103007654754 {'colsample_bytree': 1.0, 'gamma': 1.5, 'max_depth': 4, 'min_child_weight': 1, 'subsample': 0.6}\n",
      "0.9515299459546339 {'colsample_bytree': 1.0, 'gamma': 1.5, 'max_depth': 4, 'min_child_weight': 1, 'subsample': 0.8}\n",
      "0.941326823779961 {'colsample_bytree': 1.0, 'gamma': 1.5, 'max_depth': 4, 'min_child_weight': 1, 'subsample': 1.0}\n",
      "0.9356606995760753 {'colsample_bytree': 1.0, 'gamma': 1.5, 'max_depth': 4, 'min_child_weight': 5, 'subsample': 0.6}\n",
      "0.9444465875072832 {'colsample_bytree': 1.0, 'gamma': 1.5, 'max_depth': 4, 'min_child_weight': 5, 'subsample': 0.8}\n",
      "0.936226066341189 {'colsample_bytree': 1.0, 'gamma': 1.5, 'max_depth': 4, 'min_child_weight': 5, 'subsample': 1.0}\n",
      "0.9121379060936652 {'colsample_bytree': 1.0, 'gamma': 1.5, 'max_depth': 4, 'min_child_weight': 10, 'subsample': 0.6}\n",
      "0.9248837723263618 {'colsample_bytree': 1.0, 'gamma': 1.5, 'max_depth': 4, 'min_child_weight': 10, 'subsample': 0.8}\n",
      "0.9254547646314266 {'colsample_bytree': 1.0, 'gamma': 1.5, 'max_depth': 4, 'min_child_weight': 10, 'subsample': 1.0}\n",
      "0.9560657384525747 {'colsample_bytree': 1.0, 'gamma': 1.5, 'max_depth': 5, 'min_child_weight': 1, 'subsample': 0.6}\n",
      "0.9645663311433911 {'colsample_bytree': 1.0, 'gamma': 1.5, 'max_depth': 5, 'min_child_weight': 1, 'subsample': 0.8}\n",
      "0.9518120266007676 {'colsample_bytree': 1.0, 'gamma': 1.5, 'max_depth': 5, 'min_child_weight': 1, 'subsample': 1.0}\n",
      "0.9506796857734112 {'colsample_bytree': 1.0, 'gamma': 1.5, 'max_depth': 5, 'min_child_weight': 5, 'subsample': 0.6}\n",
      "0.9566327125148174 {'colsample_bytree': 1.0, 'gamma': 1.5, 'max_depth': 5, 'min_child_weight': 5, 'subsample': 0.8}\n",
      "0.9376384786932673 {'colsample_bytree': 1.0, 'gamma': 1.5, 'max_depth': 5, 'min_child_weight': 5, 'subsample': 1.0}\n",
      "0.9220521166094067 {'colsample_bytree': 1.0, 'gamma': 1.5, 'max_depth': 5, 'min_child_weight': 10, 'subsample': 0.6}\n",
      "0.937356398047134 {'colsample_bytree': 1.0, 'gamma': 1.5, 'max_depth': 5, 'min_child_weight': 10, 'subsample': 0.8}\n",
      "0.9311212906595945 {'colsample_bytree': 1.0, 'gamma': 1.5, 'max_depth': 5, 'min_child_weight': 10, 'subsample': 1.0}\n",
      "0.9248922106362889 {'colsample_bytree': 1.0, 'gamma': 2, 'max_depth': 3, 'min_child_weight': 1, 'subsample': 0.6}\n",
      "0.9268724006991743 {'colsample_bytree': 1.0, 'gamma': 2, 'max_depth': 3, 'min_child_weight': 1, 'subsample': 0.8}\n",
      "0.8993755650653968 {'colsample_bytree': 1.0, 'gamma': 2, 'max_depth': 3, 'min_child_weight': 1, 'subsample': 1.0}\n",
      "0.9070319249392241 {'colsample_bytree': 1.0, 'gamma': 2, 'max_depth': 3, 'min_child_weight': 5, 'subsample': 0.6}\n",
      "0.9166692785245012 {'colsample_bytree': 1.0, 'gamma': 2, 'max_depth': 3, 'min_child_weight': 5, 'subsample': 0.8}\n",
      "0.893990316034798 {'colsample_bytree': 1.0, 'gamma': 2, 'max_depth': 3, 'min_child_weight': 5, 'subsample': 1.0}\n",
      "0.891157053020714 {'colsample_bytree': 1.0, 'gamma': 2, 'max_depth': 3, 'min_child_weight': 10, 'subsample': 0.6}\n",
      "0.8996600566572237 {'colsample_bytree': 1.0, 'gamma': 2, 'max_depth': 3, 'min_child_weight': 10, 'subsample': 0.8}\n",
      "0.8843565788680611 {'colsample_bytree': 1.0, 'gamma': 2, 'max_depth': 3, 'min_child_weight': 10, 'subsample': 1.0}\n",
      "0.947559520221807 {'colsample_bytree': 1.0, 'gamma': 2, 'max_depth': 4, 'min_child_weight': 1, 'subsample': 0.6}\n",
      "0.9478468245836096 {'colsample_bytree': 1.0, 'gamma': 2, 'max_depth': 4, 'min_child_weight': 1, 'subsample': 0.8}\n",
      "0.9257372471018422 {'colsample_bytree': 1.0, 'gamma': 2, 'max_depth': 4, 'min_child_weight': 1, 'subsample': 1.0}\n",
      "0.9299865388865449 {'colsample_bytree': 1.0, 'gamma': 2, 'max_depth': 4, 'min_child_weight': 5, 'subsample': 0.6}\n",
      "0.9421774857854659 {'colsample_bytree': 1.0, 'gamma': 2, 'max_depth': 4, 'min_child_weight': 5, 'subsample': 0.8}\n",
      "0.9217692323147088 {'colsample_bytree': 1.0, 'gamma': 2, 'max_depth': 4, 'min_child_weight': 5, 'subsample': 1.0}\n",
      "0.9084479537098428 {'colsample_bytree': 1.0, 'gamma': 2, 'max_depth': 4, 'min_child_weight': 10, 'subsample': 0.6}\n",
      "0.9229055913848875 {'colsample_bytree': 1.0, 'gamma': 2, 'max_depth': 4, 'min_child_weight': 10, 'subsample': 0.8}\n",
      "0.9058943603961988 {'colsample_bytree': 1.0, 'gamma': 2, 'max_depth': 4, 'min_child_weight': 10, 'subsample': 1.0}\n",
      "0.956916802282362 {'colsample_bytree': 1.0, 'gamma': 2, 'max_depth': 5, 'min_child_weight': 1, 'subsample': 0.6}\n",
      "0.9557808450364655 {'colsample_bytree': 1.0, 'gamma': 2, 'max_depth': 5, 'min_child_weight': 1, 'subsample': 0.8}\n",
      "0.9435927109075202 {'colsample_bytree': 1.0, 'gamma': 2, 'max_depth': 5, 'min_child_weight': 1, 'subsample': 1.0}\n",
      "0.9407638679605409 {'colsample_bytree': 1.0, 'gamma': 2, 'max_depth': 5, 'min_child_weight': 5, 'subsample': 0.6}\n",
      "0.9503984087758424 {'colsample_bytree': 1.0, 'gamma': 2, 'max_depth': 5, 'min_child_weight': 5, 'subsample': 0.8}\n",
      "0.9308388081891789 {'colsample_bytree': 1.0, 'gamma': 2, 'max_depth': 5, 'min_child_weight': 5, 'subsample': 1.0}\n",
      "0.9209229903763084 {'colsample_bytree': 1.0, 'gamma': 2, 'max_depth': 5, 'min_child_weight': 10, 'subsample': 0.6}\n",
      "0.9345227332087678 {'colsample_bytree': 1.0, 'gamma': 2, 'max_depth': 5, 'min_child_weight': 10, 'subsample': 0.8}\n",
      "0.9203576236111948 {'colsample_bytree': 1.0, 'gamma': 2, 'max_depth': 5, 'min_child_weight': 10, 'subsample': 1.0}\n",
      "0.8968316155345267 {'colsample_bytree': 1.0, 'gamma': 5, 'max_depth': 3, 'min_child_weight': 1, 'subsample': 0.6}\n",
      "0.9041978582765756 {'colsample_bytree': 1.0, 'gamma': 5, 'max_depth': 3, 'min_child_weight': 1, 'subsample': 0.8}\n",
      "0.8721652301448577 {'colsample_bytree': 1.0, 'gamma': 5, 'max_depth': 3, 'min_child_weight': 1, 'subsample': 1.0}\n",
      "0.8897450424929179 {'colsample_bytree': 1.0, 'gamma': 5, 'max_depth': 3, 'min_child_weight': 5, 'subsample': 0.6}\n",
      "0.8937094408615114 {'colsample_bytree': 1.0, 'gamma': 5, 'max_depth': 3, 'min_child_weight': 5, 'subsample': 0.8}\n",
      "0.8738681614529966 {'colsample_bytree': 1.0, 'gamma': 5, 'max_depth': 3, 'min_child_weight': 5, 'subsample': 1.0}\n",
      "0.8835071223354026 {'colsample_bytree': 1.0, 'gamma': 5, 'max_depth': 3, 'min_child_weight': 10, 'subsample': 0.6}\n",
      "0.8854901251682639 {'colsample_bytree': 1.0, 'gamma': 5, 'max_depth': 3, 'min_child_weight': 10, 'subsample': 0.8}\n",
      "0.8653659614650513 {'colsample_bytree': 1.0, 'gamma': 5, 'max_depth': 3, 'min_child_weight': 10, 'subsample': 1.0}\n",
      "0.9087352580716452 {'colsample_bytree': 1.0, 'gamma': 5, 'max_depth': 4, 'min_child_weight': 1, 'subsample': 0.6}\n",
      "0.9146834629216645 {'colsample_bytree': 1.0, 'gamma': 5, 'max_depth': 4, 'min_child_weight': 1, 'subsample': 0.8}\n",
      "0.8871946637735318 {'colsample_bytree': 1.0, 'gamma': 5, 'max_depth': 4, 'min_child_weight': 1, 'subsample': 1.0}\n",
      "0.8973937677053824 {'colsample_bytree': 1.0, 'gamma': 5, 'max_depth': 4, 'min_child_weight': 5, 'subsample': 0.6}\n",
      "0.91128362766962 {'colsample_bytree': 1.0, 'gamma': 5, 'max_depth': 4, 'min_child_weight': 5, 'subsample': 0.8}\n",
      "0.8795362947782935 {'colsample_bytree': 1.0, 'gamma': 5, 'max_depth': 4, 'min_child_weight': 5, 'subsample': 1.0}\n",
      "0.8883278082494526 {'colsample_bytree': 1.0, 'gamma': 5, 'max_depth': 4, 'min_child_weight': 10, 'subsample': 0.6}\n",
      "0.8988101983002833 {'colsample_bytree': 1.0, 'gamma': 5, 'max_depth': 4, 'min_child_weight': 10, 'subsample': 0.8}\n",
      "0.870745584955699 {'colsample_bytree': 1.0, 'gamma': 5, 'max_depth': 4, 'min_child_weight': 10, 'subsample': 1.0}\n",
      "0.9141188998051153 {'colsample_bytree': 1.0, 'gamma': 5, 'max_depth': 5, 'min_child_weight': 1, 'subsample': 0.6}\n",
      "0.9226170815502381 {'colsample_bytree': 1.0, 'gamma': 5, 'max_depth': 5, 'min_child_weight': 1, 'subsample': 0.8}\n",
      "0.9016474795571895 {'colsample_bytree': 1.0, 'gamma': 5, 'max_depth': 5, 'min_child_weight': 1, 'subsample': 1.0}\n",
      "0.9070295139935306 {'colsample_bytree': 1.0, 'gamma': 5, 'max_depth': 5, 'min_child_weight': 5, 'subsample': 0.6}\n",
      "0.9180832981737087 {'colsample_bytree': 1.0, 'gamma': 5, 'max_depth': 5, 'min_child_weight': 5, 'subsample': 0.8}\n",
      "0.8897430333715066 {'colsample_bytree': 1.0, 'gamma': 5, 'max_depth': 5, 'min_child_weight': 5, 'subsample': 1.0}\n",
      "0.896833624655938 {'colsample_bytree': 1.0, 'gamma': 5, 'max_depth': 5, 'min_child_weight': 10, 'subsample': 0.6}\n",
      "0.9050477166335161 {'colsample_bytree': 1.0, 'gamma': 5, 'max_depth': 5, 'min_child_weight': 10, 'subsample': 0.8}\n",
      "0.8820914953890664 {'colsample_bytree': 1.0, 'gamma': 5, 'max_depth': 5, 'min_child_weight': 10, 'subsample': 1.0}\n"
     ]
    }
   ],
   "source": [
    "cv_res2 = grid_search.cv_results_\n",
    "for mean_score, params in zip(cv_res2['mean_test_score'], cv_res2['params']):\n",
    "    print(mean_score, params)"
   ]
  },
  {
   "cell_type": "markdown",
   "metadata": {
    "cell_id": "a1fb9d46-4e2a-4e2a-9ad9-bd42cd7014d5",
    "deepnote_cell_height": 111.19999694824219,
    "deepnote_cell_type": "markdown",
    "tags": []
   },
   "source": [
    "Malgré le temps d'attente assez long (GridSearch peut prendre jusqu'à 45/50 minutes !), nous avons les paramètres optimaux pour notre modèle, avec, encore une fois, une précision qui dépasse toutes nos attentes (97% de fiabilité, donc il à environ 3% de chances de se tromper, ce qui est minime.)\n",
    "\n",
    "Nous pouvons désormais recréer notre modèle avec les paramètres optimaux, l'entraîner et l'exporter pour un usage prochain."
   ]
  },
  {
   "cell_type": "markdown",
   "metadata": {
    "cell_id": "f77df136-8237-4041-bb12-cff14bb8e04d",
    "deepnote_cell_height": 62,
    "deepnote_cell_type": "text-cell-h3",
    "is_collapsed": true,
    "tags": []
   },
   "source": [
    "### 6.2 Sauvegarde du modèle"
   ]
  },
  {
   "cell_type": "markdown",
   "metadata": {
    "cell_id": "57dda961-52e9-48c9-a720-a525993f9987",
    "deepnote_cell_type": "text-cell-p",
    "is_collapsed": false,
    "tags": []
   },
   "source": [
    "On peut sauvegarder et recharger un modèle grâce à&nbsp;joblib. C'est utile car il permet de garder l'état du modèle après entraînement, mais aussi lorsque cet entraînement à nécessité beaucoup de temps-machine."
   ]
  },
  {
   "cell_type": "code",
   "execution_count": null,
   "metadata": {
    "cell_id": "fa8e3640-0d42-4ccd-96d1-de5f38d635da",
    "deepnote_cell_type": "code",
    "deepnote_to_be_reexecuted": false,
    "execution_millis": 4473,
    "execution_start": 1647472113488,
    "source_hash": "38078944",
    "tags": []
   },
   "outputs": [
    {
     "data": {
      "text/plain": [
       "['test.pkl']"
      ]
     },
     "execution_count": 27,
     "metadata": {},
     "output_type": "execute_result"
    }
   ],
   "source": [
    "import joblib\n",
    "\n",
    "boost = xgb.XGBClassifier(random_state=42, objective=\"reg:logistic\", use_label_encoder=False, subsample = 1.0, min_child_weight = 1, max_depth = 5, gamma = 1, colsample_bytree = 0.6)\n",
    "# Le tester comme ça pour avoir les feature names\n",
    "boost.fit(X_train, y_train)\n",
    "\n",
    "joblib.dump(boost, \"test.pkl\")"
   ]
  },
  {
   "cell_type": "markdown",
   "metadata": {
    "cell_id": "19b448a9-3080-4aed-906a-d554d229e8dc",
    "deepnote_cell_height": 70,
    "deepnote_cell_type": "text-cell-h2",
    "is_collapsed": false,
    "tags": []
   },
   "source": [
    "## 7. Conclusion"
   ]
  },
  {
   "cell_type": "markdown",
   "metadata": {
    "cell_id": "0d84c1b1-7d30-4f7e-8e38-7e28da842c09",
    "deepnote_cell_height": 74.80000305175781,
    "deepnote_cell_type": "text-cell-p",
    "is_collapsed": false,
    "tags": []
   },
   "source": [
    "Ici, on va afficher les attributs permettant à notre algorithme de prédire si un employé va changer d'entreprise. Ces attributs seront triés par ordre d'importance."
   ]
  },
  {
   "cell_type": "code",
   "execution_count": null,
   "metadata": {
    "cell_id": "071e2558-b76f-409c-b1a4-42523d724172",
    "deepnote_cell_height": 796,
    "deepnote_cell_type": "code",
    "deepnote_output_heights": [
     21,
     611
    ],
    "deepnote_to_be_reexecuted": false,
    "execution_millis": 2683,
    "execution_start": 1647472117971,
    "source_hash": "de4b5348",
    "tags": []
   },
   "outputs": [
    {
     "data": {
      "text/plain": [
       "<AxesSubplot:title={'center':'Feature importance'}, xlabel='F score', ylabel='Features'>"
      ]
     },
     "execution_count": 28,
     "metadata": {},
     "output_type": "execute_result"
    },
    {
     "data": {
      "image/png": "[encoded data removed]",
      "text/plain": [
       "<Figure size 1080x1080 with 1 Axes>"
      ]
     },
     "metadata": {
      "image/png": {
       "height": 883,
       "width": 1108
      },
      "needs_background": "light"
     },
     "output_type": "display_data"
    }
   ],
   "source": [
    "test = joblib.load(\"test.pkl\")\n",
    "plt.rcParams[\"figure.figsize\"] = (15, 15)\n",
    "xgb.plot_importance(test)"
   ]
  },
  {
   "cell_type": "code",
   "execution_count": null,
   "metadata": {
    "cell_id": "51ba5e44-bb47-4d5d-8d5d-66fabc639b2c",
    "deepnote_cell_height": 1253,
    "deepnote_cell_type": "code",
    "deepnote_output_heights": [
     454
    ],
    "deepnote_to_be_reexecuted": false,
    "execution_millis": 412,
    "execution_start": 1647509891817,
    "source_hash": "88c56599",
    "tags": []
   },
   "outputs": [
    {
     "data": {
      "image/png": "[encoded data removed]",
      "text/plain": [
       "<Figure size 1296x504 with 1 Axes>"
      ]
     },
     "metadata": {
      "image/png": {
       "height": 452,
       "width": 1074
      },
      "needs_background": "light"
     },
     "output_type": "display_data"
    }
   ],
   "source": [
    "import seaborn as sns\n",
    "\n",
    "# Initialize a figure\n",
    "plt.figure(figsize = (18,7))\n",
    "\n",
    "fixed_dataframe.Age = pd.cut(fixed_dataframe.Age, range(10, 70, 10))\n",
    "    \n",
    "# Generate a countplot for the passed feature_name\n",
    "ax = sns.countplot(x=\"Age\", hue='Attrition', data=fixed_dataframe, palette='Set2')\n",
    "x_ticks = 'not_needed'\n",
    "        \n",
    "# set title, xlabel, ylabel, legend\n",
    "plt.xlabel(\"Age\",fontsize  = 14)\n",
    "plt.ylabel('Nombre employés',fontsize  = 14)\n",
    "plt.title('Age vs Attrition'.format(\"Age\"), fontsize = 18)\n",
    "plt.legend(fontsize = 14)\n",
    "\n",
    "# Check if custom x_tick is needed or not\n",
    "if x_ticks != 'not_needed':\n",
    "    # Generate index of xticks\n",
    "    ticks_index = [i for i in range(len(x_ticks))]\n",
    "        \n",
    "    # set new xticks by passing ticks_index and custom xtick labels \n",
    "    ax.set(xticks=ticks_index, xticklabels=x_ticks)\n",
    "\n",
    "# From axis.patches get bar lengths\n",
    "get_bars = ax.patches\n",
    "half_bar_length = int(len(get_bars)/2)\n",
    "bar_left = get_bars[:half_bar_length]\n",
    "bar_right = get_bars[half_bar_length:]\n",
    "    \n",
    "# Place %employees on top of each bar\n",
    "for L, R in zip(bar_left, bar_right):\n",
    "    left_height = L.get_height()\n",
    "    right_height = R.get_height()\n",
    "    length_total = left_height + right_height\n",
    "\n",
    "    # place calculated employee percentage on top of each bar\n",
    "    ax.text(L.get_x() + L.get_width()/2., left_height + 30, '{0:.0%}'.format(left_height/length_total), ha=\"center\")\n",
    "    ax.text(R.get_x() + R.get_width()/2., right_height + 30, '{0:.0%}'.format(right_height/length_total), ha=\"center\")"
   ]
  },
  {
   "cell_type": "markdown",
   "metadata": {
    "cell_id": "8280b874-cbc3-4b1c-9c52-53f4b1a33c6f",
    "deepnote_cell_height": 276.20001220703125,
    "deepnote_cell_type": "markdown",
    "tags": []
   },
   "source": [
    "Nous pouvons donc distinguer 4 grands facteurs considéré comme important par le modèle entraîné.\n",
    "\n",
    "Selon lui, le salaire, la distance travail-maison, l'âge ainsi que l'expérience de l'employé sont des facteurs importants sur lesquels l'entreprise pourrait travailler pour conserver ses employés et éviter le turn over de 15% chaque année.\n",
    "\n",
    "Nous proposons différentes pistes de solution :\n",
    "\n",
    "- Prise en charge partielle du coût du trajet travail-maison: pour aider les employés vivant loin du lieu de travail.\n",
    "- Revalorisation salariale vis-a-vis des prix du marché: pour garder les employés plus longtemps, mais aussi pour éviter qu'un employé \"trouve mieux ailleurs\".\n",
    "- En correspondance avec le graphique ci-dessus, nous pouvons travailler sur la rétention des plus jeunes employés en les fidélisant mieux via des évènements internes par exemple.\n",
    "- Donner des avantages aux employés ayant beaucoup d'expérience (promotions à un rang supérieur, augmentation de salaire proportionnelle à l'expérience etc...)"
   ]
  }
 ],
 "metadata": {
  "deepnote": {
   "is_reactive": false
  },
  "deepnote_execution_queue": [],
  "deepnote_notebook_id": "18d12b83-c133-4db3-87ae-3cf3571cc62a",
  "kernelspec": {
   "display_name": "Python 3 (ipykernel)",
   "language": "python",
   "name": "python3"
  },
  "language_info": {
   "codemirror_mode": {
    "name": "ipython",
    "version": 3
   },
   "file_extension": ".py",
   "mimetype": "text/x-python",
   "name": "python",
   "nbconvert_exporter": "python",
   "pygments_lexer": "ipython3",
   "version": "3.8.12"
  }
 },
 "nbformat": 4,
 "nbformat_minor": 2
}
